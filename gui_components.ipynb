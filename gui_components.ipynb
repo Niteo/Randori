{
 "cells": [
  {
   "cell_type": "code",
   "execution_count": 1,
   "metadata": {},
   "outputs": [],
   "source": [
    "import os\n",
    "import ipywidgets as widgets\n",
    "from IPython.display import display, clear_output, HTML"
   ]
  },
  {
   "cell_type": "code",
   "execution_count": 2,
   "metadata": {},
   "outputs": [
    {
     "data": {
      "application/javascript": [
       "IPython.OutputArea.auto_scroll_threshold = 9999;"
      ],
      "text/plain": [
       "<IPython.core.display.Javascript object>"
      ]
     },
     "metadata": {},
     "output_type": "display_data"
    }
   ],
   "source": [
    "%%javascript\n",
    "IPython.OutputArea.auto_scroll_threshold = 9999;"
   ]
  },
  {
   "cell_type": "code",
   "execution_count": 3,
   "metadata": {},
   "outputs": [
    {
     "data": {
      "text/html": [
       "<style>\n",
       ".jupyter-widgets.widget-tab > .p-TabBar .p-TabBar-tab {\n",
       "    flex: 0 1 180px\n",
       "}\n",
       "</style>"
      ],
      "text/plain": [
       "<IPython.core.display.HTML object>"
      ]
     },
     "metadata": {},
     "output_type": "display_data"
    }
   ],
   "source": [
    "%%html\n",
    "<style>\n",
    ".jupyter-widgets.widget-tab > .p-TabBar .p-TabBar-tab {\n",
    "    flex: 0 1 180px\n",
    "}\n",
    "</style>"
   ]
  },
  {
   "cell_type": "code",
   "execution_count": 4,
   "metadata": {},
   "outputs": [],
   "source": [
    "#Variable initialization\n",
    "\n",
    "current_dist_index = 0\n",
    "\n",
    "#noise_removal_filter = NoiseRemovalFilter.NoiseRemovalFilter()\n",
    "\n",
    "#Default values\n",
    "population_size = 100 # Participant per experiment\n",
    "initial_budget = 10.\n",
    "number_experiments = 10 # Times to run the experiment\n",
    "json_name = 'blood.json'\n",
    "\n",
    "# Parameters for output graphs\n",
    "output_folder = 'output/'\n",
    "output_format = 'eps'\n",
    "label_font_size=8\n",
    "xlabel_rotation = 10\n",
    "ylimit=[0,50]"
   ]
  },
  {
   "cell_type": "code",
   "execution_count": 5,
   "metadata": {},
   "outputs": [],
   "source": [
    "json_files = filter(lambda x: x.lower().endswith('.json'), [f for f in os.listdir('.')])\n",
    "\n",
    "file_selection = widgets.Select(\n",
    "    options=json_files,\n",
    "    value=json_name,\n",
    "    disabled=False\n",
    ")\n",
    "\n",
    "precision_text = widgets.BoundedIntText(value=2,\n",
    "    disabled=False,\n",
    "    step = 1,\n",
    "    min=0)\n",
    "\n",
    "epsilon_text = widgets.BoundedFloatText(\n",
    "    value=initial_budget,\n",
    "    disabled=False,\n",
    "    readout=True,\n",
    "    readout_format='.'+str(precision_text.value)+'f',\n",
    "    step = 10**-precision_text.value,\n",
    "    min = 10**-precision_text.value\n",
    ")\n",
    "\n",
    "number_experiments_text = widgets.BoundedIntText(\n",
    "    value=number_experiments,\n",
    "    disabled=False,\n",
    "    step = 1,\n",
    "    min=1)\n",
    "\n",
    "output_folder_text = widgets.Text(\n",
    "    value=output_folder,\n",
    "    placeholder='Folder for output',\n",
    "    disabled=False\n",
    ")\n",
    "\n",
    "output_format_selection = widgets.Select(\n",
    "    options=['eps', 'png', 'pdf', 'svg'],\n",
    "    value=output_format,\n",
    "    disabled=False\n",
    ")\n",
    "\n",
    "load_button = widgets.Button(\n",
    "    description='Load JSON',\n",
    "    disabled=False,\n",
    "    button_style='info', # 'success', 'info', 'warning', 'danger' or ''\n",
    "    icon='hourglass-start'\n",
    ")\n",
    "\n",
    "dist_accordion = widgets.Accordion()\n",
    "dist_accordion.layout.padding = '0% 0% 5% 1%'\n",
    "dist_accordion.layout.width = '99%'\n",
    "\n",
    "json_box = widgets.VBox([widgets.Label('Input JSON:'),file_selection, load_button])\n",
    "json_box.layout.align_items='center'\n",
    "exp_box = widgets.VBox([widgets.Label('Number of Experiments'),number_experiments_text])\n",
    "exp_box.layout.align_items='center'\n",
    "epsilon_box = widgets.VBox([widgets.Label('Total Privacy Budget:'), epsilon_text])\n",
    "epsilon_box.layout.align_items='center'\n",
    "\n",
    "params_box = widgets.HBox([json_box, exp_box, epsilon_box])\n",
    "params_box.layout.align_items='flex-start'\n",
    "\n",
    "precison_box = widgets.VBox([widgets.Label('Precision:'), precision_text])\n",
    "precison_box.layout.align_items='center'\n",
    "folder_box = widgets.VBox([widgets.Label('Output Folder:'), output_folder_text])\n",
    "folder_box.layout.align_items='center'\n",
    "format_box = widgets.VBox([widgets.Label('Output Format:'), output_format_selection])\n",
    "format_box.layout.align_items='center'\n",
    "\n",
    "output_box = widgets.HBox([precison_box, folder_box, format_box])\n",
    "output_box.layout.align_items='flex-start'\n",
    "\n",
    "start_tab = widgets.Tab()\n",
    "tab_contents = ['Experiment Parameters', 'Output Options']\n",
    "children = [params_box, output_box]\n",
    "start_tab.children = children\n",
    "for i in range(len(tab_contents)):\n",
    "    start_tab.set_title(i, tab_contents[i])\n",
    "    \n",
    "run_button = widgets.Button(\n",
    "    description='Run Experiments',\n",
    "    disabled=False,\n",
    "    button_style='success', # 'success', 'info', 'warning', 'danger' or ''\n",
    "    icon='check'\n",
    ")\n",
    "\n",
    "run_box = widgets.VBox([run_button])\n",
    "run_box.layout.width='99%'\n",
    "run_box.layout.align_items='center'\n",
    "\n",
    "\n",
    "number_html = widgets.HTML()\n",
    "\n",
    "toggle_button = widgets.ToggleButton(\n",
    "    description='Switch Mode',\n",
    "    disabled=False,\n",
    "    value=False,\n",
    "    button_style='warning', # 'success', 'info', 'warning', 'danger' or ''\n",
    "    icon='edit'\n",
    ")   \n",
    "\n",
    "toggle_box = widgets.VBox([toggle_button])\n",
    "toggle_box.layout.width = '99%'\n",
    "toggle_box.layout.align_items = 'center'"
   ]
  },
  {
   "cell_type": "code",
   "execution_count": 6,
   "metadata": {},
   "outputs": [],
   "source": [
    "# GUI elements\n",
    "uniform_buttons = []\n",
    "draw_buttons = []\n",
    "shape_sliders = []\n",
    "\n",
    "sliders_precision = 4\n",
    "\n",
    "dists = ['Custom', 'Geom', 'Logser', 'Planck', 'Uniform', 'Zipf']\n",
    "dist_maps = []\n",
    "dropdowns = []\n",
    "\n",
    "sliders_matrix = []\n",
    "custom_sliders = []\n",
    "texts = []\n",
    "\n",
    "dist_boxes = []\n",
    "\n",
    "out = widgets.Output()\n",
    "out.layout.align_items = 'center'\n",
    "fig = None"
   ]
  }
 ],
 "metadata": {
  "kernelspec": {
   "display_name": "Python 2",
   "language": "python",
   "name": "python2"
  },
  "language_info": {
   "codemirror_mode": {
    "name": "ipython",
    "version": 2
   },
   "file_extension": ".py",
   "mimetype": "text/x-python",
   "name": "python",
   "nbconvert_exporter": "python",
   "pygments_lexer": "ipython2",
   "version": "2.7.17"
  }
 },
 "nbformat": 4,
 "nbformat_minor": 2
}
