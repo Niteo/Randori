{
 "cells": [
  {
   "cell_type": "code",
   "execution_count": 1,
   "metadata": {},
   "outputs": [],
   "source": [
    "import json\n",
    "import itertools\n",
    "from fractions import Fraction\n",
    "import numpy as np\n",
    "import pandas\n",
    "import seaborn as sns\n",
    "\n",
    "from textwrap import wrap\n",
    "\n",
    "import ipykernel\n",
    "import matplotlib\n",
    "    \n",
    "import matplotlib.pyplot as plt\n",
    "\n",
    "#GUI elements\n",
    "import ipywidgets as widgets\n",
    "from IPython.display import display, clear_output, HTML"
   ]
  },
  {
   "cell_type": "code",
   "execution_count": 2,
   "metadata": {},
   "outputs": [
    {
     "name": "stderr",
     "output_type": "stream",
     "text": [
      "\n",
      "----------------------------------------------------------------------\n",
      "Ran 0 tests in 0.000s\n",
      "\n",
      "OK\n"
     ]
    }
   ],
   "source": [
    "%run logic.ipynb\n",
    "%run participant.ipynb"
   ]
  },
  {
   "cell_type": "code",
   "execution_count": 3,
   "metadata": {},
   "outputs": [
    {
     "data": {
      "application/javascript": [
       "IPython.OutputArea.auto_scroll_threshold = 9999;"
      ],
      "text/plain": [
       "<IPython.core.display.Javascript object>"
      ]
     },
     "metadata": {},
     "output_type": "display_data"
    }
   ],
   "source": [
    "%%javascript\n",
    "IPython.OutputArea.auto_scroll_threshold = 9999;"
   ]
  },
  {
   "cell_type": "code",
   "execution_count": 4,
   "metadata": {},
   "outputs": [],
   "source": [
    "#Example JSON\n",
    "root_question = {'qid':0,\n",
    "'question': 'Q1',\n",
    "'answers': ['A','B','C'],\n",
    "'probability': ['1/3','1/3','1/3']}\n",
    "\n",
    "follow_up_1 = {'qid':1,\n",
    "'question': 'Follow-up...',\n",
    "'answers': ['1','2','3','4','5'],\n",
    "'probability': ['1/5','1/5','1/5','1/5','1/5']}\n",
    "\n",
    "paths = [[0,'C',1]]\n",
    "\n",
    "json_poll = {\n",
    "    'roots': [root_question],\n",
    "    'children': [follow_up_1],\n",
    "    'paths':paths,\n",
    "    'truth':['1/4']\n",
    "}"
   ]
  },
  {
   "cell_type": "code",
   "execution_count": 5,
   "metadata": {},
   "outputs": [],
   "source": [
    "answer_dist = {}\n",
    "poll_name = ''"
   ]
  },
  {
   "cell_type": "code",
   "execution_count": 6,
   "metadata": {},
   "outputs": [],
   "source": [
    "def loadJSON(change):\n",
    "    global json_poll\n",
    "    global poll_name\n",
    "    poll_name = file_selection.value \n",
    "    json_poll = getJSON(poll_name)\n",
    "\n",
    "def getJSON(name):\n",
    "    # Read JSON from files\n",
    "    json_file = open(name, 'r')\n",
    "    json_content = json_file.read()\n",
    "    return json.loads(json_content)"
   ]
  },
  {
   "cell_type": "code",
   "execution_count": 7,
   "metadata": {},
   "outputs": [],
   "source": [
    "def update_dist(change):\n",
    "    \n",
    "    current_accordion = dist_accordion.children[dist_accordion.selected_index]\n",
    "    dropdown = current_accordion.children[1]\n",
    "    active_sliders = current_accordion.children[2].children\n",
    "    \n",
    "    if dropdown.value != 'Custom':\n",
    "        shape_slider = current_accordion.children[3]\n",
    "\n",
    "        # Draw values from dist\n",
    "        values = distMap[dropdown.value](len(active_sliders),shape_slider.value)\n",
    "\n",
    "        for slider in active_sliders:\n",
    "\n",
    "            index = active_sliders.index(slider)\n",
    "            slider.value = np.round(values[index], decimals=sliders_precision)\n",
    "            \n",
    "     \n",
    "    #Save values\n",
    "    for slider in active_sliders:\n",
    "        index = active_sliders.index(slider)\n",
    "        answer_dist[dist_accordion.selected_index][index][dropdown.value] = slider.value\n",
    "\n",
    "        "
   ]
  },
  {
   "cell_type": "code",
   "execution_count": 8,
   "metadata": {},
   "outputs": [],
   "source": [
    "def dropdown_action(change):\n",
    "    current_accordion = dist_accordion.children[dist_accordion.selected_index]\n",
    "    dropdown = current_accordion.children[1]\n",
    "    shape_slider = current_accordion.children[3]\n",
    "    shape_slider.hold_trait_notifications()\n",
    "\n",
    "    # Update the shape slider according to the chosen distribution\n",
    "    if(dropdown.value is 'Uniform' or dropdown.value is 'Custom'):\n",
    "        shape_slider.disabled=True\n",
    "        shape_slider.layout.visibility='hidden'\n",
    "    else:\n",
    "\n",
    "        if(dropdown.value is 'Geom'):\n",
    "            shape_slider.step = 0.01\n",
    "            shape_slider.min = 0. + shape_slider.step\n",
    "            shape_slider.max = 1.\n",
    "            shape_slider.value = 0.5\n",
    "        elif(dropdown.value is 'Logser'):\n",
    "            shape_slider.step = 0.01\n",
    "            shape_slider.min = 0. + shape_slider.step\n",
    "            shape_slider.max = 1. - shape_slider.step\n",
    "            shape_slider.value = 0.6\n",
    "        elif(dropdown.value is 'Planck'):\n",
    "            shape_slider.step = 0.01\n",
    "            shape_slider.min = 0. + shape_slider.step\n",
    "            shape_slider.max = 1.\n",
    "            shape_slider.value = 0.51\n",
    "        elif(dropdown.value is 'Zipf'):\n",
    "            shape_slider.max = 10.\n",
    "            shape_slider.step = 0.01\n",
    "            shape_slider.min = 1. + shape_slider.step\n",
    "            shape_slider.value = 1.5\n",
    "\n",
    "        shape_slider.disabled=False\n",
    "        shape_slider.layout.visibility='visible'\n",
    "        \n",
    "    #Reset values\n",
    "    active_sliders = current_accordion.children[2].children   \n",
    "     \n",
    "    for slider in active_sliders:\n",
    "        index = active_sliders.index(slider)\n",
    "        \n",
    "        val = dropdown.value\n",
    "        if val not in answer_dist[dist_accordion.selected_index][index].keys():\n",
    "            update_dist(None)\n",
    "        slider.value = answer_dist[dist_accordion.selected_index][index][val]"
   ]
  },
  {
   "cell_type": "code",
   "execution_count": 9,
   "metadata": {},
   "outputs": [
    {
     "data": {
      "application/javascript": [
       "IPython.OutputArea.auto_scroll_threshold = 9999;"
      ],
      "text/plain": [
       "<IPython.core.display.Javascript object>"
      ]
     },
     "metadata": {},
     "output_type": "display_data"
    },
    {
     "data": {
      "text/html": [
       "<style>\n",
       ".jupyter-widgets.widget-tab > .p-TabBar .p-TabBar-tab {\n",
       "    flex: 0 1 180px\n",
       "}\n",
       "</style>"
      ],
      "text/plain": [
       "<IPython.core.display.HTML object>"
      ]
     },
     "metadata": {},
     "output_type": "display_data"
    }
   ],
   "source": [
    "%run gui_components.ipynb"
   ]
  },
  {
   "cell_type": "code",
   "execution_count": 10,
   "metadata": {},
   "outputs": [
    {
     "data": {
      "application/vnd.jupyter.widget-view+json": {
       "model_id": "59743c2969d84f4e8fd4e2427bed5a62",
       "version_major": 2,
       "version_minor": 0
      },
      "text/plain": [
       "HTML(value=u'<center><h1> Choose Parameters')"
      ]
     },
     "metadata": {},
     "output_type": "display_data"
    },
    {
     "data": {
      "application/vnd.jupyter.widget-view+json": {
       "model_id": "b5de62259ec245f18e61e15eaa34c338",
       "version_major": 2,
       "version_minor": 0
      },
      "text/plain": [
       "VGFiKGNoaWxkcmVuPShIQm94KGNoaWxkcmVuPShWQm94KGNoaWxkcmVuPShMYWJlbCh2YWx1ZT11J0lucHV0IEpTT046JyksIFNlbGVjdChpbmRleD0yLCBvcHRpb25zPSgncHVyY2hhc2UuanPigKY=\n"
      ]
     },
     "metadata": {},
     "output_type": "display_data"
    }
   ],
   "source": [
    "display(widgets.HTML('<center><h1> Choose Parameters'))\n",
    "load_button.on_click(loadJSON)\n",
    "display(start_tab)"
   ]
  },
  {
   "cell_type": "code",
   "execution_count": 11,
   "metadata": {},
   "outputs": [],
   "source": [
    "load_button.click()"
   ]
  },
  {
   "cell_type": "code",
   "execution_count": 12,
   "metadata": {},
   "outputs": [],
   "source": [
    "poll_info = parsePoll(json_poll)\n",
    "subtrees=poll_info['subtrees']\n",
    "matrices=poll_info['matrices']\n",
    "lookup = poll_info['lookup']\n",
    "ps = poll_info['paths']\n",
    "epsilons = poll_info['epsilons']"
   ]
  },
  {
   "cell_type": "code",
   "execution_count": 13,
   "metadata": {},
   "outputs": [],
   "source": [
    "# Distribution sliders per question (non-flattened)\n",
    "children = []\n",
    "\n",
    "c = 0\n",
    "order = {}\n",
    "for question in subtrees:\n",
    "    for subquestion in subtrees[question]:\n",
    "        count = 0\n",
    "        dist_accordion.set_title(c, 'Question: '+subquestion['question'])\n",
    "        order[subquestion['qid']] = c\n",
    "        html = widgets.HTML('<h3>Choose weight distribution...</h3>')\n",
    "        to_add = []\n",
    "        answer_dist[c] = {}\n",
    "        \n",
    "        \n",
    "        for answer in subquestion['answers']:\n",
    "            probability = subquestion['probability'][count]\n",
    "            to_add.append(widgets.FloatSlider(\n",
    "                value=probability,\n",
    "                min=0,\n",
    "                max=1.0,\n",
    "                step=0.01,\n",
    "                description=answer,\n",
    "                disabled=False,\n",
    "                continuous_update=False,\n",
    "                orientation='vertical',\n",
    "                readout=True,\n",
    "                readout_format='.1f',\n",
    "            ))\n",
    "            answer_dist[c][count] = {'Custom': probability}\n",
    "            count +=1\n",
    "        \n",
    "        #Components\n",
    "        _shape_slider = widgets.FloatSlider(min=0., max=5., step=0.1, value=0., continuous_update=False, description='Shape', disabled=True) \n",
    "        _dropdown = widgets.Dropdown(options=dists, value='Custom', description='Distribution:', disabled=False)\n",
    "        _button = widgets.Button(description='Update weights', icon='fa-bar-chart', button_style='success')\n",
    "        \n",
    "        #Actions\n",
    "        _button.on_click(update_dist)\n",
    "        _dropdown.observe(dropdown_action)\n",
    "        \n",
    "        contents =[html, _dropdown, widgets.HBox(to_add),_shape_slider, _button]\n",
    "        children.append( widgets.VBox(contents))\n",
    "        c += 1\n",
    "        \n",
    "dist_accordion.children = children\n",
    "dist_box = widgets.VBox([dist_accordion])"
   ]
  },
  {
   "cell_type": "code",
   "execution_count": 14,
   "metadata": {},
   "outputs": [
    {
     "data": {
      "application/vnd.jupyter.widget-view+json": {
       "model_id": "001d648db58b4393a11bce536520b64f",
       "version_major": 2,
       "version_minor": 0
      },
      "text/plain": [
       "HTML(value=u'<center><h1> Set <i>True</i> Answer Distribution</h1></center>')"
      ]
     },
     "metadata": {},
     "output_type": "display_data"
    },
    {
     "data": {
      "application/vnd.jupyter.widget-view+json": {
       "model_id": "98c33c651e684355b13a35ceadf11f25",
       "version_major": 2,
       "version_minor": 0
      },
      "text/plain": [
       "QWNjb3JkaW9uKGNoaWxkcmVuPShWQm94KGNoaWxkcmVuPShIVE1MKHZhbHVlPXUnPGgzPkNob29zZSB3ZWlnaHQgZGlzdHJpYnV0aW9uLi4uPC9oMz4nKSwgRHJvcGRvd24oZGVzY3JpcHRpb27igKY=\n"
      ]
     },
     "metadata": {},
     "output_type": "display_data"
    }
   ],
   "source": [
    "display(widgets.HTML('<center><h1> Set <i>True</i> Answer Distribution</h1></center>'))\n",
    "display(dist_accordion)\n",
    "dropdown_action(None)"
   ]
  },
  {
   "cell_type": "code",
   "execution_count": 15,
   "metadata": {},
   "outputs": [],
   "source": [
    "selected = {}\n",
    "for question in subtrees:\n",
    "    selected[question] = {}\n",
    "    for subquestion in subtrees[question]:\n",
    "        selected[question][subquestion['qid']] = []\n",
    "        qid = order[subquestion['qid']]\n",
    "        current_box = dist_accordion.children[qid].children\n",
    "        current_dropdown = current_box[1]\n",
    "        current_sliders = current_box[2].children\n",
    "  \n",
    "        #NORMALIZE SLIDER VALUES BEFORE MOVING ON\n",
    "        normalize_by = 0\n",
    "        for slider in current_sliders:\n",
    "            index = current_sliders.index(slider)\n",
    "            normalize_by+= answer_dist[qid][index][current_dropdown.value]\n",
    "\n",
    "        for slider in current_sliders:\n",
    "            index = current_sliders.index(slider)\n",
    "            value = answer_dist[qid][index][current_dropdown.value]/normalize_by\n",
    "            selected[question][subquestion['qid']].append(value)\n",
    "            \n",
    "\n",
    "\n",
    "# Find matching path\n",
    "# {qid: (Path, Fraction)}"
   ]
  },
  {
   "cell_type": "code",
   "execution_count": 16,
   "metadata": {},
   "outputs": [],
   "source": [
    "# Turn slides to JSON, then parse to find path-weight pairs\n",
    "\n",
    "#FIXME: Don't overwrite actual json_poll, do deep copy!\n",
    " \n",
    "dist_poll = getJSON(poll_name)\n",
    "\n",
    "for question in subtrees:\n",
    "    root = filter(lambda x: x['qid']==question, dist_poll['roots'])[0]\n",
    "    root['probability'] = selected[question][question]\n",
    "    \n",
    "    for subquestion in subtrees[question]:\n",
    "        # Roots have already been added, will also return empty list so ignore\n",
    "        question_struct = filter(lambda x: x['qid']==subquestion['qid'], dist_poll['children'])\n",
    "        if len(question_struct) > 0:\n",
    "            question_struct[0]['probability'] = selected[question][subquestion['qid']]\n",
    "            \n",
    "weights = parsePoll(dist_poll)['weighted_paths']"
   ]
  },
  {
   "cell_type": "code",
   "execution_count": 17,
   "metadata": {},
   "outputs": [],
   "source": [
    "# Add widget"
   ]
  },
  {
   "cell_type": "code",
   "execution_count": 26,
   "metadata": {},
   "outputs": [],
   "source": [
    "participants = []\n",
    "n = 10000\n",
    "participant_budget = 40\n",
    "runs = 10\n",
    "data = {}\n",
    "\n",
    "#Populate data structure\n",
    "for question in subtrees.keys():\n",
    "    data[question]={'error_relative': {}, 'error_absolute':{}}\n",
    "\n",
    "    for alternative in ps[question]:\n",
    "        data[question]['error_relative'][pathToKey(alternative)] = []\n",
    "        data[question]['error_absolute'][pathToKey(alternative)] = []\n",
    "\n",
    "#TODO: Loop x times for confidence\n",
    "for run in range(0, runs):\n",
    "    raw_responses = []\n",
    "    real_answers = []\n",
    "\n",
    "    #Initialize partitipants and run RR\n",
    "    for i in range(0, n):\n",
    "        new_participant = Participant(participant_budget, json_poll)\n",
    "        new_participant.setMatrices(matrices)\n",
    "        new_participant.setEpsilons(epsilons)\n",
    "        new_participant.createAnswers(weights)\n",
    "\n",
    "        real_answers.append(dict(new_participant.getAnswer())) #Beware: deep copy required!\n",
    "        raw_responses.append(new_participant.randomizedResponse())\n",
    "\n",
    "        participants.append(new_participant)\n",
    "\n",
    "    # Parse responses\n",
    "    lists_responses = {}\n",
    "    lists_answer = {}\n",
    "    for question in subtrees.keys():\n",
    "        lists_responses[question] = map(lambda x: pathToKey(x[question]), raw_responses)\n",
    "        lists_answer[question] = map(lambda x: pathToKey(x[question]), real_answers)\n",
    "\n",
    "    response_frame = pd.DataFrame(lists_responses)\n",
    "    response_frequency = {}\n",
    "    answer_frame = pd.DataFrame(lists_answer)\n",
    "    answer_frequency = {}\n",
    "\n",
    "    #Count occurences\n",
    "    for question in subtrees.keys():\n",
    "        response_frequency[question] = {}\n",
    "        answer_frequency[question] = {}\n",
    "\n",
    "        to_match = pd.unique(response_frame[question])\n",
    "        for match in to_match:\n",
    "            response_frequency[question][match] = len(response_frame[response_frame[question]==match])\n",
    "            answer_frequency[question][match] = len(answer_frame[answer_frame[question]==match])\n",
    "\n",
    "    \n",
    "            \n",
    "    #Filter with Bayes' theorem\n",
    "    for question in response_frequency.keys():\n",
    "        #P(True)\n",
    "        p_true = Fraction(lookup[question]['truth'])\n",
    "\n",
    "        #Bayes' theorem: p(A|True) = p(True|A)*p(A) / p(True)\n",
    "        for alternative in response_frequency[question].keys():\n",
    "            transition = (alternative, alternative)\n",
    "            #p(True|A), Probability of not changing answer\n",
    "            p_true_given_a = matrices[question][transition]\n",
    "            #p(A), Actual responses\n",
    "            p_a = Fraction((response_frequency[question][alternative]),len(participants)) #Convert to %\n",
    "\n",
    "            #p(A|True) = p(True|A)*p(A) / p(True)\n",
    "            p_a_given_true = (p_true_given_a*p_a)/p_true\n",
    "\n",
    "            # Save percentage and use on pop!\n",
    "            true_a = float(p_a_given_true*p_true)*response_frequency[question][alternative]\n",
    "            \n",
    "            ### Calculate error from ground truth\n",
    "            real_percentage = float(answer_frequency[question][alternative])/len(participants)\n",
    "\n",
    "            abs_diff = abs(p_a_given_true-real_percentage)\n",
    "            rel_diff = 100\n",
    "            if real_percentage != 0:\n",
    "                rel_diff = abs_diff/real_percentage\n",
    "            \n",
    "            data[question]['error_relative'][alternative].append(rel_diff)\n",
    "            data[question]['error_absolute'][alternative].append(abs_diff)"
   ]
  },
  {
   "cell_type": "code",
   "execution_count": 29,
   "metadata": {},
   "outputs": [],
   "source": [
    "#TODO: parse back from paths to alternatives!\n",
    "#TODO: display graphs"
   ]
  },
  {
   "cell_type": "code",
   "execution_count": 30,
   "metadata": {},
   "outputs": [
    {
     "data": {
      "application/vnd.jupyter.widget-view+json": {
       "model_id": "2a94864150984bb0b1c520bc0b44c31e",
       "version_major": 2,
       "version_minor": 0
      },
      "text/plain": [
       "HTML(value=u'<h1><b><u> Results')"
      ]
     },
     "metadata": {},
     "output_type": "display_data"
    }
   ],
   "source": [
    "display(widgets.HTML('<h1><b><u> Results'))"
   ]
  },
  {
   "cell_type": "code",
   "execution_count": 31,
   "metadata": {
    "scrolled": false
   },
   "outputs": [
    {
     "data": {
      "application/vnd.jupyter.widget-view+json": {
       "model_id": "fc120ae905e042179dbfef5b4919ef8b",
       "version_major": 2,
       "version_minor": 0
      },
      "text/plain": [
       "HTML(value=u'<h2> Boxplots for question: Blood type?')"
      ]
     },
     "metadata": {},
     "output_type": "display_data"
    },
    {
     "data": {
      "application/vnd.jupyter.widget-view+json": {
       "model_id": "fb05aadc079d461094ec564eedcbcc66",
       "version_major": 2,
       "version_minor": 0
      },
      "text/plain": [
       "HTML(value=u'<h3><i> Relative error')"
      ]
     },
     "metadata": {},
     "output_type": "display_data"
    },
    {
     "name": "stderr",
     "output_type": "stream",
     "text": [
      "/home/boel/chalmers/research/randori/Randori/miniconda/envs/notebook/lib/python2.7/site-packages/matplotlib/cbook/deprecation.py:107: MatplotlibDeprecationWarning: Adding an axes using the same arguments as a previous axes currently reuses the earlier instance.  In a future version, a new instance will always be created and returned.  Meanwhile, this warning can be suppressed, and the future behavior ensured, by passing a unique label to each axes instance.\n",
      "  warnings.warn(message, mplDeprecation, stacklevel=1)\n",
      "/home/boel/chalmers/research/randori/Randori/miniconda/envs/notebook/lib/python2.7/site-packages/seaborn/categorical.py:450: FutureWarning: remove_na is deprecated and is a private function. Do not use.\n",
      "  box_data = remove_na(group_data)\n"
     ]
    },
    {
     "data": {
      "image/png": "[encoded data removed]",
      "text/plain": [
       "<Figure size 432x288 with 1 Axes>"
      ]
     },
     "metadata": {},
     "output_type": "display_data"
    },
    {
     "data": {
      "application/vnd.jupyter.widget-view+json": {
       "model_id": "23ae1b5514dc404890e4cb9e6908d44e",
       "version_major": 2,
       "version_minor": 0
      },
      "text/plain": [
       "HTML(value=u'<h3><i> Absolute error')"
      ]
     },
     "metadata": {},
     "output_type": "display_data"
    },
    {
     "data": {
      "image/png": "[encoded data removed]",
      "text/plain": [
       "<Figure size 432x288 with 1 Axes>"
      ]
     },
     "metadata": {},
     "output_type": "display_data"
    },
    {
     "data": {
      "application/vnd.jupyter.widget-view+json": {
       "model_id": "aea9d8ba2d8242f892761c42e4ebb8e5",
       "version_major": 2,
       "version_minor": 0
      },
      "text/plain": [
       "HTML(value=u'<h2> Boxplots for question: Specify...')"
      ]
     },
     "metadata": {},
     "output_type": "display_data"
    },
    {
     "data": {
      "application/vnd.jupyter.widget-view+json": {
       "model_id": "487fe10b17ad480d927dfde6a13a5f97",
       "version_major": 2,
       "version_minor": 0
      },
      "text/plain": [
       "HTML(value=u'<h3><i> Relative error')"
      ]
     },
     "metadata": {},
     "output_type": "display_data"
    },
    {
     "data": {
      "image/png": "[encoded data removed]",
      "text/plain": [
       "<Figure size 432x288 with 1 Axes>"
      ]
     },
     "metadata": {},
     "output_type": "display_data"
    },
    {
     "data": {
      "application/vnd.jupyter.widget-view+json": {
       "model_id": "dc2cdbfb8f28466f9baad82c40c9e839",
       "version_major": 2,
       "version_minor": 0
      },
      "text/plain": [
       "HTML(value=u'<h3><i> Absolute error')"
      ]
     },
     "metadata": {},
     "output_type": "display_data"
    },
    {
     "data": {
      "image/png": "[encoded data removed]",
      "text/plain": [
       "<Figure size 432x288 with 1 Axes>"
      ]
     },
     "metadata": {},
     "output_type": "display_data"
    },
    {
     "data": {
      "application/vnd.jupyter.widget-view+json": {
       "model_id": "bae5165fcae74f8eb9d6a4f1177513ab",
       "version_major": 2,
       "version_minor": 0
      },
      "text/plain": [
       "HTML(value=u'<h2> Boxplots for question: Specify further...')"
      ]
     },
     "metadata": {},
     "output_type": "display_data"
    },
    {
     "data": {
      "application/vnd.jupyter.widget-view+json": {
       "model_id": "dc15cdbcdaa0473a96f99d483ca90236",
       "version_major": 2,
       "version_minor": 0
      },
      "text/plain": [
       "HTML(value=u'<h3><i> Relative error')"
      ]
     },
     "metadata": {},
     "output_type": "display_data"
    },
    {
     "data": {
      "image/png": "[encoded data removed]",
      "text/plain": [
       "<Figure size 432x288 with 1 Axes>"
      ]
     },
     "metadata": {},
     "output_type": "display_data"
    },
    {
     "data": {
      "application/vnd.jupyter.widget-view+json": {
       "model_id": "dbd1b623d29c4c1ebae285ee14ee4408",
       "version_major": 2,
       "version_minor": 0
      },
      "text/plain": [
       "HTML(value=u'<h3><i> Absolute error')"
      ]
     },
     "metadata": {},
     "output_type": "display_data"
    },
    {
     "data": {
      "image/png": "[encoded data removed]",
      "text/plain": [
       "<Figure size 432x288 with 1 Axes>"
      ]
     },
     "metadata": {},
     "output_type": "display_data"
    },
    {
     "data": {
      "application/vnd.jupyter.widget-view+json": {
       "model_id": "e651c783421f4cd4ae0a992c0b9464c3",
       "version_major": 2,
       "version_minor": 0
      },
      "text/plain": [
       "HTML(value=u'<h2><b> SUMMARY')"
      ]
     },
     "metadata": {},
     "output_type": "display_data"
    },
    {
     "data": {
      "application/vnd.jupyter.widget-view+json": {
       "model_id": "590aa9b06625441880615c90785bee42",
       "version_major": 2,
       "version_minor": 0
      },
      "text/plain": [
       "HTML(value=u'<h3> Error: error_absolute')"
      ]
     },
     "metadata": {},
     "output_type": "display_data"
    },
    {
     "data": {
      "text/html": [
       "<div>\n",
       "<style scoped>\n",
       "    .dataframe tbody tr th:only-of-type {\n",
       "        vertical-align: middle;\n",
       "    }\n",
       "\n",
       "    .dataframe tbody tr th {\n",
       "        vertical-align: top;\n",
       "    }\n",
       "\n",
       "    .dataframe thead th {\n",
       "        text-align: right;\n",
       "    }\n",
       "</style>\n",
       "<table border=\"1\" class=\"dataframe\">\n",
       "  <thead>\n",
       "    <tr style=\"text-align: right;\">\n",
       "      <th></th>\n",
       "      <th>A+</th>\n",
       "      <th>O+</th>\n",
       "      <th>OtherA-</th>\n",
       "      <th>OtherAB+</th>\n",
       "      <th>OtherB+</th>\n",
       "      <th>OtherO-</th>\n",
       "      <th>OtherOtherAB-</th>\n",
       "      <th>OtherOtherB-</th>\n",
       "    </tr>\n",
       "  </thead>\n",
       "  <tbody>\n",
       "    <tr>\n",
       "      <th>count</th>\n",
       "      <td>10.000000</td>\n",
       "      <td>10.000000</td>\n",
       "      <td>10.000000</td>\n",
       "      <td>10.000000</td>\n",
       "      <td>10.000000</td>\n",
       "      <td>10.000000</td>\n",
       "      <td>10.000000</td>\n",
       "      <td>10.000000</td>\n",
       "    </tr>\n",
       "    <tr>\n",
       "      <th>mean</th>\n",
       "      <td>0.003973</td>\n",
       "      <td>0.003703</td>\n",
       "      <td>0.006989</td>\n",
       "      <td>0.007259</td>\n",
       "      <td>0.007356</td>\n",
       "      <td>0.007198</td>\n",
       "      <td>0.013813</td>\n",
       "      <td>0.008514</td>\n",
       "    </tr>\n",
       "    <tr>\n",
       "      <th>std</th>\n",
       "      <td>0.003887</td>\n",
       "      <td>0.003387</td>\n",
       "      <td>0.006216</td>\n",
       "      <td>0.006928</td>\n",
       "      <td>0.006970</td>\n",
       "      <td>0.006811</td>\n",
       "      <td>0.014358</td>\n",
       "      <td>0.007262</td>\n",
       "    </tr>\n",
       "    <tr>\n",
       "      <th>min</th>\n",
       "      <td>0.000247</td>\n",
       "      <td>0.000871</td>\n",
       "      <td>0.002345</td>\n",
       "      <td>0.002357</td>\n",
       "      <td>0.002571</td>\n",
       "      <td>0.002647</td>\n",
       "      <td>0.004504</td>\n",
       "      <td>0.003042</td>\n",
       "    </tr>\n",
       "    <tr>\n",
       "      <th>25%</th>\n",
       "      <td>0.001611</td>\n",
       "      <td>0.001956</td>\n",
       "      <td>0.003088</td>\n",
       "      <td>0.003146</td>\n",
       "      <td>0.003608</td>\n",
       "      <td>0.003200</td>\n",
       "      <td>0.005967</td>\n",
       "      <td>0.003841</td>\n",
       "    </tr>\n",
       "    <tr>\n",
       "      <th>50%</th>\n",
       "      <td>0.002686</td>\n",
       "      <td>0.002539</td>\n",
       "      <td>0.004020</td>\n",
       "      <td>0.004341</td>\n",
       "      <td>0.004863</td>\n",
       "      <td>0.004322</td>\n",
       "      <td>0.008299</td>\n",
       "      <td>0.005242</td>\n",
       "    </tr>\n",
       "    <tr>\n",
       "      <th>75%</th>\n",
       "      <td>0.004919</td>\n",
       "      <td>0.003894</td>\n",
       "      <td>0.009204</td>\n",
       "      <td>0.008290</td>\n",
       "      <td>0.006869</td>\n",
       "      <td>0.007035</td>\n",
       "      <td>0.013685</td>\n",
       "      <td>0.010248</td>\n",
       "    </tr>\n",
       "    <tr>\n",
       "      <th>max</th>\n",
       "      <td>0.013567</td>\n",
       "      <td>0.012500</td>\n",
       "      <td>0.022393</td>\n",
       "      <td>0.025147</td>\n",
       "      <td>0.025340</td>\n",
       "      <td>0.024093</td>\n",
       "      <td>0.051390</td>\n",
       "      <td>0.025935</td>\n",
       "    </tr>\n",
       "  </tbody>\n",
       "</table>\n",
       "</div>"
      ],
      "text/plain": [
       "              A+         O+    OtherA-   OtherAB+    OtherB+    OtherO-  \\\n",
       "count  10.000000  10.000000  10.000000  10.000000  10.000000  10.000000   \n",
       "mean    0.003973   0.003703   0.006989   0.007259   0.007356   0.007198   \n",
       "std     0.003887   0.003387   0.006216   0.006928   0.006970   0.006811   \n",
       "min     0.000247   0.000871   0.002345   0.002357   0.002571   0.002647   \n",
       "25%     0.001611   0.001956   0.003088   0.003146   0.003608   0.003200   \n",
       "50%     0.002686   0.002539   0.004020   0.004341   0.004863   0.004322   \n",
       "75%     0.004919   0.003894   0.009204   0.008290   0.006869   0.007035   \n",
       "max     0.013567   0.012500   0.022393   0.025147   0.025340   0.024093   \n",
       "\n",
       "       OtherOtherAB-  OtherOtherB-  \n",
       "count      10.000000     10.000000  \n",
       "mean        0.013813      0.008514  \n",
       "std         0.014358      0.007262  \n",
       "min         0.004504      0.003042  \n",
       "25%         0.005967      0.003841  \n",
       "50%         0.008299      0.005242  \n",
       "75%         0.013685      0.010248  \n",
       "max         0.051390      0.025935  "
      ]
     },
     "metadata": {},
     "output_type": "display_data"
    },
    {
     "data": {
      "application/vnd.jupyter.widget-view+json": {
       "model_id": "05c1a20bb1ab4cde86fe880eb98614b3",
       "version_major": 2,
       "version_minor": 0
      },
      "text/plain": [
       "HTML(value=u'<h3> Error: error_relative')"
      ]
     },
     "metadata": {},
     "output_type": "display_data"
    },
    {
     "data": {
      "text/html": [
       "<div>\n",
       "<style scoped>\n",
       "    .dataframe tbody tr th:only-of-type {\n",
       "        vertical-align: middle;\n",
       "    }\n",
       "\n",
       "    .dataframe tbody tr th {\n",
       "        vertical-align: top;\n",
       "    }\n",
       "\n",
       "    .dataframe thead th {\n",
       "        text-align: right;\n",
       "    }\n",
       "</style>\n",
       "<table border=\"1\" class=\"dataframe\">\n",
       "  <thead>\n",
       "    <tr style=\"text-align: right;\">\n",
       "      <th></th>\n",
       "      <th>A+</th>\n",
       "      <th>O+</th>\n",
       "      <th>OtherA-</th>\n",
       "      <th>OtherAB+</th>\n",
       "      <th>OtherB+</th>\n",
       "      <th>OtherO-</th>\n",
       "      <th>OtherOtherAB-</th>\n",
       "      <th>OtherOtherB-</th>\n",
       "    </tr>\n",
       "  </thead>\n",
       "  <tbody>\n",
       "    <tr>\n",
       "      <th>count</th>\n",
       "      <td>10.000000</td>\n",
       "      <td>10.000000</td>\n",
       "      <td>10.000000</td>\n",
       "      <td>10.000000</td>\n",
       "      <td>10.000000</td>\n",
       "      <td>10.000000</td>\n",
       "      <td>10.000000</td>\n",
       "      <td>10.000000</td>\n",
       "    </tr>\n",
       "    <tr>\n",
       "      <th>mean</th>\n",
       "      <td>0.038659</td>\n",
       "      <td>0.039847</td>\n",
       "      <td>0.359215</td>\n",
       "      <td>0.379107</td>\n",
       "      <td>0.384221</td>\n",
       "      <td>0.376540</td>\n",
       "      <td>2.697330</td>\n",
       "      <td>0.599356</td>\n",
       "    </tr>\n",
       "    <tr>\n",
       "      <th>std</th>\n",
       "      <td>0.012611</td>\n",
       "      <td>0.012382</td>\n",
       "      <td>0.053162</td>\n",
       "      <td>0.037539</td>\n",
       "      <td>0.042343</td>\n",
       "      <td>0.042669</td>\n",
       "      <td>0.287212</td>\n",
       "      <td>0.056780</td>\n",
       "    </tr>\n",
       "    <tr>\n",
       "      <th>min</th>\n",
       "      <td>0.007302</td>\n",
       "      <td>0.021105</td>\n",
       "      <td>0.272541</td>\n",
       "      <td>0.335460</td>\n",
       "      <td>0.321672</td>\n",
       "      <td>0.318106</td>\n",
       "      <td>2.421685</td>\n",
       "      <td>0.494000</td>\n",
       "    </tr>\n",
       "    <tr>\n",
       "      <th>25%</th>\n",
       "      <td>0.039338</td>\n",
       "      <td>0.034346</td>\n",
       "      <td>0.324080</td>\n",
       "      <td>0.341550</td>\n",
       "      <td>0.365191</td>\n",
       "      <td>0.348804</td>\n",
       "      <td>2.524595</td>\n",
       "      <td>0.586835</td>\n",
       "    </tr>\n",
       "    <tr>\n",
       "      <th>50%</th>\n",
       "      <td>0.040251</td>\n",
       "      <td>0.039210</td>\n",
       "      <td>0.351037</td>\n",
       "      <td>0.382234</td>\n",
       "      <td>0.383027</td>\n",
       "      <td>0.375999</td>\n",
       "      <td>2.660588</td>\n",
       "      <td>0.605974</td>\n",
       "    </tr>\n",
       "    <tr>\n",
       "      <th>75%</th>\n",
       "      <td>0.046057</td>\n",
       "      <td>0.044734</td>\n",
       "      <td>0.387619</td>\n",
       "      <td>0.408140</td>\n",
       "      <td>0.403468</td>\n",
       "      <td>0.395926</td>\n",
       "      <td>2.793341</td>\n",
       "      <td>0.627391</td>\n",
       "    </tr>\n",
       "    <tr>\n",
       "      <th>max</th>\n",
       "      <td>0.051176</td>\n",
       "      <td>0.059716</td>\n",
       "      <td>0.453211</td>\n",
       "      <td>0.430769</td>\n",
       "      <td>0.451897</td>\n",
       "      <td>0.468118</td>\n",
       "      <td>3.403311</td>\n",
       "      <td>0.679573</td>\n",
       "    </tr>\n",
       "  </tbody>\n",
       "</table>\n",
       "</div>"
      ],
      "text/plain": [
       "              A+         O+    OtherA-   OtherAB+    OtherB+    OtherO-  \\\n",
       "count  10.000000  10.000000  10.000000  10.000000  10.000000  10.000000   \n",
       "mean    0.038659   0.039847   0.359215   0.379107   0.384221   0.376540   \n",
       "std     0.012611   0.012382   0.053162   0.037539   0.042343   0.042669   \n",
       "min     0.007302   0.021105   0.272541   0.335460   0.321672   0.318106   \n",
       "25%     0.039338   0.034346   0.324080   0.341550   0.365191   0.348804   \n",
       "50%     0.040251   0.039210   0.351037   0.382234   0.383027   0.375999   \n",
       "75%     0.046057   0.044734   0.387619   0.408140   0.403468   0.395926   \n",
       "max     0.051176   0.059716   0.453211   0.430769   0.451897   0.468118   \n",
       "\n",
       "       OtherOtherAB-  OtherOtherB-  \n",
       "count      10.000000     10.000000  \n",
       "mean        2.697330      0.599356  \n",
       "std         0.287212      0.056780  \n",
       "min         2.421685      0.494000  \n",
       "25%         2.524595      0.586835  \n",
       "50%         2.660588      0.605974  \n",
       "75%         2.793341      0.627391  \n",
       "max         3.403311      0.679573  "
      ]
     },
     "metadata": {},
     "output_type": "display_data"
    },
    {
     "data": {
      "application/vnd.jupyter.widget-view+json": {
       "model_id": "9132e042632c46609929acbd11eb5edc",
       "version_major": 2,
       "version_minor": 0
      },
      "text/plain": [
       "HTML(value=u'<h2> Boxplots for question: 1 or 2?')"
      ]
     },
     "metadata": {},
     "output_type": "display_data"
    },
    {
     "data": {
      "application/vnd.jupyter.widget-view+json": {
       "model_id": "e3e2398e5586410c90939036f32bc9f9",
       "version_major": 2,
       "version_minor": 0
      },
      "text/plain": [
       "HTML(value=u'<h3><i> Relative error')"
      ]
     },
     "metadata": {},
     "output_type": "display_data"
    },
    {
     "data": {
      "image/png": "[encoded data removed]",
      "text/plain": [
       "<Figure size 432x288 with 1 Axes>"
      ]
     },
     "metadata": {},
     "output_type": "display_data"
    },
    {
     "data": {
      "application/vnd.jupyter.widget-view+json": {
       "model_id": "7d41e31cab374b6e9226072ea2587906",
       "version_major": 2,
       "version_minor": 0
      },
      "text/plain": [
       "HTML(value=u'<h3><i> Absolute error')"
      ]
     },
     "metadata": {},
     "output_type": "display_data"
    },
    {
     "data": {
      "image/png": "[encoded data removed]",
      "text/plain": [
       "<Figure size 432x288 with 1 Axes>"
      ]
     },
     "metadata": {},
     "output_type": "display_data"
    },
    {
     "data": {
      "application/vnd.jupyter.widget-view+json": {
       "model_id": "cadfe1c2698049faae7af779036d092c",
       "version_major": 2,
       "version_minor": 0
      },
      "text/plain": [
       "HTML(value=u'<h2><b> SUMMARY')"
      ]
     },
     "metadata": {},
     "output_type": "display_data"
    },
    {
     "data": {
      "application/vnd.jupyter.widget-view+json": {
       "model_id": "40b9602aee9a43549f20f062856da286",
       "version_major": 2,
       "version_minor": 0
      },
      "text/plain": [
       "HTML(value=u'<h3> Error: error_absolute')"
      ]
     },
     "metadata": {},
     "output_type": "display_data"
    },
    {
     "data": {
      "text/html": [
       "<div>\n",
       "<style scoped>\n",
       "    .dataframe tbody tr th:only-of-type {\n",
       "        vertical-align: middle;\n",
       "    }\n",
       "\n",
       "    .dataframe tbody tr th {\n",
       "        vertical-align: top;\n",
       "    }\n",
       "\n",
       "    .dataframe thead th {\n",
       "        text-align: right;\n",
       "    }\n",
       "</style>\n",
       "<table border=\"1\" class=\"dataframe\">\n",
       "  <thead>\n",
       "    <tr style=\"text-align: right;\">\n",
       "      <th></th>\n",
       "      <th>1</th>\n",
       "      <th>2</th>\n",
       "    </tr>\n",
       "  </thead>\n",
       "  <tbody>\n",
       "    <tr>\n",
       "      <th>count</th>\n",
       "      <td>10.000000</td>\n",
       "      <td>10.000000</td>\n",
       "    </tr>\n",
       "    <tr>\n",
       "      <th>mean</th>\n",
       "      <td>0.148928</td>\n",
       "      <td>0.143969</td>\n",
       "    </tr>\n",
       "    <tr>\n",
       "      <th>std</th>\n",
       "      <td>0.143935</td>\n",
       "      <td>0.133375</td>\n",
       "    </tr>\n",
       "    <tr>\n",
       "      <th>min</th>\n",
       "      <td>0.048850</td>\n",
       "      <td>0.051150</td>\n",
       "    </tr>\n",
       "    <tr>\n",
       "      <th>25%</th>\n",
       "      <td>0.065611</td>\n",
       "      <td>0.063854</td>\n",
       "    </tr>\n",
       "    <tr>\n",
       "      <th>50%</th>\n",
       "      <td>0.091745</td>\n",
       "      <td>0.091588</td>\n",
       "    </tr>\n",
       "    <tr>\n",
       "      <th>75%</th>\n",
       "      <td>0.160638</td>\n",
       "      <td>0.151863</td>\n",
       "    </tr>\n",
       "    <tr>\n",
       "      <th>max</th>\n",
       "      <td>0.515800</td>\n",
       "      <td>0.484200</td>\n",
       "    </tr>\n",
       "  </tbody>\n",
       "</table>\n",
       "</div>"
      ],
      "text/plain": [
       "               1          2\n",
       "count  10.000000  10.000000\n",
       "mean    0.148928   0.143969\n",
       "std     0.143935   0.133375\n",
       "min     0.048850   0.051150\n",
       "25%     0.065611   0.063854\n",
       "50%     0.091745   0.091588\n",
       "75%     0.160638   0.151863\n",
       "max     0.515800   0.484200"
      ]
     },
     "metadata": {},
     "output_type": "display_data"
    },
    {
     "data": {
      "application/vnd.jupyter.widget-view+json": {
       "model_id": "6f0c14d097f042deaaa2ad2a8535de87",
       "version_major": 2,
       "version_minor": 0
      },
      "text/plain": [
       "HTML(value=u'<h3> Error: error_relative')"
      ]
     },
     "metadata": {},
     "output_type": "display_data"
    },
    {
     "data": {
      "text/html": [
       "<div>\n",
       "<style scoped>\n",
       "    .dataframe tbody tr th:only-of-type {\n",
       "        vertical-align: middle;\n",
       "    }\n",
       "\n",
       "    .dataframe tbody tr th {\n",
       "        vertical-align: top;\n",
       "    }\n",
       "\n",
       "    .dataframe thead th {\n",
       "        text-align: right;\n",
       "    }\n",
       "</style>\n",
       "<table border=\"1\" class=\"dataframe\">\n",
       "  <thead>\n",
       "    <tr style=\"text-align: right;\">\n",
       "      <th></th>\n",
       "      <th>1</th>\n",
       "      <th>2</th>\n",
       "    </tr>\n",
       "  </thead>\n",
       "  <tbody>\n",
       "    <tr>\n",
       "      <th>count</th>\n",
       "      <td>10.000000</td>\n",
       "      <td>10.000000</td>\n",
       "    </tr>\n",
       "    <tr>\n",
       "      <th>mean</th>\n",
       "      <td>1.010113</td>\n",
       "      <td>0.990350</td>\n",
       "    </tr>\n",
       "    <tr>\n",
       "      <th>std</th>\n",
       "      <td>0.031398</td>\n",
       "      <td>0.031192</td>\n",
       "    </tr>\n",
       "    <tr>\n",
       "      <th>min</th>\n",
       "      <td>0.953488</td>\n",
       "      <td>0.946577</td>\n",
       "    </tr>\n",
       "    <tr>\n",
       "      <th>25%</th>\n",
       "      <td>0.996080</td>\n",
       "      <td>0.968681</td>\n",
       "    </tr>\n",
       "    <tr>\n",
       "      <th>50%</th>\n",
       "      <td>1.002783</td>\n",
       "      <td>0.997184</td>\n",
       "    </tr>\n",
       "    <tr>\n",
       "      <th>75%</th>\n",
       "      <td>1.031683</td>\n",
       "      <td>1.003881</td>\n",
       "    </tr>\n",
       "    <tr>\n",
       "      <th>max</th>\n",
       "      <td>1.054590</td>\n",
       "      <td>1.047909</td>\n",
       "    </tr>\n",
       "  </tbody>\n",
       "</table>\n",
       "</div>"
      ],
      "text/plain": [
       "               1          2\n",
       "count  10.000000  10.000000\n",
       "mean    1.010113   0.990350\n",
       "std     0.031398   0.031192\n",
       "min     0.953488   0.946577\n",
       "25%     0.996080   0.968681\n",
       "50%     1.002783   0.997184\n",
       "75%     1.031683   1.003881\n",
       "max     1.054590   1.047909"
      ]
     },
     "metadata": {},
     "output_type": "display_data"
    },
    {
     "data": {
      "application/vnd.jupyter.widget-view+json": {
       "model_id": "e306672fb5604882af115cc2779c94b2",
       "version_major": 2,
       "version_minor": 0
      },
      "text/plain": [
       "HTML(value=u'<h2> Boxplots for question: Q3?')"
      ]
     },
     "metadata": {},
     "output_type": "display_data"
    },
    {
     "data": {
      "application/vnd.jupyter.widget-view+json": {
       "model_id": "bd658d453c0e45a18241be5060c4f5d2",
       "version_major": 2,
       "version_minor": 0
      },
      "text/plain": [
       "HTML(value=u'<h3><i> Relative error')"
      ]
     },
     "metadata": {},
     "output_type": "display_data"
    },
    {
     "data": {
      "image/png": "[encoded data removed]",
      "text/plain": [
       "<Figure size 432x288 with 1 Axes>"
      ]
     },
     "metadata": {},
     "output_type": "display_data"
    },
    {
     "data": {
      "application/vnd.jupyter.widget-view+json": {
       "model_id": "783739c3363a49a082f6547b2935e4a2",
       "version_major": 2,
       "version_minor": 0
      },
      "text/plain": [
       "HTML(value=u'<h3><i> Absolute error')"
      ]
     },
     "metadata": {},
     "output_type": "display_data"
    },
    {
     "data": {
      "image/png": "[encoded data removed]",
      "text/plain": [
       "<Figure size 432x288 with 1 Axes>"
      ]
     },
     "metadata": {},
     "output_type": "display_data"
    },
    {
     "data": {
      "application/vnd.jupyter.widget-view+json": {
       "model_id": "f16d7f3e8b1243f38b2f75e7dc45f38c",
       "version_major": 2,
       "version_minor": 0
      },
      "text/plain": [
       "HTML(value=u'<h2><b> SUMMARY')"
      ]
     },
     "metadata": {},
     "output_type": "display_data"
    },
    {
     "data": {
      "application/vnd.jupyter.widget-view+json": {
       "model_id": "cfea71fbbaf447258fde8d67c22b37d5",
       "version_major": 2,
       "version_minor": 0
      },
      "text/plain": [
       "HTML(value=u'<h3> Error: error_absolute')"
      ]
     },
     "metadata": {},
     "output_type": "display_data"
    },
    {
     "data": {
      "text/html": [
       "<div>\n",
       "<style scoped>\n",
       "    .dataframe tbody tr th:only-of-type {\n",
       "        vertical-align: middle;\n",
       "    }\n",
       "\n",
       "    .dataframe tbody tr th {\n",
       "        vertical-align: top;\n",
       "    }\n",
       "\n",
       "    .dataframe thead th {\n",
       "        text-align: right;\n",
       "    }\n",
       "</style>\n",
       "<table border=\"1\" class=\"dataframe\">\n",
       "  <thead>\n",
       "    <tr style=\"text-align: right;\">\n",
       "      <th></th>\n",
       "      <th>A</th>\n",
       "      <th>B</th>\n",
       "      <th>C</th>\n",
       "    </tr>\n",
       "  </thead>\n",
       "  <tbody>\n",
       "    <tr>\n",
       "      <th>count</th>\n",
       "      <td>10.000000</td>\n",
       "      <td>10.000000</td>\n",
       "      <td>10.000000</td>\n",
       "    </tr>\n",
       "    <tr>\n",
       "      <th>mean</th>\n",
       "      <td>0.011737</td>\n",
       "      <td>0.010858</td>\n",
       "      <td>0.009949</td>\n",
       "    </tr>\n",
       "    <tr>\n",
       "      <th>std</th>\n",
       "      <td>0.012699</td>\n",
       "      <td>0.010566</td>\n",
       "      <td>0.007724</td>\n",
       "    </tr>\n",
       "    <tr>\n",
       "      <th>min</th>\n",
       "      <td>0.004092</td>\n",
       "      <td>0.003665</td>\n",
       "      <td>0.003290</td>\n",
       "    </tr>\n",
       "    <tr>\n",
       "      <th>25%</th>\n",
       "      <td>0.004474</td>\n",
       "      <td>0.005177</td>\n",
       "      <td>0.005012</td>\n",
       "    </tr>\n",
       "    <tr>\n",
       "      <th>50%</th>\n",
       "      <td>0.006543</td>\n",
       "      <td>0.007026</td>\n",
       "      <td>0.006802</td>\n",
       "    </tr>\n",
       "    <tr>\n",
       "      <th>75%</th>\n",
       "      <td>0.011448</td>\n",
       "      <td>0.010587</td>\n",
       "      <td>0.012687</td>\n",
       "    </tr>\n",
       "    <tr>\n",
       "      <th>max</th>\n",
       "      <td>0.044922</td>\n",
       "      <td>0.038333</td>\n",
       "      <td>0.027856</td>\n",
       "    </tr>\n",
       "  </tbody>\n",
       "</table>\n",
       "</div>"
      ],
      "text/plain": [
       "               A          B          C\n",
       "count  10.000000  10.000000  10.000000\n",
       "mean    0.011737   0.010858   0.009949\n",
       "std     0.012699   0.010566   0.007724\n",
       "min     0.004092   0.003665   0.003290\n",
       "25%     0.004474   0.005177   0.005012\n",
       "50%     0.006543   0.007026   0.006802\n",
       "75%     0.011448   0.010587   0.012687\n",
       "max     0.044922   0.038333   0.027856"
      ]
     },
     "metadata": {},
     "output_type": "display_data"
    },
    {
     "data": {
      "application/vnd.jupyter.widget-view+json": {
       "model_id": "79f46de66497434cabd2ec3b383427b9",
       "version_major": 2,
       "version_minor": 0
      },
      "text/plain": [
       "HTML(value=u'<h3> Error: error_relative')"
      ]
     },
     "metadata": {},
     "output_type": "display_data"
    },
    {
     "data": {
      "text/html": [
       "<div>\n",
       "<style scoped>\n",
       "    .dataframe tbody tr th:only-of-type {\n",
       "        vertical-align: middle;\n",
       "    }\n",
       "\n",
       "    .dataframe tbody tr th {\n",
       "        vertical-align: top;\n",
       "    }\n",
       "\n",
       "    .dataframe thead th {\n",
       "        text-align: right;\n",
       "    }\n",
       "</style>\n",
       "<table border=\"1\" class=\"dataframe\">\n",
       "  <thead>\n",
       "    <tr style=\"text-align: right;\">\n",
       "      <th></th>\n",
       "      <th>A</th>\n",
       "      <th>B</th>\n",
       "      <th>C</th>\n",
       "    </tr>\n",
       "  </thead>\n",
       "  <tbody>\n",
       "    <tr>\n",
       "      <th>count</th>\n",
       "      <td>10.000000</td>\n",
       "      <td>10.000000</td>\n",
       "      <td>10.000000</td>\n",
       "    </tr>\n",
       "    <tr>\n",
       "      <th>mean</th>\n",
       "      <td>0.113219</td>\n",
       "      <td>0.111086</td>\n",
       "      <td>0.109225</td>\n",
       "    </tr>\n",
       "    <tr>\n",
       "      <th>std</th>\n",
       "      <td>0.014010</td>\n",
       "      <td>0.008275</td>\n",
       "      <td>0.014020</td>\n",
       "    </tr>\n",
       "    <tr>\n",
       "      <th>min</th>\n",
       "      <td>0.093239</td>\n",
       "      <td>0.097055</td>\n",
       "      <td>0.082978</td>\n",
       "    </tr>\n",
       "    <tr>\n",
       "      <th>25%</th>\n",
       "      <td>0.101918</td>\n",
       "      <td>0.107630</td>\n",
       "      <td>0.104357</td>\n",
       "    </tr>\n",
       "    <tr>\n",
       "      <th>50%</th>\n",
       "      <td>0.113476</td>\n",
       "      <td>0.111446</td>\n",
       "      <td>0.106390</td>\n",
       "    </tr>\n",
       "    <tr>\n",
       "      <th>75%</th>\n",
       "      <td>0.123194</td>\n",
       "      <td>0.115915</td>\n",
       "      <td>0.120631</td>\n",
       "    </tr>\n",
       "    <tr>\n",
       "      <th>max</th>\n",
       "      <td>0.133976</td>\n",
       "      <td>0.124335</td>\n",
       "      <td>0.129203</td>\n",
       "    </tr>\n",
       "  </tbody>\n",
       "</table>\n",
       "</div>"
      ],
      "text/plain": [
       "               A          B          C\n",
       "count  10.000000  10.000000  10.000000\n",
       "mean    0.113219   0.111086   0.109225\n",
       "std     0.014010   0.008275   0.014020\n",
       "min     0.093239   0.097055   0.082978\n",
       "25%     0.101918   0.107630   0.104357\n",
       "50%     0.113476   0.111446   0.106390\n",
       "75%     0.123194   0.115915   0.120631\n",
       "max     0.133976   0.124335   0.129203"
      ]
     },
     "metadata": {},
     "output_type": "display_data"
    },
    {
     "data": {
      "text/plain": [
       "<Figure size 432x288 with 0 Axes>"
      ]
     },
     "metadata": {},
     "output_type": "display_data"
    }
   ],
   "source": [
    "fig = plt.figure()\n",
    "for question in subtrees:\n",
    "    for subquestion in subtrees[question]:\n",
    "        display(widgets.HTML('<h2> Boxplots for question: '+subquestion['question']))\n",
    "        fig.clear()\n",
    "        plt.xticks(fontsize = label_font_size, ha='center', rotation=xlabel_rotation)\n",
    "        plt.ylim(ylimit)\n",
    "        plt.tight_layout()\n",
    "        \n",
    "        display(widgets.HTML('<h3><i> Relative error'))\n",
    "        ax1 = fig.add_subplot(1, 1, 1)\n",
    "        ax1.set_title('\\n'.join(wrap('Question: '+subquestion['question'], 50)))\n",
    "        ax1.set_xlabel('Answer alternative')\n",
    "        ax1.set_ylabel('% error')\n",
    "        ax1.set_ylim(ylimit)\n",
    "        \n",
    "        sns.boxplot(ax=ax1,data=pd.DataFrame(data[question]['error_relative']),palette='pastel')\n",
    "        display(fig)\n",
    "        fig.clear()\n",
    "\n",
    "        display(widgets.HTML('<h3><i> Absolute error'))\n",
    "        \n",
    "        plt.xticks(fontsize = label_font_size, ha='center', rotation=xlabel_rotation)\n",
    "        plt.ylim(ylimit)\n",
    "        plt.tight_layout()\n",
    "        \n",
    "        ax2 = fig.add_subplot(1, 1, 1)\n",
    "        ax2.set_title('\\n'.join(wrap('Question: '+subquestion['question'], 50)))\n",
    "        ax2.set_xlabel('Answer alternative')\n",
    "        ax2.set_ylabel('Absolute error')\n",
    "        ax2.set_ylim(ylimit)\n",
    "        sns.boxplot(ax=ax2,data=pd.DataFrame(data[question]['error_absolute']),palette='pastel')\n",
    "\n",
    "        display(fig)\n",
    "        fig.clear()\n",
    "        \n",
    "\n",
    "    display(widgets.HTML('<h2><b> SUMMARY'))\n",
    "    for error in data[question].keys():\n",
    "        \n",
    "        display(widgets.HTML('<h3> Error: '+error)) \n",
    "\n",
    "        display(pd.DataFrame(data[question][error]).describe())\n",
    "\n",
    "    "
   ]
  },
  {
   "cell_type": "code",
   "execution_count": null,
   "metadata": {},
   "outputs": [],
   "source": []
  },
  {
   "cell_type": "code",
   "execution_count": null,
   "metadata": {},
   "outputs": [],
   "source": []
  },
  {
   "cell_type": "code",
   "execution_count": null,
   "metadata": {},
   "outputs": [],
   "source": []
  }
 ],
 "metadata": {
  "kernelspec": {
   "display_name": "Python 2",
   "language": "python",
   "name": "python2"
  },
  "language_info": {
   "codemirror_mode": {
    "name": "ipython",
    "version": 2
   },
   "file_extension": ".py",
   "mimetype": "text/x-python",
   "name": "python",
   "nbconvert_exporter": "python",
   "pygments_lexer": "ipython2",
   "version": "2.7.17"
  }
 },
 "nbformat": 4,
 "nbformat_minor": 2
}
