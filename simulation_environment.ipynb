{
 "cells": [
  {
   "cell_type": "code",
   "execution_count": 1,
   "metadata": {},
   "outputs": [],
   "source": [
    "import json\n",
    "import itertools\n",
    "from fractions import Fraction\n",
    "import numpy as np\n",
    "import pandas"
   ]
  },
  {
   "cell_type": "code",
   "execution_count": 2,
   "metadata": {},
   "outputs": [
    {
     "name": "stderr",
     "output_type": "stream",
     "text": [
      "\n",
      "----------------------------------------------------------------------\n",
      "Ran 0 tests in 0.000s\n",
      "\n",
      "OK\n"
     ]
    }
   ],
   "source": [
    "%run logic.ipynb\n",
    "%run participant.ipynb"
   ]
  },
  {
   "cell_type": "code",
   "execution_count": 3,
   "metadata": {},
   "outputs": [
    {
     "data": {
      "text/plain": [
       "{'children': [{'answers': ['B+', 'AB+', 'O-', 'A-', 'Other'],\n",
       "   'probability': ['1/5', '1/5', '1/5', '1/5', '1/5'],\n",
       "   'qid': 1,\n",
       "   'question': 'Specify...'},\n",
       "  {'answers': ['B-', 'AB-'],\n",
       "   'probability': ['1/2', '1/2'],\n",
       "   'qid': 2,\n",
       "   'question': 'Specify further...'}],\n",
       " 'paths': [[0, 'Other', 1], [1, 'Other', 2]],\n",
       " 'roots': [{'answers': ['O+', 'A+', 'Other'],\n",
       "   'probability': ['1/3', '1/3', '1/3'],\n",
       "   'qid': 0,\n",
       "   'question': 'Blood type?'}],\n",
       " 'truth': ['1/4']}"
      ]
     },
     "execution_count": 3,
     "metadata": {},
     "output_type": "execute_result"
    }
   ],
   "source": [
    "#Example JSON\n",
    "root_question = {'qid':0,\n",
    "'question': 'Blood type?',\n",
    "'answers': ['O+','A+','Other'],\n",
    "'probability': ['1/3','1/3','1/3']}\n",
    "\n",
    "follow_up_1 = {'qid':1,\n",
    "'question': 'Specify...',\n",
    "'answers': ['B+','AB+','O-','A-','Other'],\n",
    "'probability': ['1/5','1/5','1/5','1/5','1/5']}\n",
    "\n",
    "follow_up_2 = {'qid':2,\n",
    "'question': 'Specify further...',\n",
    "'answers': ['B-','AB-'],\n",
    "'probability': ['1/2','1/2']}\n",
    "\n",
    "paths = [[0,'Other',1], [1,'Other',2]]\n",
    "\n",
    "json_poll = {\n",
    "    'roots': [root_question],\n",
    "    'children': [follow_up_1, follow_up_2],\n",
    "    'paths':paths,\n",
    "    'truth':['1/4']\n",
    "}\n",
    "json_poll"
   ]
  },
  {
   "cell_type": "code",
   "execution_count": null,
   "metadata": {},
   "outputs": [],
   "source": [
    "participant = Participant(120, json_poll)\n",
    "participants = []\n",
    "n = 100000\n",
    "participant_budget = 40\n",
    "\n",
    "matrices = pollToMatrix(json_poll)\n",
    "epsilons = pollToEpsilon(json_poll)\n",
    "\n",
    "#TODO: Loop x times for confidence\n",
    "\n",
    "for i in range(0, n):\n",
    "    new_participant = Participant(participant_budget, json_poll)\n",
    "    new_participant.setMatrices(matrices)\n",
    "    new_participant.setEpsilons(epsilons)\n",
    "    participants.append(new_participant)\n",
    "    \n",
    "#TODO: set answer dist\n",
    "\n",
    "#TODO: run RR\n",
    "\n",
    "#TODO: compare to ground truth\n",
    "\n",
    "#TODO: display graphs"
   ]
  }
 ],
 "metadata": {
  "kernelspec": {
   "display_name": "Python 2",
   "language": "python",
   "name": "python2"
  },
  "language_info": {
   "codemirror_mode": {
    "name": "ipython",
    "version": 2
   },
   "file_extension": ".py",
   "mimetype": "text/x-python",
   "name": "python",
   "nbconvert_exporter": "python",
   "pygments_lexer": "ipython2",
   "version": "2.7.17"
  }
 },
 "nbformat": 4,
 "nbformat_minor": 2
}
