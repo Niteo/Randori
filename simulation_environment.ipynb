{
 "cells": [
  {
   "cell_type": "code",
   "execution_count": 1,
   "metadata": {},
   "outputs": [],
   "source": [
    "import json\n",
    "import itertools\n",
    "from fractions import Fraction\n",
    "import numpy as np"
   ]
  },
  {
   "cell_type": "code",
   "execution_count": 2,
   "metadata": {},
   "outputs": [
    {
     "name": "stderr",
     "output_type": "stream",
     "text": [
      "\n",
      "----------------------------------------------------------------------\n",
      "Ran 0 tests in 0.000s\n",
      "\n",
      "OK\n"
     ]
    }
   ],
   "source": [
    "%run logic.ipynb"
   ]
  },
  {
   "cell_type": "code",
   "execution_count": 3,
   "metadata": {},
   "outputs": [
    {
     "data": {
      "text/plain": [
       "{'children': [{'answers': ['B+', 'AB+', 'O-', 'A-', 'Other'],\n",
       "   'probability': ['1/5', '1/5', '1/5', '1/5', '1/5'],\n",
       "   'qid': 1,\n",
       "   'question': 'Specify...'},\n",
       "  {'answers': ['B-', 'AB-'],\n",
       "   'probability': ['1/2', '1/2'],\n",
       "   'qid': 2,\n",
       "   'question': 'Specify further...'}],\n",
       " 'paths': [[0, 'Other', 1], [1, 'Other', 2]],\n",
       " 'roots': [{'answers': ['O+', 'A+', 'Other'],\n",
       "   'probability': ['1/3', '1/3', '1/3'],\n",
       "   'qid': 0,\n",
       "   'question': 'Blood type?'}],\n",
       " 'truth': ['1/4']}"
      ]
     },
     "execution_count": 3,
     "metadata": {},
     "output_type": "execute_result"
    }
   ],
   "source": [
    "#Example JSON\n",
    "root_question = {'qid':0,\n",
    "'question': 'Blood type?',\n",
    "'answers': ['O+','A+','Other'],\n",
    "'probability': ['1/3','1/3','1/3']}\n",
    "\n",
    "follow_up_1 = {'qid':1,\n",
    "'question': 'Specify...',\n",
    "'answers': ['B+','AB+','O-','A-','Other'],\n",
    "'probability': ['1/5','1/5','1/5','1/5','1/5']}\n",
    "\n",
    "follow_up_2 = {'qid':2,\n",
    "'question': 'Specify further...',\n",
    "'answers': ['B-','AB-'],\n",
    "'probability': ['1/2','1/2']}\n",
    "\n",
    "paths = [[0,'Other',1], [1,'Other',2]]\n",
    "\n",
    "json_poll = {\n",
    "    'roots': [root_question],\n",
    "    'children': [follow_up_1, follow_up_2],\n",
    "    'paths':paths,\n",
    "    'truth':['1/4']\n",
    "}\n",
    "json_poll"
   ]
  },
  {
   "cell_type": "code",
   "execution_count": 4,
   "metadata": {},
   "outputs": [],
   "source": [
    "epsilons = pollToEpsilon(json_poll)\n",
    "matrices = pollToMatrix(json_poll)"
   ]
  },
  {
   "cell_type": "code",
   "execution_count": 5,
   "metadata": {},
   "outputs": [
    {
     "data": {
      "text/plain": [
       "{0: Fraction(20, 1)}"
      ]
     },
     "execution_count": 5,
     "metadata": {},
     "output_type": "execute_result"
    }
   ],
   "source": [
    "epsilons"
   ]
  },
  {
   "cell_type": "code",
   "execution_count": 6,
   "metadata": {},
   "outputs": [
    {
     "data": {
      "text/plain": [
       "{0: {('A+', 'A+'): Fraction(1, 2),\n",
       "  ('A+', 'O+'): Fraction(1, 4),\n",
       "  ('A+', 'OtherA-'): Fraction(1, 20),\n",
       "  ('A+', 'OtherAB+'): Fraction(1, 20),\n",
       "  ('A+', 'OtherB+'): Fraction(1, 20),\n",
       "  ('A+', 'OtherO-'): Fraction(1, 20),\n",
       "  ('A+', 'OtherOtherAB-'): Fraction(1, 40),\n",
       "  ('A+', 'OtherOtherB-'): Fraction(1, 40),\n",
       "  ('O+', 'A+'): Fraction(1, 4),\n",
       "  ('O+', 'O+'): Fraction(1, 2),\n",
       "  ('O+', 'OtherA-'): Fraction(1, 20),\n",
       "  ('O+', 'OtherAB+'): Fraction(1, 20),\n",
       "  ('O+', 'OtherB+'): Fraction(1, 20),\n",
       "  ('O+', 'OtherO-'): Fraction(1, 20),\n",
       "  ('O+', 'OtherOtherAB-'): Fraction(1, 40),\n",
       "  ('O+', 'OtherOtherB-'): Fraction(1, 40),\n",
       "  ('OtherA-', 'A+'): Fraction(1, 4),\n",
       "  ('OtherA-', 'O+'): Fraction(1, 4),\n",
       "  ('OtherA-', 'OtherA-'): Fraction(3, 10),\n",
       "  ('OtherA-', 'OtherAB+'): Fraction(1, 20),\n",
       "  ('OtherA-', 'OtherB+'): Fraction(1, 20),\n",
       "  ('OtherA-', 'OtherO-'): Fraction(1, 20),\n",
       "  ('OtherA-', 'OtherOtherAB-'): Fraction(1, 40),\n",
       "  ('OtherA-', 'OtherOtherB-'): Fraction(1, 40),\n",
       "  ('OtherAB+', 'A+'): Fraction(1, 4),\n",
       "  ('OtherAB+', 'O+'): Fraction(1, 4),\n",
       "  ('OtherAB+', 'OtherA-'): Fraction(1, 20),\n",
       "  ('OtherAB+', 'OtherAB+'): Fraction(3, 10),\n",
       "  ('OtherAB+', 'OtherB+'): Fraction(1, 20),\n",
       "  ('OtherAB+', 'OtherO-'): Fraction(1, 20),\n",
       "  ('OtherAB+', 'OtherOtherAB-'): Fraction(1, 40),\n",
       "  ('OtherAB+', 'OtherOtherB-'): Fraction(1, 40),\n",
       "  ('OtherB+', 'A+'): Fraction(1, 4),\n",
       "  ('OtherB+', 'O+'): Fraction(1, 4),\n",
       "  ('OtherB+', 'OtherA-'): Fraction(1, 20),\n",
       "  ('OtherB+', 'OtherAB+'): Fraction(1, 20),\n",
       "  ('OtherB+', 'OtherB+'): Fraction(3, 10),\n",
       "  ('OtherB+', 'OtherO-'): Fraction(1, 20),\n",
       "  ('OtherB+', 'OtherOtherAB-'): Fraction(1, 40),\n",
       "  ('OtherB+', 'OtherOtherB-'): Fraction(1, 40),\n",
       "  ('OtherO-', 'A+'): Fraction(1, 4),\n",
       "  ('OtherO-', 'O+'): Fraction(1, 4),\n",
       "  ('OtherO-', 'OtherA-'): Fraction(1, 20),\n",
       "  ('OtherO-', 'OtherAB+'): Fraction(1, 20),\n",
       "  ('OtherO-', 'OtherB+'): Fraction(1, 20),\n",
       "  ('OtherO-', 'OtherO-'): Fraction(3, 10),\n",
       "  ('OtherO-', 'OtherOtherAB-'): Fraction(1, 40),\n",
       "  ('OtherO-', 'OtherOtherB-'): Fraction(1, 40),\n",
       "  ('OtherOtherAB-', 'A+'): Fraction(1, 4),\n",
       "  ('OtherOtherAB-', 'O+'): Fraction(1, 4),\n",
       "  ('OtherOtherAB-', 'OtherA-'): Fraction(1, 20),\n",
       "  ('OtherOtherAB-', 'OtherAB+'): Fraction(1, 20),\n",
       "  ('OtherOtherAB-', 'OtherB+'): Fraction(1, 20),\n",
       "  ('OtherOtherAB-', 'OtherO-'): Fraction(1, 20),\n",
       "  ('OtherOtherAB-', 'OtherOtherAB-'): Fraction(11, 40),\n",
       "  ('OtherOtherAB-', 'OtherOtherB-'): Fraction(1, 40),\n",
       "  ('OtherOtherB-', 'A+'): Fraction(1, 4),\n",
       "  ('OtherOtherB-', 'O+'): Fraction(1, 4),\n",
       "  ('OtherOtherB-', 'OtherA-'): Fraction(1, 20),\n",
       "  ('OtherOtherB-', 'OtherAB+'): Fraction(1, 20),\n",
       "  ('OtherOtherB-', 'OtherB+'): Fraction(1, 20),\n",
       "  ('OtherOtherB-', 'OtherO-'): Fraction(1, 20),\n",
       "  ('OtherOtherB-', 'OtherOtherAB-'): Fraction(1, 40),\n",
       "  ('OtherOtherB-', 'OtherOtherB-'): Fraction(11, 40)}}"
      ]
     },
     "execution_count": 6,
     "metadata": {},
     "output_type": "execute_result"
    }
   ],
   "source": [
    "matrices"
   ]
  },
  {
   "cell_type": "code",
   "execution_count": null,
   "metadata": {},
   "outputs": [],
   "source": []
  }
 ],
 "metadata": {
  "kernelspec": {
   "display_name": "Python 2",
   "language": "python",
   "name": "python2"
  },
  "language_info": {
   "codemirror_mode": {
    "name": "ipython",
    "version": 2
   },
   "file_extension": ".py",
   "mimetype": "text/x-python",
   "name": "python",
   "nbconvert_exporter": "python",
   "pygments_lexer": "ipython2",
   "version": "2.7.17"
  }
 },
 "nbformat": 4,
 "nbformat_minor": 2
}
