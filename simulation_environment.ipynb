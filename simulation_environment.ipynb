{
 "cells": [
  {
   "cell_type": "code",
   "execution_count": 1,
   "metadata": {},
   "outputs": [],
   "source": [
    "import json\n",
    "import itertools\n",
    "from fractions import Fraction\n",
    "import numpy as np\n",
    "import pandas\n",
    "\n",
    "#GUI elements\n",
    "import ipywidgets as widgets\n",
    "from IPython.display import display, clear_output, HTML"
   ]
  },
  {
   "cell_type": "code",
   "execution_count": 2,
   "metadata": {},
   "outputs": [
    {
     "name": "stderr",
     "output_type": "stream",
     "text": [
      "\n",
      "----------------------------------------------------------------------\n",
      "Ran 0 tests in 0.000s\n",
      "\n",
      "OK\n"
     ]
    }
   ],
   "source": [
    "%run logic.ipynb\n",
    "%run participant.ipynb"
   ]
  },
  {
   "cell_type": "code",
   "execution_count": 3,
   "metadata": {},
   "outputs": [],
   "source": [
    "answer_dist = {}"
   ]
  },
  {
   "cell_type": "code",
   "execution_count": 4,
   "metadata": {},
   "outputs": [],
   "source": [
    "def update_dist(change):\n",
    "    \n",
    "    current_accordion = dist_accordion.children[dist_accordion.selected_index]\n",
    "    dropdown = current_accordion.children[1]\n",
    "    active_sliders = current_accordion.children[2].children\n",
    "    \n",
    "    if dropdown.value != 'Custom':\n",
    "        shape_slider = current_accordion.children[3]\n",
    "\n",
    "        # Draw values from dist\n",
    "        values = distMap[dropdown.value](len(active_sliders),shape_slider.value)\n",
    "\n",
    "        for slider in active_sliders:\n",
    "\n",
    "            index = active_sliders.index(slider)\n",
    "            slider.value = np.round(values[index], decimals=sliders_precision)\n",
    "            \n",
    "     \n",
    "    #Save values\n",
    "    for slider in active_sliders:\n",
    "        index = active_sliders.index(slider)\n",
    "        answer_dist[dist_accordion.selected_index][index][dropdown.value] = slider.value\n",
    "\n",
    "        "
   ]
  },
  {
   "cell_type": "code",
   "execution_count": 5,
   "metadata": {},
   "outputs": [],
   "source": [
    "def dropdown_action(change):\n",
    "    current_accordion = dist_accordion.children[dist_accordion.selected_index]\n",
    "    dropdown = current_accordion.children[1]\n",
    "    shape_slider = current_accordion.children[3]\n",
    "    shape_slider.hold_trait_notifications()\n",
    "\n",
    "    # Update the shape slider according to the chosen distribution\n",
    "    if(dropdown.value is 'Uniform' or dropdown.value is 'Custom'):\n",
    "        shape_slider.disabled=True\n",
    "        shape_slider.layout.visibility='hidden'\n",
    "    else:\n",
    "\n",
    "        if(dropdown.value is 'Geom'):\n",
    "            shape_slider.step = 0.01\n",
    "            shape_slider.min = 0. + shape_slider.step\n",
    "            shape_slider.max = 1.\n",
    "            shape_slider.value = 0.5\n",
    "        elif(dropdown.value is 'Logser'):\n",
    "            shape_slider.step = 0.01\n",
    "            shape_slider.min = 0. + shape_slider.step\n",
    "            shape_slider.max = 1. - shape_slider.step\n",
    "            shape_slider.value = 0.6\n",
    "        elif(dropdown.value is 'Planck'):\n",
    "            shape_slider.step = 0.01\n",
    "            shape_slider.min = 0. + shape_slider.step\n",
    "            shape_slider.max = 1.\n",
    "            shape_slider.value = 0.51\n",
    "        elif(dropdown.value is 'Zipf'):\n",
    "            shape_slider.max = 10.\n",
    "            shape_slider.step = 0.01\n",
    "            shape_slider.min = 1. + shape_slider.step\n",
    "            shape_slider.value = 1.5\n",
    "\n",
    "        shape_slider.disabled=False\n",
    "        shape_slider.layout.visibility='visible'\n",
    "        \n",
    "    #Reset values\n",
    "    active_sliders = current_accordion.children[2].children   \n",
    "     \n",
    "    for slider in active_sliders:\n",
    "        index = active_sliders.index(slider)\n",
    "        \n",
    "        val = dropdown.value\n",
    "        if val not in answer_dist[dist_accordion.selected_index][index].keys():\n",
    "            update_dist(None)\n",
    "        slider.value = answer_dist[dist_accordion.selected_index][index][val]"
   ]
  },
  {
   "cell_type": "code",
   "execution_count": 6,
   "metadata": {},
   "outputs": [
    {
     "data": {
      "text/plain": [
       "{}"
      ]
     },
     "execution_count": 6,
     "metadata": {},
     "output_type": "execute_result"
    }
   ],
   "source": [
    "answer_dist"
   ]
  },
  {
   "cell_type": "code",
   "execution_count": 7,
   "metadata": {},
   "outputs": [
    {
     "data": {
      "text/plain": [
       "{'children': [{'answers': ['B+', 'AB+', 'O-', 'A-', 'Other'],\n",
       "   'probability': ['1/5', '1/5', '1/5', '1/5', '1/5'],\n",
       "   'qid': 1,\n",
       "   'question': 'Specify...'},\n",
       "  {'answers': ['B-', 'AB-'],\n",
       "   'probability': ['1/2', '1/2'],\n",
       "   'qid': 2,\n",
       "   'question': 'Specify further...'}],\n",
       " 'paths': [[0, 'Other', 1], [1, 'Other', 2]],\n",
       " 'roots': [{'answers': ['O+', 'A+', 'Other'],\n",
       "   'probability': ['1/3', '1/3', '1/3'],\n",
       "   'qid': 0,\n",
       "   'question': 'Blood type?'}],\n",
       " 'truth': ['1/4']}"
      ]
     },
     "execution_count": 7,
     "metadata": {},
     "output_type": "execute_result"
    }
   ],
   "source": [
    "#Example JSON\n",
    "root_question = {'qid':0,\n",
    "'question': 'Blood type?',\n",
    "'answers': ['O+','A+','Other'],\n",
    "'probability': ['1/3','1/3','1/3']}\n",
    "\n",
    "follow_up_1 = {'qid':1,\n",
    "'question': 'Specify...',\n",
    "'answers': ['B+','AB+','O-','A-','Other'],\n",
    "'probability': ['1/5','1/5','1/5','1/5','1/5']}\n",
    "\n",
    "follow_up_2 = {'qid':2,\n",
    "'question': 'Specify further...',\n",
    "'answers': ['B-','AB-'],\n",
    "'probability': ['1/2','1/2']}\n",
    "\n",
    "paths = [[0,'Other',1], [1,'Other',2]]\n",
    "\n",
    "json_poll = {\n",
    "    'roots': [root_question],\n",
    "    'children': [follow_up_1, follow_up_2],\n",
    "    'paths':paths,\n",
    "    'truth':['1/4']\n",
    "}\n",
    "json_poll"
   ]
  },
  {
   "cell_type": "code",
   "execution_count": 8,
   "metadata": {},
   "outputs": [
    {
     "data": {
      "application/javascript": [
       "IPython.OutputArea.auto_scroll_threshold = 9999;"
      ],
      "text/plain": [
       "<IPython.core.display.Javascript object>"
      ]
     },
     "metadata": {},
     "output_type": "display_data"
    },
    {
     "data": {
      "text/html": [
       "<style>\n",
       ".jupyter-widgets.widget-tab > .p-TabBar .p-TabBar-tab {\n",
       "    flex: 0 1 180px\n",
       "}\n",
       "</style>"
      ],
      "text/plain": [
       "<IPython.core.display.HTML object>"
      ]
     },
     "metadata": {},
     "output_type": "display_data"
    }
   ],
   "source": [
    "%run gui_components.ipynb"
   ]
  },
  {
   "cell_type": "code",
   "execution_count": 9,
   "metadata": {},
   "outputs": [],
   "source": [
    "# Distribution sliders per question (non-flattened)\n",
    "children = []\n",
    "\n",
    "subtrees = pollToSubtrees(json_poll)\n",
    "for question in subtrees:\n",
    "    for subquestion in subtrees[question]:\n",
    "        dist_accordion.set_title(subquestion['qid'], 'Question: '+subquestion['question'])\n",
    "        html = widgets.HTML('<h3>Choose weight distribution...</h3>')\n",
    "        to_add = []\n",
    "        answer_dist[subquestion['qid']] = {}\n",
    "        \n",
    "        count = 0\n",
    "        for answer in subquestion['answers']:\n",
    "            probability = subquestion['probability'][count]\n",
    "            to_add.append(widgets.FloatSlider(\n",
    "                value=probability,\n",
    "                min=0,\n",
    "                max=1.0,\n",
    "                step=0.01,\n",
    "                description=answer,\n",
    "                disabled=False,\n",
    "                continuous_update=False,\n",
    "                orientation='vertical',\n",
    "                readout=True,\n",
    "                readout_format='.1f',\n",
    "            ))\n",
    "            answer_dist[subquestion['qid']][count] = {'Custom': probability}\n",
    "            count +=1\n",
    "        \n",
    "        #Components\n",
    "        _shape_slider = widgets.FloatSlider(min=0., max=5., step=0.1, value=0., continuous_update=False, description='Shape', disabled=True) \n",
    "        _dropdown = widgets.Dropdown(options=dists, value='Custom', description='Distribution:', disabled=False)\n",
    "        _button = widgets.Button(description='Update weights', icon='fa-bar-chart', button_style='success')\n",
    "        \n",
    "        #Actions\n",
    "        _button.on_click(update_dist)\n",
    "        _dropdown.observe(dropdown_action)\n",
    "        \n",
    "        contents =[html, _dropdown, widgets.HBox(to_add),_shape_slider, _button]\n",
    "        children.append( widgets.VBox(contents))\n",
    "        \n",
    "dist_accordion.children = children\n",
    "dist_box = widgets.VBox([dist_accordion])"
   ]
  },
  {
   "cell_type": "code",
   "execution_count": 10,
   "metadata": {},
   "outputs": [
    {
     "data": {
      "application/vnd.jupyter.widget-view+json": {
       "model_id": "2fd4b55d85cb4d418e40f279c6ddfb81",
       "version_major": 2,
       "version_minor": 0
      },
      "text/plain": [
       "HTML(value=u'<center><h1> Choose Parameters')"
      ]
     },
     "metadata": {},
     "output_type": "display_data"
    },
    {
     "data": {
      "application/vnd.jupyter.widget-view+json": {
       "model_id": "f58cd54ec988475c9ed900d0152cecd0",
       "version_major": 2,
       "version_minor": 0
      },
      "text/plain": [
       "VGFiKGNoaWxkcmVuPShIQm94KGNoaWxkcmVuPShWQm94KGNoaWxkcmVuPShMYWJlbCh2YWx1ZT11J0lucHV0IEpTT046JyksIFNlbGVjdChvcHRpb25zPSgnYmxvb2QuanNvbicsKSwgdmFsdWXigKY=\n"
      ]
     },
     "metadata": {},
     "output_type": "display_data"
    }
   ],
   "source": [
    "display(widgets.HTML('<center><h1> Choose Parameters'))\n",
    "display(start_tab)"
   ]
  },
  {
   "cell_type": "code",
   "execution_count": 11,
   "metadata": {},
   "outputs": [
    {
     "data": {
      "application/vnd.jupyter.widget-view+json": {
       "model_id": "ceafc9af57c14fdbb3c1439d3ddbfc37",
       "version_major": 2,
       "version_minor": 0
      },
      "text/plain": [
       "HTML(value=u'<center><h1> Set <i>True</i> Answer Distribution</h1></center>')"
      ]
     },
     "metadata": {},
     "output_type": "display_data"
    },
    {
     "data": {
      "application/vnd.jupyter.widget-view+json": {
       "model_id": "8035b75247884fec9c48e695eb199325",
       "version_major": 2,
       "version_minor": 0
      },
      "text/plain": [
       "QWNjb3JkaW9uKGNoaWxkcmVuPShWQm94KGNoaWxkcmVuPShIVE1MKHZhbHVlPXUnPGgzPkNob29zZSB3ZWlnaHQgZGlzdHJpYnV0aW9uLi4uPC9oMz4nKSwgRHJvcGRvd24oZGVzY3JpcHRpb27igKY=\n"
      ]
     },
     "metadata": {},
     "output_type": "display_data"
    }
   ],
   "source": [
    "display(widgets.HTML('<center><h1> Set <i>True</i> Answer Distribution</h1></center>'))\n",
    "display(dist_accordion)\n",
    "dropdown_action(None)"
   ]
  },
  {
   "cell_type": "code",
   "execution_count": 12,
   "metadata": {},
   "outputs": [],
   "source": [
    "matrices = pollToMatrix(json_poll)\n",
    "epsilons = pollToEpsilon(json_poll)\n",
    "ps = pollToPaths(json_poll)"
   ]
  },
  {
   "cell_type": "code",
   "execution_count": 13,
   "metadata": {},
   "outputs": [],
   "source": [
    "selected = {}\n",
    "for question in subtrees:\n",
    "    selected[question] = {}\n",
    "    for subquestion in subtrees[question]:\n",
    "        selected[question][subquestion['qid']] = []\n",
    "        current_box = dist_accordion.children[subquestion['qid']].children\n",
    "        current_dropdown = current_box[1]\n",
    "        current_sliders = current_box[2].children\n",
    "  \n",
    "        for slider in current_sliders:\n",
    "            index = current_sliders.index(slider)\n",
    "            selected[question][subquestion['qid']].append(answer_dist[subquestion['qid']][index][current_dropdown.value])\n",
    "            \n",
    "#NORMALIZE SLIDER VALUES BEFORE MOVING ON\n",
    "\n",
    "# Find matching path\n",
    "# {qid: (Path, Fraction)}\n"
   ]
  },
  {
   "cell_type": "code",
   "execution_count": 14,
   "metadata": {},
   "outputs": [],
   "source": [
    "# Turn slides to JSON, then parse to find path-weight pairs\n",
    "\n",
    "#FIXME: Don't overwrite actual json_poll, do deep copy!\n",
    " \n",
    "dist_poll = json_poll\n",
    "\n",
    "for question in subtrees:\n",
    "    root = filter(lambda x: x['qid']==question, dist_poll['roots'])[0]\n",
    "    root['probability'] = selected[question][question]\n",
    "    \n",
    "    for subquestion in subtrees[question]:\n",
    "        # Roots have already been added, will also return empty list so ignore\n",
    "        question_struct = filter(lambda x: x['qid']==subquestion['qid'], dist_poll['children'])\n",
    "        if len(question_struct) > 0:\n",
    "            question_struct[0]['probability'] = selected[question][subquestion['qid']]\n",
    "            \n",
    "    # FIXME: NEEDS TO SUM TO 1.\n",
    "    # NORMALIZE VALUES!\n",
    "\n",
    "            \n",
    "weights = pollToPathWeights(dist_poll)"
   ]
  },
  {
   "cell_type": "code",
   "execution_count": 15,
   "metadata": {},
   "outputs": [
    {
     "data": {
      "text/plain": [
       "{0: [(['O+'], Fraction(1, 3)),\n",
       "  (['A+'], Fraction(1, 3)),\n",
       "  (['Other', 'B+'], Fraction(1, 15)),\n",
       "  (['Other', 'AB+'], Fraction(1, 15)),\n",
       "  (['Other', 'O-'], Fraction(1, 15)),\n",
       "  (['Other', 'A-'], Fraction(1, 15)),\n",
       "  (['Other', 'Other', 'B-'], Fraction(1, 30)),\n",
       "  (['Other', 'Other', 'AB-'], Fraction(1, 30))]}"
      ]
     },
     "execution_count": 15,
     "metadata": {},
     "output_type": "execute_result"
    }
   ],
   "source": [
    "ans_dist_zip = {}\n",
    "for question in ps.keys():\n",
    "    paths = ps[question]\n",
    "    weight = weights[question]\n",
    "    zipped = []\n",
    "    for path in paths:\n",
    "        zipped.append((path, weights[question][pathToKey(path)]))\n",
    "\n",
    "    ans_dist_zip[question] = zipped\n",
    "ans_dist_zip"
   ]
  },
  {
   "cell_type": "code",
   "execution_count": 16,
   "metadata": {},
   "outputs": [],
   "source": [
    "\n",
    "participants = []\n",
    "n = 100\n",
    "participant_budget = 40\n",
    "\n",
    "#TODO: Loop x times for confidence\n",
    "\n",
    "raw_responses = []\n",
    "real_answers = []\n",
    "\n",
    "for i in range(0, n):\n",
    "    new_participant = Participant(participant_budget, json_poll)\n",
    "    new_participant.setMatrices(matrices)\n",
    "    new_participant.setEpsilons(epsilons)\n",
    "    new_participant.createAnswer(ans_dist_zip)\n",
    "\n",
    "    real_answers.append(dict(new_participant.getAnswer())) #Beware: deep copy required!\n",
    "    raw_responses.append(new_participant.randomizedResponse())\n",
    "    \n",
    "    participants.append(new_participant)"
   ]
  },
  {
   "cell_type": "code",
   "execution_count": 17,
   "metadata": {},
   "outputs": [],
   "source": [
    "# Count occurences"
   ]
  },
  {
   "cell_type": "code",
   "execution_count": 18,
   "metadata": {},
   "outputs": [],
   "source": [
    "lists_responses = {}\n",
    "lists_answer = {}\n",
    "for question in subtrees.keys():\n",
    "    lists_responses[question] = map(lambda x: pathToKey(x[question]), raw_responses)\n",
    "    lists_answer[question] = map(lambda x: pathToKey(x[question]), real_answers)"
   ]
  },
  {
   "cell_type": "code",
   "execution_count": 19,
   "metadata": {},
   "outputs": [
    {
     "data": {
      "text/plain": [
       "[['O+'],\n",
       " ['A+'],\n",
       " ['Other', 'B+'],\n",
       " ['Other', 'AB+'],\n",
       " ['Other', 'O-'],\n",
       " ['Other', 'A-'],\n",
       " ['Other', 'Other', 'B-'],\n",
       " ['Other', 'Other', 'AB-']]"
      ]
     },
     "execution_count": 19,
     "metadata": {},
     "output_type": "execute_result"
    }
   ],
   "source": [
    "ps[question]"
   ]
  },
  {
   "cell_type": "code",
   "execution_count": 20,
   "metadata": {
    "scrolled": true
   },
   "outputs": [
    {
     "data": {
      "text/plain": [
       "({0: {'A+': 30,\n",
       "   'O+': 38,\n",
       "   'OtherA-': 7,\n",
       "   'OtherAB+': 2,\n",
       "   'OtherB+': 11,\n",
       "   'OtherO-': 7,\n",
       "   'OtherOtherAB-': 1,\n",
       "   'OtherOtherB-': 4}},\n",
       " {0: {'A+': 32,\n",
       "   'O+': 40,\n",
       "   'OtherA-': 5,\n",
       "   'OtherAB+': 7,\n",
       "   'OtherB+': 5,\n",
       "   'OtherO-': 8,\n",
       "   'OtherOtherAB-': 2,\n",
       "   'OtherOtherB-': 1}})"
      ]
     },
     "execution_count": 20,
     "metadata": {},
     "output_type": "execute_result"
    }
   ],
   "source": [
    "response_frame = pd.DataFrame(lists_responses)\n",
    "response_frequency = {}\n",
    "answer_frame = pd.DataFrame(lists_answer)\n",
    "answer_frequency = {}\n",
    "\n",
    "for question in subtrees.keys():\n",
    "    response_frequency[question] = {}\n",
    "    answer_frequency[question] = {}\n",
    "\n",
    "    to_match = pd.unique(response_frame[question])\n",
    "    for match in to_match:\n",
    "        response_frequency[question][match] = len(response_frame[response_frame[question]==match])\n",
    "        answer_frequency[question][match] = len(answer_frame[answer_frame[question]==match])\n",
    "        \n",
    "        \n",
    "response_frequency, answer_frequency"
   ]
  },
  {
   "cell_type": "code",
   "execution_count": 21,
   "metadata": {},
   "outputs": [],
   "source": [
    "# BAYES THEOREM"
   ]
  },
  {
   "cell_type": "code",
   "execution_count": 22,
   "metadata": {},
   "outputs": [],
   "source": [
    "\n",
    "#TODO: compare to ground truth\n",
    "\n",
    "#TODO: display graphs"
   ]
  },
  {
   "cell_type": "code",
   "execution_count": null,
   "metadata": {},
   "outputs": [],
   "source": []
  }
 ],
 "metadata": {
  "kernelspec": {
   "display_name": "Python 2",
   "language": "python",
   "name": "python2"
  },
  "language_info": {
   "codemirror_mode": {
    "name": "ipython",
    "version": 2
   },
   "file_extension": ".py",
   "mimetype": "text/x-python",
   "name": "python",
   "nbconvert_exporter": "python",
   "pygments_lexer": "ipython2",
   "version": "2.7.17"
  }
 },
 "nbformat": 4,
 "nbformat_minor": 2
}
