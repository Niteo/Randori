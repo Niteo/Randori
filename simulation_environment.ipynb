{
 "cells": [
  {
   "cell_type": "code",
   "execution_count": 1,
   "metadata": {},
   "outputs": [],
   "source": [
    "import json\n",
    "import itertools\n",
    "from fractions import Fraction\n",
    "import numpy as np\n",
    "import pandas\n",
    "\n",
    "#GUI elements\n",
    "import ipywidgets as widgets\n",
    "from IPython.display import display, clear_output, HTML"
   ]
  },
  {
   "cell_type": "code",
   "execution_count": 2,
   "metadata": {},
   "outputs": [
    {
     "name": "stderr",
     "output_type": "stream",
     "text": [
      "\n",
      "----------------------------------------------------------------------\n",
      "Ran 0 tests in 0.000s\n",
      "\n",
      "OK\n"
     ]
    }
   ],
   "source": [
    "%run logic.ipynb\n",
    "%run participant.ipynb"
   ]
  },
  {
   "cell_type": "code",
   "execution_count": 3,
   "metadata": {},
   "outputs": [
    {
     "data": {
      "text/plain": [
       "{'children': [{'answers': ['B+', 'AB+', 'O-', 'A-', 'Other'],\n",
       "   'probability': ['1/5', '1/5', '1/5', '1/5', '1/5'],\n",
       "   'qid': 1,\n",
       "   'question': 'Specify...'},\n",
       "  {'answers': ['B-', 'AB-'],\n",
       "   'probability': ['1/2', '1/2'],\n",
       "   'qid': 2,\n",
       "   'question': 'Specify further...'}],\n",
       " 'paths': [[0, 'Other', 1], [1, 'Other', 2]],\n",
       " 'roots': [{'answers': ['O+', 'A+', 'Other'],\n",
       "   'probability': ['1/3', '1/3', '1/3'],\n",
       "   'qid': 0,\n",
       "   'question': 'Blood type?'}],\n",
       " 'truth': ['1/4']}"
      ]
     },
     "execution_count": 3,
     "metadata": {},
     "output_type": "execute_result"
    }
   ],
   "source": [
    "#Example JSON\n",
    "root_question = {'qid':0,\n",
    "'question': 'Blood type?',\n",
    "'answers': ['O+','A+','Other'],\n",
    "'probability': ['1/3','1/3','1/3']}\n",
    "\n",
    "follow_up_1 = {'qid':1,\n",
    "'question': 'Specify...',\n",
    "'answers': ['B+','AB+','O-','A-','Other'],\n",
    "'probability': ['1/5','1/5','1/5','1/5','1/5']}\n",
    "\n",
    "follow_up_2 = {'qid':2,\n",
    "'question': 'Specify further...',\n",
    "'answers': ['B-','AB-'],\n",
    "'probability': ['1/2','1/2']}\n",
    "\n",
    "paths = [[0,'Other',1], [1,'Other',2]]\n",
    "\n",
    "json_poll = {\n",
    "    'roots': [root_question],\n",
    "    'children': [follow_up_1, follow_up_2],\n",
    "    'paths':paths,\n",
    "    'truth':['1/4']\n",
    "}\n",
    "json_poll"
   ]
  },
  {
   "cell_type": "code",
   "execution_count": 4,
   "metadata": {},
   "outputs": [
    {
     "data": {
      "application/javascript": [
       "IPython.OutputArea.auto_scroll_threshold = 9999;"
      ],
      "text/plain": [
       "<IPython.core.display.Javascript object>"
      ]
     },
     "metadata": {},
     "output_type": "display_data"
    },
    {
     "data": {
      "text/html": [
       "<style>\n",
       ".jupyter-widgets.widget-tab > .p-TabBar .p-TabBar-tab {\n",
       "    flex: 0 1 180px\n",
       "}\n",
       "</style>"
      ],
      "text/plain": [
       "<IPython.core.display.HTML object>"
      ]
     },
     "metadata": {},
     "output_type": "display_data"
    }
   ],
   "source": [
    "%run gui_components.ipynb"
   ]
  },
  {
   "cell_type": "code",
   "execution_count": 5,
   "metadata": {},
   "outputs": [],
   "source": [
    "# Distribution sliders per question (non-flattened)\n",
    "children = []\n",
    "\n",
    "subtrees = pollToSubtrees(json_poll)\n",
    "for question in subtrees:\n",
    "    for subquestion in subtrees[question]:\n",
    "        html = widgets.HTML('<b>Question:</b> '+subquestion['question'])\n",
    "        to_add = []\n",
    "        \n",
    "        count = 0\n",
    "        for answer in subquestion['answers']:\n",
    "            probability = subquestion['probability'][count]\n",
    "            to_add.append(widgets.Label(value=answer))\n",
    "            to_add.append(widgets.FloatSlider(\n",
    "                value=probability,\n",
    "                min=0,\n",
    "                max=1.0,\n",
    "                step=0.01,\n",
    "                description='Weight:',\n",
    "                disabled=False,\n",
    "                continuous_update=False,\n",
    "                orientation='vertical',\n",
    "                readout=True,\n",
    "                readout_format='.1f',\n",
    "            ))\n",
    "            count +=1\n",
    "        \n",
    "        contents =[html, widgets.HBox(to_add)]\n",
    "        children.append( widgets.VBox(contents))\n",
    "        \n",
    "dist_accordion.children = children\n",
    "dist_box = widgets.VBox([dist_accordion])"
   ]
  },
  {
   "cell_type": "code",
   "execution_count": 6,
   "metadata": {},
   "outputs": [
    {
     "data": {
      "application/vnd.jupyter.widget-view+json": {
       "model_id": "d8806a84a55b4a418007ddd1009106bf",
       "version_major": 2,
       "version_minor": 0
      },
      "text/plain": [
       "VGFiKGNoaWxkcmVuPShIQm94KGNoaWxkcmVuPShWQm94KGNoaWxkcmVuPShMYWJlbCh2YWx1ZT11J0lucHV0IEpTT046JyksIFNlbGVjdChvcHRpb25zPSgnYmxvb2QuanNvbicsKSwgdmFsdWXigKY=\n"
      ]
     },
     "metadata": {},
     "output_type": "display_data"
    }
   ],
   "source": [
    "display(start_tab)"
   ]
  },
  {
   "cell_type": "code",
   "execution_count": 7,
   "metadata": {},
   "outputs": [
    {
     "data": {
      "application/vnd.jupyter.widget-view+json": {
       "model_id": "282c0641385f4a4c965800381a11da13",
       "version_major": 2,
       "version_minor": 0
      },
      "text/plain": [
       "HTML(value=u'<center><h1> Input Distribution</h1></center>')"
      ]
     },
     "metadata": {},
     "output_type": "display_data"
    },
    {
     "data": {
      "application/vnd.jupyter.widget-view+json": {
       "model_id": "4fd4d9e10ab34e03abb4f8bd15607382",
       "version_major": 2,
       "version_minor": 0
      },
      "text/plain": [
       "QWNjb3JkaW9uKGNoaWxkcmVuPShWQm94KGNoaWxkcmVuPShIVE1MKHZhbHVlPXUnPGI+UXVlc3Rpb246PC9iPiBCbG9vZCB0eXBlPycpLCBIQm94KGNoaWxkcmVuPShMYWJlbCh2YWx1ZT11J0/igKY=\n"
      ]
     },
     "metadata": {},
     "output_type": "display_data"
    }
   ],
   "source": [
    "display(widgets.HTML('<center><h1> Input Distribution</h1></center>'))\n",
    "display(dist_accordion)"
   ]
  },
  {
   "cell_type": "code",
   "execution_count": 8,
   "metadata": {},
   "outputs": [],
   "source": [
    "participants = []\n",
    "n = 100000\n",
    "participant_budget = 40\n",
    "\n",
    "matrices = pollToMatrix(json_poll)\n",
    "epsilons = pollToEpsilon(json_poll)\n",
    "\n",
    "#TODO: Loop x times for confidence\n",
    "\n",
    "for i in range(0, n):\n",
    "    new_participant = Participant(participant_budget, json_poll)\n",
    "    new_participant.setMatrices(matrices)\n",
    "    new_participant.setEpsilons(epsilons)\n",
    "    participants.append(new_participant)\n",
    "    \n"
   ]
  },
  {
   "cell_type": "code",
   "execution_count": 9,
   "metadata": {},
   "outputs": [],
   "source": [
    "#TODO: read weights from dist_accordion\n",
    "\n",
    "weights = pollToPathWeights(json_poll)\n",
    "ps = pollToPaths(json_poll)\n",
    "\n",
    "ans_dist_zip = {}\n",
    "for question in ps.keys():\n",
    "    paths = ps[question]\n",
    "    weight = weights[question]\n",
    "    zipped = []\n",
    "    for path in paths:\n",
    "         zipped.append((path, weight[pathToKey(path)]))\n",
    "    ans_dist_zip[question] = zipped\n",
    "\n",
    "#participant.createAnswer(ans_dist_zip)"
   ]
  },
  {
   "cell_type": "code",
   "execution_count": 10,
   "metadata": {},
   "outputs": [],
   "source": [
    "#TODO: set answer dist\n",
    "\n",
    "#TODO: run RR\n",
    "\n",
    "#TODO: compare to ground truth\n",
    "\n",
    "#TODO: display graphs"
   ]
  }
 ],
 "metadata": {
  "kernelspec": {
   "display_name": "Python 2",
   "language": "python",
   "name": "python2"
  },
  "language_info": {
   "codemirror_mode": {
    "name": "ipython",
    "version": 2
   },
   "file_extension": ".py",
   "mimetype": "text/x-python",
   "name": "python",
   "nbconvert_exporter": "python",
   "pygments_lexer": "ipython2",
   "version": "2.7.17"
  }
 },
 "nbformat": 4,
 "nbformat_minor": 2
}
