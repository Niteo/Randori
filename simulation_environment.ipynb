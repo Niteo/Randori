{
 "cells": [
  {
   "cell_type": "code",
   "execution_count": 1,
   "metadata": {},
   "outputs": [],
   "source": [
    "import json\n",
    "import itertools\n",
    "from fractions import Fraction\n",
    "import numpy as np\n",
    "import pandas\n",
    "\n",
    "#GUI elements\n",
    "import ipywidgets as widgets\n",
    "from IPython.display import display, clear_output, HTML"
   ]
  },
  {
   "cell_type": "code",
   "execution_count": 2,
   "metadata": {},
   "outputs": [
    {
     "name": "stderr",
     "output_type": "stream",
     "text": [
      "\n",
      "----------------------------------------------------------------------\n",
      "Ran 0 tests in 0.000s\n",
      "\n",
      "OK\n"
     ]
    }
   ],
   "source": [
    "%run logic.ipynb\n",
    "%run participant.ipynb"
   ]
  },
  {
   "cell_type": "code",
   "execution_count": 3,
   "metadata": {},
   "outputs": [],
   "source": [
    "def update_dist(change):\n",
    "    \n",
    "    dropdown = dist_accordion.children[dist_accordion.selected_index].children[1]\n",
    "    \n",
    "    if dropdown.value != 'Custom':\n",
    "        \n",
    "        active_sliders = dist_accordion.children[dist_accordion.selected_index].children[2].children\n",
    "        shape_slider = dist_accordion.children[dist_accordion.selected_index].children[3]\n",
    "\n",
    "        values = distMap[dropdown.value](len(active_sliders),shape_slider.value)\n",
    "\n",
    "        for slider in active_sliders:\n",
    "\n",
    "            index = active_sliders.index(slider)\n",
    "            slider.value = np.round(values[index], decimals=sliders_precision)\n",
    "    #else:\n",
    "        #TODO: reset to custom values\n",
    "        "
   ]
  },
  {
   "cell_type": "code",
   "execution_count": 4,
   "metadata": {},
   "outputs": [],
   "source": [
    "def dropdown_action(change):\n",
    "    dropdown = dist_accordion.children[dist_accordion.selected_index].children[1]\n",
    "    shape_slider = dist_accordion.children[dist_accordion.selected_index].children[3]\n",
    "    shape_slider.hold_trait_notifications()\n",
    "\n",
    "    # Update the shape slider according to the chosen distribution\n",
    "    if(dropdown.value is 'Uniform' or dropdown.value is 'Custom'):\n",
    "        shape_slider.disabled=True\n",
    "        shape_slider.layout.visibility='hidden'\n",
    "    else:\n",
    "\n",
    "        if(dropdown.value is 'Geom'):\n",
    "            shape_slider.step = 0.01\n",
    "            shape_slider.min = 0. + shape_slider.step\n",
    "            shape_slider.max = 1.\n",
    "            shape_slider.value = 0.5\n",
    "        elif(dropdown.value is 'Logser'):\n",
    "            shape_slider.step = 0.01\n",
    "            shape_slider.min = 0. + shape_slider.step\n",
    "            shape_slider.max = 1. - shape_slider.step\n",
    "            shape_slider.value = 0.6\n",
    "        elif(dropdown.value is 'Planck'):\n",
    "            shape_slider.step = 0.01\n",
    "            shape_slider.min = 0. + shape_slider.step\n",
    "            shape_slider.max = 1.\n",
    "            shape_slider.value = 0.51\n",
    "        elif(dropdown.value is 'Zipf'):\n",
    "            shape_slider.max = 10.\n",
    "            shape_slider.step = 0.01\n",
    "            shape_slider.min = 1. + shape_slider.step\n",
    "            shape_slider.value = 1.5\n",
    "\n",
    "        shape_slider.disabled=False\n",
    "        shape_slider.layout.visibility='visible'"
   ]
  },
  {
   "cell_type": "code",
   "execution_count": 5,
   "metadata": {},
   "outputs": [
    {
     "data": {
      "text/plain": [
       "{'children': [{'answers': ['B+', 'AB+', 'O-', 'A-', 'Other'],\n",
       "   'probability': ['1/5', '1/5', '1/5', '1/5', '1/5'],\n",
       "   'qid': 1,\n",
       "   'question': 'Specify...'},\n",
       "  {'answers': ['B-', 'AB-'],\n",
       "   'probability': ['1/2', '1/2'],\n",
       "   'qid': 2,\n",
       "   'question': 'Specify further...'}],\n",
       " 'paths': [[0, 'Other', 1], [1, 'Other', 2]],\n",
       " 'roots': [{'answers': ['O+', 'A+', 'Other'],\n",
       "   'probability': ['1/3', '1/3', '1/3'],\n",
       "   'qid': 0,\n",
       "   'question': 'Blood type?'}],\n",
       " 'truth': ['1/4']}"
      ]
     },
     "execution_count": 5,
     "metadata": {},
     "output_type": "execute_result"
    }
   ],
   "source": [
    "#Example JSON\n",
    "root_question = {'qid':0,\n",
    "'question': 'Blood type?',\n",
    "'answers': ['O+','A+','Other'],\n",
    "'probability': ['1/3','1/3','1/3']}\n",
    "\n",
    "follow_up_1 = {'qid':1,\n",
    "'question': 'Specify...',\n",
    "'answers': ['B+','AB+','O-','A-','Other'],\n",
    "'probability': ['1/5','1/5','1/5','1/5','1/5']}\n",
    "\n",
    "follow_up_2 = {'qid':2,\n",
    "'question': 'Specify further...',\n",
    "'answers': ['B-','AB-'],\n",
    "'probability': ['1/2','1/2']}\n",
    "\n",
    "paths = [[0,'Other',1], [1,'Other',2]]\n",
    "\n",
    "json_poll = {\n",
    "    'roots': [root_question],\n",
    "    'children': [follow_up_1, follow_up_2],\n",
    "    'paths':paths,\n",
    "    'truth':['1/4']\n",
    "}\n",
    "json_poll"
   ]
  },
  {
   "cell_type": "code",
   "execution_count": 6,
   "metadata": {},
   "outputs": [
    {
     "data": {
      "application/javascript": [
       "IPython.OutputArea.auto_scroll_threshold = 9999;"
      ],
      "text/plain": [
       "<IPython.core.display.Javascript object>"
      ]
     },
     "metadata": {},
     "output_type": "display_data"
    },
    {
     "data": {
      "text/html": [
       "<style>\n",
       ".jupyter-widgets.widget-tab > .p-TabBar .p-TabBar-tab {\n",
       "    flex: 0 1 180px\n",
       "}\n",
       "</style>"
      ],
      "text/plain": [
       "<IPython.core.display.HTML object>"
      ]
     },
     "metadata": {},
     "output_type": "display_data"
    },
    {
     "ename": "IndentationError",
     "evalue": "expected an indented block (<ipython-input-6-91d5aa547f1e>, line 4)",
     "output_type": "error",
     "traceback": [
      "\u001b[0;36m  File \u001b[0;32m\"<ipython-input-6-91d5aa547f1e>\"\u001b[0;36m, line \u001b[0;32m4\u001b[0m\n\u001b[0;31m    if(normal_button.value):\u001b[0m\n\u001b[0m     ^\u001b[0m\n\u001b[0;31mIndentationError\u001b[0m\u001b[0;31m:\u001b[0m expected an indented block\n"
     ]
    }
   ],
   "source": [
    "%run gui_components.ipynb"
   ]
  },
  {
   "cell_type": "code",
   "execution_count": 7,
   "metadata": {},
   "outputs": [],
   "source": [
    "# Distribution sliders per question (non-flattened)\n",
    "children = []\n",
    "\n",
    "subtrees = pollToSubtrees(json_poll)\n",
    "for question in subtrees:\n",
    "    for subquestion in subtrees[question]:\n",
    "        dist_accordion.set_title(subquestion['qid'], 'Question: '+subquestion['question'])\n",
    "        html = widgets.HTML('<h3>Choose weight distribution...</h3>')\n",
    "        to_add = []\n",
    "        \n",
    "        count = 0\n",
    "        for answer in subquestion['answers']:\n",
    "            probability = subquestion['probability'][count]\n",
    "            to_add.append(widgets.FloatSlider(\n",
    "                value=probability,\n",
    "                min=0,\n",
    "                max=1.0,\n",
    "                step=0.01,\n",
    "                description=answer+':',\n",
    "                disabled=False,\n",
    "                continuous_update=False,\n",
    "                orientation='vertical',\n",
    "                readout=True,\n",
    "                readout_format='.1f',\n",
    "            ))\n",
    "            count +=1\n",
    "        \n",
    "        #Components\n",
    "        _shape_slider = widgets.FloatSlider(min=0., max=5., step=0.1, value=0., continuous_update=False, description='Shape', disabled=True) \n",
    "        _dropdown = widgets.Dropdown(options=dists, value='Custom', description='Distribution:', disabled=False)\n",
    "        _button = widgets.Button(description='Update weights', icon='fa-bar-chart', button_style='success')\n",
    "        \n",
    "        #Actions\n",
    "        _button.on_click(update_dist)\n",
    "        _dropdown.observe(dropdown_action)\n",
    "        \n",
    "        contents =[html, _dropdown, widgets.HBox(to_add),_shape_slider, _button]\n",
    "        children.append( widgets.VBox(contents))\n",
    "        \n",
    "dist_accordion.children = children\n",
    "dist_box = widgets.VBox([dist_accordion])"
   ]
  },
  {
   "cell_type": "code",
   "execution_count": 8,
   "metadata": {},
   "outputs": [
    {
     "data": {
      "application/vnd.jupyter.widget-view+json": {
       "model_id": "58e7c06bd74a48ce908e80424a1d7e6f",
       "version_major": 2,
       "version_minor": 0
      },
      "text/plain": [
       "HTML(value=u'<center><h1> Choose Parameters')"
      ]
     },
     "metadata": {},
     "output_type": "display_data"
    },
    {
     "data": {
      "application/vnd.jupyter.widget-view+json": {
       "model_id": "23b6c94a61e248c5a2ffc284740dd0e2",
       "version_major": 2,
       "version_minor": 0
      },
      "text/plain": [
       "VGFiKGNoaWxkcmVuPShIQm94KGNoaWxkcmVuPShWQm94KGNoaWxkcmVuPShMYWJlbCh2YWx1ZT11J0lucHV0IEpTT046JyksIFNlbGVjdChvcHRpb25zPSgnYmxvb2QuanNvbicsKSwgdmFsdWXigKY=\n"
      ]
     },
     "metadata": {},
     "output_type": "display_data"
    }
   ],
   "source": [
    "display(widgets.HTML('<center><h1> Choose Parameters'))\n",
    "display(start_tab)"
   ]
  },
  {
   "cell_type": "code",
   "execution_count": 9,
   "metadata": {},
   "outputs": [
    {
     "data": {
      "application/vnd.jupyter.widget-view+json": {
       "model_id": "e408c4511f72475b8234cef774165700",
       "version_major": 2,
       "version_minor": 0
      },
      "text/plain": [
       "HTML(value=u'<center><h1> Set <i>True</i> Answer Distribution</h1></center>')"
      ]
     },
     "metadata": {},
     "output_type": "display_data"
    },
    {
     "data": {
      "application/vnd.jupyter.widget-view+json": {
       "model_id": "a187458eba7f42ea9e7badd8f4c689a4",
       "version_major": 2,
       "version_minor": 0
      },
      "text/plain": [
       "QWNjb3JkaW9uKGNoaWxkcmVuPShWQm94KGNoaWxkcmVuPShIVE1MKHZhbHVlPXUnPGgzPkNob29zZSB3ZWlnaHQgZGlzdHJpYnV0aW9uLi4uPC9oMz4nKSwgRHJvcGRvd24oZGVzY3JpcHRpb27igKY=\n"
      ]
     },
     "metadata": {},
     "output_type": "display_data"
    }
   ],
   "source": [
    "display(widgets.HTML('<center><h1> Set <i>True</i> Answer Distribution</h1></center>'))\n",
    "display(dist_accordion)\n",
    "dropdown_action(None)"
   ]
  },
  {
   "cell_type": "code",
   "execution_count": 10,
   "metadata": {},
   "outputs": [],
   "source": [
    "participants = []\n",
    "n = 100000\n",
    "participant_budget = 40\n",
    "\n",
    "matrices = pollToMatrix(json_poll)\n",
    "epsilons = pollToEpsilon(json_poll)\n",
    "\n",
    "#TODO: Loop x times for confidence\n",
    "\n",
    "for i in range(0, n):\n",
    "    new_participant = Participant(participant_budget, json_poll)\n",
    "    new_participant.setMatrices(matrices)\n",
    "    new_participant.setEpsilons(epsilons)\n",
    "    participants.append(new_participant)\n",
    "    \n"
   ]
  },
  {
   "cell_type": "code",
   "execution_count": 11,
   "metadata": {},
   "outputs": [],
   "source": [
    "#TODO: read weights from dist_accordion\n",
    "\n",
    "weights = pollToPathWeights(json_poll)\n",
    "ps = pollToPaths(json_poll)\n",
    "\n",
    "ans_dist_zip = {}\n",
    "for question in ps.keys():\n",
    "    paths = ps[question]\n",
    "    weight = weights[question]\n",
    "    zipped = []\n",
    "    for path in paths:\n",
    "         zipped.append((path, weight[pathToKey(path)]))\n",
    "    ans_dist_zip[question] = zipped\n",
    "\n",
    "#participant.createAnswer(ans_dist_zip)"
   ]
  },
  {
   "cell_type": "code",
   "execution_count": 12,
   "metadata": {},
   "outputs": [],
   "source": [
    "#TODO: set answer dist\n",
    "\n",
    "#TODO: run RR\n",
    "\n",
    "#TODO: compare to ground truth\n",
    "\n",
    "#TODO: display graphs"
   ]
  }
 ],
 "metadata": {
  "kernelspec": {
   "display_name": "Python 2",
   "language": "python",
   "name": "python2"
  },
  "language_info": {
   "codemirror_mode": {
    "name": "ipython",
    "version": 2
   },
   "file_extension": ".py",
   "mimetype": "text/x-python",
   "name": "python",
   "nbconvert_exporter": "python",
   "pygments_lexer": "ipython2",
   "version": "2.7.17"
  }
 },
 "nbformat": 4,
 "nbformat_minor": 2
}
