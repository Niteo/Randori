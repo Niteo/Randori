{
 "cells": [
  {
   "cell_type": "code",
   "execution_count": 1,
   "metadata": {},
   "outputs": [],
   "source": [
    "import json\n",
    "import itertools\n",
    "from fractions import Fraction\n",
    "import numpy as np"
   ]
  },
  {
   "cell_type": "code",
   "execution_count": 2,
   "metadata": {},
   "outputs": [],
   "source": [
    "def traverse(qid_dict, paths, subtree, edges, current_index):\n",
    "    for [parent, alt, next_qid] in paths:\n",
    "        if parent == current_index:\n",
    "            subtree.append(qid_dict[next_qid])\n",
    "            edges.append([parent, alt, next_qid])\n",
    "            traverse(qid_dict, paths, subtree, edges, next_qid)\n",
    "    "
   ]
  },
  {
   "cell_type": "code",
   "execution_count": 3,
   "metadata": {},
   "outputs": [],
   "source": [
    "def findPath(qid_dict, paths, acc, node):\n",
    "    my_paths = getPaths(paths, node)\n",
    "    if my_paths==None:\n",
    "        return map(lambda x: acc+[x], qid_dict[node]['answers'])\n",
    "    else:\n",
    "        results = []\n",
    "        structure = qid_dict[node]\n",
    "        for alt in structure['answers']:\n",
    "            if alt not in map(lambda x: x[1], my_paths):\n",
    "                results.append(acc+[alt])\n",
    "        for path in my_paths:\n",
    "            parent, alt, next_qid = path\n",
    "            temp = findPath(qid_dict, paths, acc+[alt], next_qid) \n",
    "            results+= temp\n",
    "        return results\n",
    "            "
   ]
  },
  {
   "cell_type": "code",
   "execution_count": 4,
   "metadata": {},
   "outputs": [],
   "source": [
    "def findProbabilities(qid_dict, paths, acc, node):\n",
    "    my_paths = getPaths(paths, node)\n",
    "    if my_paths==None:\n",
    "        tuples = zip(qid_dict[node]['answers'], qid_dict[node]['probability'])\n",
    "        return map(lambda x: acc+[x], tuples)\n",
    "    else:\n",
    "        results = []\n",
    "        structure = qid_dict[node]\n",
    "        tuples = zip(qid_dict[node]['answers'], qid_dict[node]['probability'])\n",
    "        \n",
    "        for alt, prob in tuples:\n",
    "            if alt not in map(lambda x: x[1], my_paths):\n",
    "                results.append(acc+[(alt, prob)])\n",
    "                \n",
    "        for path in my_paths:\n",
    "            parent, alt, next_qid = path\n",
    "            parent_node = qid_dict[parent]\n",
    "            tuples = zip(parent_node['answers'], parent_node['probability'])\n",
    "            match = ()\n",
    "            for a, p in tuples:\n",
    "                if a == alt:\n",
    "                    match = (a, p)\n",
    "            temp = findProbabilities(qid_dict, paths, acc+[match], next_qid) \n",
    "            results+= temp\n",
    "            \n",
    "        return results\n",
    "            "
   ]
  },
  {
   "cell_type": "code",
   "execution_count": 5,
   "metadata": {},
   "outputs": [],
   "source": [
    "def subtreePaths(qid_dict, paths, subtree):\n",
    "    qids = map(lambda x: x['qid'],subtree)\n",
    "    temp = map(lambda y: getPaths(paths, y), qids) #Find all paths starting with our qids\n",
    "    matches = [x for x in temp if x != None]\n",
    "    \n",
    "    flattened = list(itertools.chain.from_iterable(matches))\n",
    "    \n",
    "    return flattened"
   ]
  },
  {
   "cell_type": "code",
   "execution_count": 6,
   "metadata": {},
   "outputs": [],
   "source": [
    "def decorate(qid_dict, paths, subtree):\n",
    "    flattened = subtreePaths(qid_dict, paths, subtree)\n",
    "    \n",
    "    parents, alts, children = zip(*flattened)    \n",
    "    parent_children = (set(parents)&set(children)) #Intersection, find overlap\n",
    "    \n",
    "    all_parents = list(set(parents) | parent_children) #Union, remove duplicates\n",
    "    leaves = set(children)-set(all_parents) #Difference, parents not in children\n",
    "\n",
    "    # Decorate questions\n",
    "    for child in leaves:\n",
    "        qid_dict[child]['hasFollowUp'] = 'False'\n",
    "    for parent in all_parents:\n",
    "        qid_dict[parent]['hasFollowUp'] = 'True'"
   ]
  },
  {
   "cell_type": "code",
   "execution_count": 7,
   "metadata": {},
   "outputs": [],
   "source": [
    "def getPaths(paths, parent):\n",
    "    toReturn = []\n",
    "    for [p, alt, child] in paths:\n",
    "        if p == parent:\n",
    "            toReturn.append([p,alt, child])\n",
    "\n",
    "    if toReturn != []:\n",
    "        return toReturn"
   ]
  },
  {
   "cell_type": "code",
   "execution_count": 8,
   "metadata": {},
   "outputs": [],
   "source": [
    "def pathToAlt(qid_dict, paths):\n",
    "    answers = {}\n",
    "    for [parent, prev_alt, next_qid] in paths:\n",
    "        answers[parent]=[]\n",
    "        for alt in qid_dict[next_qid]['answers']:\n",
    "            answers[parent].append(prev_alt+alt)\n",
    "            print prev_alt+alt\n",
    "            \n",
    "    return answers\n",
    "    "
   ]
  },
  {
   "cell_type": "code",
   "execution_count": 9,
   "metadata": {},
   "outputs": [],
   "source": [
    "def weightedPathToKey(path):\n",
    "    result = ''\n",
    "    for (alt, prob) in path:\n",
    "        result+=alt\n",
    "    return result\n",
    "\n",
    "def pathToKey(path):\n",
    "    result = ''\n",
    "    for alt in path:\n",
    "        result+=alt\n",
    "    return result"
   ]
  },
  {
   "cell_type": "code",
   "execution_count": 10,
   "metadata": {},
   "outputs": [
    {
     "data": {
      "text/plain": [
       "{'children': [{'answers': ['B+', 'AB+', 'O-', 'A-', 'Other'],\n",
       "   'probability': ['1/5', '1/5', '1/5', '1/5', '1/5'],\n",
       "   'qid': 1,\n",
       "   'question': 'Specify...'},\n",
       "  {'answers': ['B-', 'AB-'],\n",
       "   'probability': ['1/2', '1/2'],\n",
       "   'qid': 2,\n",
       "   'question': 'Specify further...'}],\n",
       " 'paths': [[0, 'Other', 1], [1, 'Other', 2]],\n",
       " 'roots': [{'answers': ['O+', 'A+', 'Other'],\n",
       "   'probability': ['1/3', '1/3', '1/3'],\n",
       "   'qid': 0,\n",
       "   'question': 'Blood type?'}],\n",
       " 'truth': ['1/4']}"
      ]
     },
     "execution_count": 10,
     "metadata": {},
     "output_type": "execute_result"
    }
   ],
   "source": [
    "#Example JSON\n",
    "root_question = {'qid':0,\n",
    "'question': 'Blood type?',\n",
    "'answers': ['O+','A+','Other'],\n",
    "'probability': ['1/3','1/3','1/3']}\n",
    "\n",
    "follow_up_1 = {'qid':1,\n",
    "'question': 'Specify...',\n",
    "'answers': ['B+','AB+','O-','A-','Other'],\n",
    "'probability': ['1/5','1/5','1/5','1/5','1/5']}\n",
    "\n",
    "follow_up_2 = {'qid':2,\n",
    "'question': 'Specify further...',\n",
    "'answers': ['B-','AB-'],\n",
    "'probability': ['1/2','1/2']}\n",
    "\n",
    "paths = [[0,'Other',1], [1,'Other',2]]\n",
    "\n",
    "json_poll = {\n",
    "    'roots': [root_question],\n",
    "    'children': [follow_up_1, follow_up_2],\n",
    "    'paths':paths,\n",
    "    'truth':['1/4']\n",
    "}\n",
    "json_poll"
   ]
  },
  {
   "cell_type": "code",
   "execution_count": 11,
   "metadata": {},
   "outputs": [],
   "source": [
    "#Parse to proper datatypes\n",
    "root_questions = json_poll['roots']\n",
    "follow_ups = json_poll['children']\n",
    "root_to_truth = {}\n",
    "\n",
    "#Convert from id to questions\n",
    "qid_dict = {}\n",
    "\n",
    "count = 0\n",
    "for root in root_questions:\n",
    "    root['probability'] = map(lambda x: Fraction(x), root['probability']) #Convert String to Fraction\n",
    "    qid_dict[root['qid']]= root\n",
    "    root_to_truth[root['qid']] = Fraction(json_poll['truth'][count])\n",
    "    count+=1\n",
    "\n",
    "    \n",
    "for followup in follow_ups:\n",
    "    followup['probability'] = map(lambda x: Fraction(x), followup['probability']) #Convert String to Fraction\n",
    "    qid_dict[followup['qid']] = followup"
   ]
  },
  {
   "cell_type": "code",
   "execution_count": 12,
   "metadata": {},
   "outputs": [],
   "source": [
    "#Find question order\n",
    "\n",
    "subtrees = {}\n",
    "edges = []\n",
    "question_paths = {}\n",
    "answer_prob = {}\n",
    "\n",
    "for root in root_questions:\n",
    "    qid = root['qid']\n",
    "    subtrees[qid] = [root]\n",
    "    traverse(qid_dict, paths, subtrees[qid], edges, qid)\n",
    "    decorate(qid_dict, paths, subtrees[qid])\n",
    "    \n",
    "    question_paths[qid] = findPath(qid_dict, paths, [], qid)\n",
    "    answer_prob[qid] = findProbabilities(qid_dict, paths, [], qid)"
   ]
  },
  {
   "cell_type": "code",
   "execution_count": 14,
   "metadata": {},
   "outputs": [
    {
     "name": "stdout",
     "output_type": "stream",
     "text": [
      "20\n"
     ]
    }
   ],
   "source": [
    "#Construct transition matrix\n",
    "transition_matrix_subtree = {}\n",
    "epsilons = {}\n",
    "for tree in answer_prob.keys():\n",
    "    coinflip = root_to_truth[tree]\n",
    "    path_prob = {}\n",
    "\n",
    "    for path in answer_prob[tree]:\n",
    "        node_prob = 1\n",
    "        path_string = weightedPathToKey(path)\n",
    "        for alt, prob in path:\n",
    "             node_prob*=prob\n",
    "        path_prob[path_string] = node_prob\n",
    "    \n",
    "    matrix = {}\n",
    "    chosen_epsilon = 0\n",
    "    for _from in path_prob.keys():\n",
    "        column_keys = []\n",
    "        for _to in path_prob.keys():\n",
    "            key = (_from, _to)\n",
    "            column_keys.append(key)\n",
    "            # Higher likelihood to stay on same value\n",
    "            if _from == _to:\n",
    "                matrix[key] = (1-coinflip)*path_prob[_to] + coinflip #Random + truth\n",
    "            else:\n",
    "                matrix[key]= (1-coinflip)*path_prob[_to] #Only random\n",
    "            \n",
    "        cases = []\n",
    "        for key in column_keys:\n",
    "            cases.append(matrix[key])\n",
    "        \n",
    "        assert sum(cases)==1\n",
    "        \n",
    "        candidate_epsilon=  max(np.divide(min(cases),max(cases)), np.divide(max(cases),min(cases)))\n",
    "        if candidate_epsilon>chosen_epsilon:\n",
    "            chosen_epsilon=candidate_epsilon\n",
    "    \n",
    "    print chosen_epsilon\n",
    "        \n",
    "    epsilons[tree] = chosen_epsilon\n",
    "    transition_matrix_subtree[tree] = matrix\n",
    "   "
   ]
  },
  {
   "cell_type": "code",
   "execution_count": 15,
   "metadata": {},
   "outputs": [],
   "source": [
    "total_epsilon = sum([epsilons[x] for x in epsilons.keys()])"
   ]
  },
  {
   "cell_type": "code",
   "execution_count": null,
   "metadata": {},
   "outputs": [],
   "source": []
  },
  {
   "cell_type": "code",
   "execution_count": 16,
   "metadata": {},
   "outputs": [
    {
     "data": {
      "text/plain": [
       "{('A+', 'A+'): Fraction(1, 2),\n",
       " ('A+', 'O+'): Fraction(1, 4),\n",
       " ('A+', 'OtherA-'): Fraction(1, 20),\n",
       " ('A+', 'OtherAB+'): Fraction(1, 20),\n",
       " ('A+', 'OtherB+'): Fraction(1, 20),\n",
       " ('A+', 'OtherO-'): Fraction(1, 20),\n",
       " ('A+', 'OtherOtherAB-'): Fraction(1, 40),\n",
       " ('A+', 'OtherOtherB-'): Fraction(1, 40),\n",
       " ('O+', 'A+'): Fraction(1, 4),\n",
       " ('O+', 'O+'): Fraction(1, 2),\n",
       " ('O+', 'OtherA-'): Fraction(1, 20),\n",
       " ('O+', 'OtherAB+'): Fraction(1, 20),\n",
       " ('O+', 'OtherB+'): Fraction(1, 20),\n",
       " ('O+', 'OtherO-'): Fraction(1, 20),\n",
       " ('O+', 'OtherOtherAB-'): Fraction(1, 40),\n",
       " ('O+', 'OtherOtherB-'): Fraction(1, 40),\n",
       " ('OtherA-', 'A+'): Fraction(1, 4),\n",
       " ('OtherA-', 'O+'): Fraction(1, 4),\n",
       " ('OtherA-', 'OtherA-'): Fraction(3, 10),\n",
       " ('OtherA-', 'OtherAB+'): Fraction(1, 20),\n",
       " ('OtherA-', 'OtherB+'): Fraction(1, 20),\n",
       " ('OtherA-', 'OtherO-'): Fraction(1, 20),\n",
       " ('OtherA-', 'OtherOtherAB-'): Fraction(1, 40),\n",
       " ('OtherA-', 'OtherOtherB-'): Fraction(1, 40),\n",
       " ('OtherAB+', 'A+'): Fraction(1, 4),\n",
       " ('OtherAB+', 'O+'): Fraction(1, 4),\n",
       " ('OtherAB+', 'OtherA-'): Fraction(1, 20),\n",
       " ('OtherAB+', 'OtherAB+'): Fraction(3, 10),\n",
       " ('OtherAB+', 'OtherB+'): Fraction(1, 20),\n",
       " ('OtherAB+', 'OtherO-'): Fraction(1, 20),\n",
       " ('OtherAB+', 'OtherOtherAB-'): Fraction(1, 40),\n",
       " ('OtherAB+', 'OtherOtherB-'): Fraction(1, 40),\n",
       " ('OtherB+', 'A+'): Fraction(1, 4),\n",
       " ('OtherB+', 'O+'): Fraction(1, 4),\n",
       " ('OtherB+', 'OtherA-'): Fraction(1, 20),\n",
       " ('OtherB+', 'OtherAB+'): Fraction(1, 20),\n",
       " ('OtherB+', 'OtherB+'): Fraction(3, 10),\n",
       " ('OtherB+', 'OtherO-'): Fraction(1, 20),\n",
       " ('OtherB+', 'OtherOtherAB-'): Fraction(1, 40),\n",
       " ('OtherB+', 'OtherOtherB-'): Fraction(1, 40),\n",
       " ('OtherO-', 'A+'): Fraction(1, 4),\n",
       " ('OtherO-', 'O+'): Fraction(1, 4),\n",
       " ('OtherO-', 'OtherA-'): Fraction(1, 20),\n",
       " ('OtherO-', 'OtherAB+'): Fraction(1, 20),\n",
       " ('OtherO-', 'OtherB+'): Fraction(1, 20),\n",
       " ('OtherO-', 'OtherO-'): Fraction(3, 10),\n",
       " ('OtherO-', 'OtherOtherAB-'): Fraction(1, 40),\n",
       " ('OtherO-', 'OtherOtherB-'): Fraction(1, 40),\n",
       " ('OtherOtherAB-', 'A+'): Fraction(1, 4),\n",
       " ('OtherOtherAB-', 'O+'): Fraction(1, 4),\n",
       " ('OtherOtherAB-', 'OtherA-'): Fraction(1, 20),\n",
       " ('OtherOtherAB-', 'OtherAB+'): Fraction(1, 20),\n",
       " ('OtherOtherAB-', 'OtherB+'): Fraction(1, 20),\n",
       " ('OtherOtherAB-', 'OtherO-'): Fraction(1, 20),\n",
       " ('OtherOtherAB-', 'OtherOtherAB-'): Fraction(11, 40),\n",
       " ('OtherOtherAB-', 'OtherOtherB-'): Fraction(1, 40),\n",
       " ('OtherOtherB-', 'A+'): Fraction(1, 4),\n",
       " ('OtherOtherB-', 'O+'): Fraction(1, 4),\n",
       " ('OtherOtherB-', 'OtherA-'): Fraction(1, 20),\n",
       " ('OtherOtherB-', 'OtherAB+'): Fraction(1, 20),\n",
       " ('OtherOtherB-', 'OtherB+'): Fraction(1, 20),\n",
       " ('OtherOtherB-', 'OtherO-'): Fraction(1, 20),\n",
       " ('OtherOtherB-', 'OtherOtherAB-'): Fraction(1, 40),\n",
       " ('OtherOtherB-', 'OtherOtherB-'): Fraction(11, 40)}"
      ]
     },
     "execution_count": 16,
     "metadata": {},
     "output_type": "execute_result"
    }
   ],
   "source": [
    "transition_matrix_subtree[0]"
   ]
  },
  {
   "cell_type": "code",
   "execution_count": 17,
   "metadata": {},
   "outputs": [
    {
     "data": {
      "text/plain": [
       "[['O+'],\n",
       " ['A+'],\n",
       " ['Other', 'B+'],\n",
       " ['Other', 'AB+'],\n",
       " ['Other', 'O-'],\n",
       " ['Other', 'A-'],\n",
       " ['Other', 'Other', 'B-'],\n",
       " ['Other', 'Other', 'AB-']]"
      ]
     },
     "execution_count": 17,
     "metadata": {},
     "output_type": "execute_result"
    }
   ],
   "source": [
    "question_paths[0]"
   ]
  },
  {
   "cell_type": "code",
   "execution_count": 18,
   "metadata": {},
   "outputs": [
    {
     "data": {
      "text/plain": [
       "[{'answers': ['O+', 'A+', 'Other'],\n",
       "  'hasFollowUp': 'True',\n",
       "  'probability': [Fraction(1, 3), Fraction(1, 3), Fraction(1, 3)],\n",
       "  'qid': 0,\n",
       "  'question': 'Blood type?'},\n",
       " {'answers': ['B+', 'AB+', 'O-', 'A-', 'Other'],\n",
       "  'hasFollowUp': 'True',\n",
       "  'probability': [Fraction(1, 5),\n",
       "   Fraction(1, 5),\n",
       "   Fraction(1, 5),\n",
       "   Fraction(1, 5),\n",
       "   Fraction(1, 5)],\n",
       "  'qid': 1,\n",
       "  'question': 'Specify...'},\n",
       " {'answers': ['B-', 'AB-'],\n",
       "  'hasFollowUp': 'False',\n",
       "  'probability': [Fraction(1, 2), Fraction(1, 2)],\n",
       "  'qid': 2,\n",
       "  'question': 'Specify further...'}]"
      ]
     },
     "execution_count": 18,
     "metadata": {},
     "output_type": "execute_result"
    }
   ],
   "source": [
    "subtrees[0]"
   ]
  },
  {
   "cell_type": "code",
   "execution_count": null,
   "metadata": {},
   "outputs": [],
   "source": []
  },
  {
   "cell_type": "code",
   "execution_count": null,
   "metadata": {},
   "outputs": [],
   "source": []
  }
 ],
 "metadata": {
  "kernelspec": {
   "display_name": "Python 2",
   "language": "python",
   "name": "python2"
  },
  "language_info": {
   "codemirror_mode": {
    "name": "ipython",
    "version": 2
   },
   "file_extension": ".py",
   "mimetype": "text/x-python",
   "name": "python",
   "nbconvert_exporter": "python",
   "pygments_lexer": "ipython2",
   "version": "2.7.15"
  }
 },
 "nbformat": 4,
 "nbformat_minor": 2
}
