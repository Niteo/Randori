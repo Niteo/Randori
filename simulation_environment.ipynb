{
 "cells": [
  {
   "cell_type": "code",
   "execution_count": 1,
   "metadata": {},
   "outputs": [],
   "source": [
    "import json\n",
    "import itertools\n",
    "from fractions import Fraction\n",
    "import numpy as np\n",
    "import pandas\n",
    "\n",
    "#GUI elements\n",
    "import ipywidgets as widgets\n",
    "from IPython.display import display, clear_output, HTML"
   ]
  },
  {
   "cell_type": "code",
   "execution_count": 2,
   "metadata": {},
   "outputs": [
    {
     "name": "stderr",
     "output_type": "stream",
     "text": [
      "\n",
      "----------------------------------------------------------------------\n",
      "Ran 0 tests in 0.000s\n",
      "\n",
      "OK\n"
     ]
    }
   ],
   "source": [
    "%run logic.ipynb\n",
    "%run participant.ipynb"
   ]
  },
  {
   "cell_type": "code",
   "execution_count": 3,
   "metadata": {},
   "outputs": [
    {
     "data": {
      "application/javascript": [
       "IPython.OutputArea.auto_scroll_threshold = 9999;"
      ],
      "text/plain": [
       "<IPython.core.display.Javascript object>"
      ]
     },
     "metadata": {},
     "output_type": "display_data"
    }
   ],
   "source": [
    "%%javascript\n",
    "IPython.OutputArea.auto_scroll_threshold = 9999;"
   ]
  },
  {
   "cell_type": "code",
   "execution_count": 4,
   "metadata": {},
   "outputs": [
    {
     "data": {
      "text/html": [
       "<style>\n",
       ".jupyter-widgets.widget-tab > .p-TabBar .p-TabBar-tab {\n",
       "    flex: 0 1 180px\n",
       "}\n",
       "</style>"
      ],
      "text/plain": [
       "<IPython.core.display.HTML object>"
      ]
     },
     "metadata": {},
     "output_type": "display_data"
    }
   ],
   "source": [
    "%%html\n",
    "<style>\n",
    ".jupyter-widgets.widget-tab > .p-TabBar .p-TabBar-tab {\n",
    "    flex: 0 1 180px\n",
    "}\n",
    "</style>\n"
   ]
  },
  {
   "cell_type": "code",
   "execution_count": 5,
   "metadata": {},
   "outputs": [],
   "source": [
    "#Variable initialization\n",
    "\n",
    "current_dist_index = 0\n",
    "\n",
    "#noise_removal_filter = NoiseRemovalFilter.NoiseRemovalFilter()\n",
    "\n",
    "#Default values\n",
    "population_size = 100 # Participant per experiment\n",
    "initial_budget = 10.\n",
    "number_experiments = 10 # Times to run the experiment\n",
    "json_name = 'blood.json'\n",
    "\n",
    "# Parameters for output graphs\n",
    "output_folder = 'output/'\n",
    "output_format = 'eps'\n",
    "label_font_size=8\n",
    "xlabel_rotation = 10\n",
    "ylimit=[0,50]"
   ]
  },
  {
   "cell_type": "code",
   "execution_count": 6,
   "metadata": {},
   "outputs": [],
   "source": [
    "json_files = filter(lambda x: x.lower().endswith('.json'), [f for f in os.listdir('.')])\n",
    "\n",
    "file_selection = widgets.Select(\n",
    "    options=json_files,\n",
    "    value=json_name,\n",
    "    disabled=False\n",
    ")\n",
    "\n",
    "precision_text = widgets.BoundedIntText(value=2,\n",
    "    disabled=False,\n",
    "    step = 1,\n",
    "    min=0)\n",
    "\n",
    "epsilon_text = widgets.BoundedFloatText(\n",
    "    value=initial_budget,\n",
    "    disabled=False,\n",
    "    readout=True,\n",
    "    readout_format='.'+str(precision_text.value)+'f',\n",
    "    step = 10**-precision_text.value,\n",
    "    min = 10**-precision_text.value\n",
    ")\n",
    "\n",
    "number_experiments_text = widgets.BoundedIntText(\n",
    "    value=number_experiments,\n",
    "    disabled=False,\n",
    "    step = 1,\n",
    "    min=1)\n",
    "\n",
    "output_folder_text = widgets.Text(\n",
    "    value=output_folder,\n",
    "    placeholder='Folder for output',\n",
    "    disabled=False\n",
    ")\n",
    "\n",
    "output_format_selection = widgets.Select(\n",
    "    options=['eps', 'png', 'pdf', 'svg'],\n",
    "    value=output_format,\n",
    "    disabled=False\n",
    ")\n",
    "\n",
    "load_button = widgets.Button(\n",
    "    description='Load JSON',\n",
    "    disabled=False,\n",
    "    button_style='info', # 'success', 'info', 'warning', 'danger' or ''\n",
    "    icon='hourglass-start'\n",
    ")\n",
    "\n",
    "dist_accordion = widgets.Accordion()\n",
    "dist_accordion.layout.padding = '0% 0% 5% 1%'\n",
    "dist_accordion.layout.width = '99%'\n",
    "\n",
    "json_box = widgets.VBox([widgets.Label('Input JSON:'),file_selection, load_button])\n",
    "json_box.layout.align_items='center'\n",
    "exp_box = widgets.VBox([widgets.Label('Number of Experiments'),number_experiments_text])\n",
    "exp_box.layout.align_items='center'\n",
    "epsilon_box = widgets.VBox([widgets.Label('Total Privacy Budget:'), epsilon_text])\n",
    "epsilon_box.layout.align_items='center'\n",
    "\n",
    "params_box = widgets.HBox([json_box, exp_box, epsilon_box])\n",
    "params_box.layout.align_items='flex-start'\n",
    "\n",
    "precison_box = widgets.VBox([widgets.Label('Precision:'), precision_text])\n",
    "precison_box.layout.align_items='center'\n",
    "folder_box = widgets.VBox([widgets.Label('Output Folder:'), output_folder_text])\n",
    "folder_box.layout.align_items='center'\n",
    "format_box = widgets.VBox([widgets.Label('Output Format:'), output_format_selection])\n",
    "format_box.layout.align_items='center'\n",
    "\n",
    "output_box = widgets.HBox([precison_box, folder_box, format_box])\n",
    "output_box.layout.align_items='flex-start'\n",
    "\n",
    "start_tab = widgets.Tab()\n",
    "tab_contents = ['Experiment Parameters', 'Output Options']\n",
    "children = [params_box, output_box]\n",
    "start_tab.children = children\n",
    "for i in range(len(tab_contents)):\n",
    "    start_tab.set_title(i, tab_contents[i])\n",
    "    \n",
    "run_button = widgets.Button(\n",
    "    description='Run Experiments',\n",
    "    disabled=False,\n",
    "    button_style='success', # 'success', 'info', 'warning', 'danger' or ''\n",
    "    icon='check'\n",
    ")\n",
    "\n",
    "run_box = widgets.VBox([run_button])\n",
    "run_box.layout.width='99%'\n",
    "run_box.layout.align_items='center'\n",
    "\n",
    "\n",
    "number_html = widgets.HTML()\n",
    "\n",
    "toggle_button = widgets.ToggleButton(\n",
    "    description='Switch Mode',\n",
    "    disabled=False,\n",
    "    value=False,\n",
    "    button_style='warning', # 'success', 'info', 'warning', 'danger' or ''\n",
    "    icon='edit'\n",
    ")   \n",
    "\n",
    "toggle_box = widgets.VBox([toggle_button])\n",
    "toggle_box.layout.width = '99%'\n",
    "toggle_box.layout.align_items = 'center'"
   ]
  },
  {
   "cell_type": "code",
   "execution_count": 7,
   "metadata": {},
   "outputs": [],
   "source": [
    "# GUI elements\n",
    "uniform_buttons = []\n",
    "draw_buttons = []\n",
    "shape_sliders = []\n",
    "\n",
    "sliders_precision = 4\n",
    "\n",
    "dists = ['Custom', 'Geom', 'Logser', 'Planck', 'Uniform', 'Zipf']\n",
    "dist_maps = []\n",
    "dropdowns = []\n",
    "\n",
    "sliders_matrix = []\n",
    "custom_sliders = []\n",
    "texts = []\n",
    "\n",
    "dist_boxes = []\n",
    "\n",
    "out = widgets.Output()\n",
    "out.layout.align_items = 'center'\n",
    "fig = None"
   ]
  },
  {
   "cell_type": "code",
   "execution_count": 8,
   "metadata": {},
   "outputs": [
    {
     "data": {
      "text/plain": [
       "{'children': [{'answers': ['B+', 'AB+', 'O-', 'A-', 'Other'],\n",
       "   'probability': ['1/5', '1/5', '1/5', '1/5', '1/5'],\n",
       "   'qid': 1,\n",
       "   'question': 'Specify...'},\n",
       "  {'answers': ['B-', 'AB-'],\n",
       "   'probability': ['1/2', '1/2'],\n",
       "   'qid': 2,\n",
       "   'question': 'Specify further...'}],\n",
       " 'paths': [[0, 'Other', 1], [1, 'Other', 2]],\n",
       " 'roots': [{'answers': ['O+', 'A+', 'Other'],\n",
       "   'probability': ['1/3', '1/3', '1/3'],\n",
       "   'qid': 0,\n",
       "   'question': 'Blood type?'}],\n",
       " 'truth': ['1/4']}"
      ]
     },
     "execution_count": 8,
     "metadata": {},
     "output_type": "execute_result"
    }
   ],
   "source": [
    "#Example JSON\n",
    "root_question = {'qid':0,\n",
    "'question': 'Blood type?',\n",
    "'answers': ['O+','A+','Other'],\n",
    "'probability': ['1/3','1/3','1/3']}\n",
    "\n",
    "follow_up_1 = {'qid':1,\n",
    "'question': 'Specify...',\n",
    "'answers': ['B+','AB+','O-','A-','Other'],\n",
    "'probability': ['1/5','1/5','1/5','1/5','1/5']}\n",
    "\n",
    "follow_up_2 = {'qid':2,\n",
    "'question': 'Specify further...',\n",
    "'answers': ['B-','AB-'],\n",
    "'probability': ['1/2','1/2']}\n",
    "\n",
    "paths = [[0,'Other',1], [1,'Other',2]]\n",
    "\n",
    "json_poll = {\n",
    "    'roots': [root_question],\n",
    "    'children': [follow_up_1, follow_up_2],\n",
    "    'paths':paths,\n",
    "    'truth':['1/4']\n",
    "}\n",
    "json_poll"
   ]
  },
  {
   "cell_type": "code",
   "execution_count": 9,
   "metadata": {},
   "outputs": [],
   "source": [
    "# Distribution sliders per question (non-flattened)\n",
    "children = []\n",
    "\n",
    "subtrees = pollToSubtrees(json_poll)\n",
    "for question in subtrees:\n",
    "    for subquestion in subtrees[question]:\n",
    "        html = widgets.HTML('<b>Question:</b> '+subquestion['question'])\n",
    "        to_add = []\n",
    "        \n",
    "        count = 0\n",
    "        for answer in subquestion['answers']:\n",
    "            probability = subquestion['probability'][count]\n",
    "            to_add.append(widgets.Label(value=answer))\n",
    "            to_add.append(widgets.FloatSlider(\n",
    "                value=probability,\n",
    "                min=0,\n",
    "                max=1.0,\n",
    "                step=0.01,\n",
    "                description='Weight:',\n",
    "                disabled=False,\n",
    "                continuous_update=False,\n",
    "                orientation='vertical',\n",
    "                readout=True,\n",
    "                readout_format='.1f',\n",
    "            ))\n",
    "            count +=1\n",
    "        \n",
    "        contents =[html, widgets.HBox(to_add)]\n",
    "        children.append( widgets.VBox(contents))\n",
    "        \n",
    "dist_accordion.children = children\n",
    "dist_box = widgets.VBox([dist_accordion])"
   ]
  },
  {
   "cell_type": "code",
   "execution_count": 10,
   "metadata": {},
   "outputs": [
    {
     "data": {
      "application/vnd.jupyter.widget-view+json": {
       "model_id": "98deebdb18164a1a8dcf8c9570cbd780",
       "version_major": 2,
       "version_minor": 0
      },
      "text/plain": [
       "VGFiKGNoaWxkcmVuPShIQm94KGNoaWxkcmVuPShWQm94KGNoaWxkcmVuPShMYWJlbCh2YWx1ZT11J0lucHV0IEpTT046JyksIFNlbGVjdChvcHRpb25zPSgnYmxvb2QuanNvbicsKSwgdmFsdWXigKY=\n"
      ]
     },
     "metadata": {},
     "output_type": "display_data"
    }
   ],
   "source": [
    "display(start_tab)"
   ]
  },
  {
   "cell_type": "code",
   "execution_count": 11,
   "metadata": {},
   "outputs": [
    {
     "data": {
      "application/vnd.jupyter.widget-view+json": {
       "model_id": "ad572296e76845dbbbb1ec9e5ff5b2d3",
       "version_major": 2,
       "version_minor": 0
      },
      "text/plain": [
       "HTML(value=u'<center><h1> Input Distribution</h1></center>')"
      ]
     },
     "metadata": {},
     "output_type": "display_data"
    },
    {
     "data": {
      "application/vnd.jupyter.widget-view+json": {
       "model_id": "0174fe1326f14ddfae6db8f33f8aa23c",
       "version_major": 2,
       "version_minor": 0
      },
      "text/plain": [
       "QWNjb3JkaW9uKGNoaWxkcmVuPShWQm94KGNoaWxkcmVuPShIVE1MKHZhbHVlPXUnPGI+UXVlc3Rpb246PC9iPiBCbG9vZCB0eXBlPycpLCBIQm94KGNoaWxkcmVuPShMYWJlbCh2YWx1ZT11J0/igKY=\n"
      ]
     },
     "metadata": {},
     "output_type": "display_data"
    }
   ],
   "source": [
    "display(widgets.HTML('<center><h1> Input Distribution</h1></center>'))\n",
    "display(dist_accordion)"
   ]
  },
  {
   "cell_type": "code",
   "execution_count": 12,
   "metadata": {},
   "outputs": [],
   "source": [
    "participants = []\n",
    "n = 100000\n",
    "participant_budget = 40\n",
    "\n",
    "matrices = pollToMatrix(json_poll)\n",
    "epsilons = pollToEpsilon(json_poll)\n",
    "\n",
    "#TODO: Loop x times for confidence\n",
    "\n",
    "for i in range(0, n):\n",
    "    new_participant = Participant(participant_budget, json_poll)\n",
    "    new_participant.setMatrices(matrices)\n",
    "    new_participant.setEpsilons(epsilons)\n",
    "    participants.append(new_participant)\n",
    "    \n"
   ]
  },
  {
   "cell_type": "code",
   "execution_count": 13,
   "metadata": {},
   "outputs": [],
   "source": [
    "#TODO: read weights from dist_accordion\n",
    "\n",
    "weights = pollToPathWeights(json_poll)\n",
    "ps = pollToPaths(json_poll)\n",
    "\n",
    "ans_dist_zip = {}\n",
    "for question in ps.keys():\n",
    "    paths = ps[question]\n",
    "    weight = weights[question]\n",
    "    zipped = []\n",
    "    for path in paths:\n",
    "         zipped.append((path, weight[pathToKey(path)]))\n",
    "    ans_dist_zip[question] = zipped\n",
    "\n",
    "#participant.createAnswer(ans_dist_zip)"
   ]
  },
  {
   "cell_type": "code",
   "execution_count": 14,
   "metadata": {},
   "outputs": [],
   "source": [
    "#TODO: set answer dist\n",
    "\n",
    "#TODO: run RR\n",
    "\n",
    "#TODO: compare to ground truth\n",
    "\n",
    "#TODO: display graphs"
   ]
  }
 ],
 "metadata": {
  "kernelspec": {
   "display_name": "Python 2",
   "language": "python",
   "name": "python2"
  },
  "language_info": {
   "codemirror_mode": {
    "name": "ipython",
    "version": 2
   },
   "file_extension": ".py",
   "mimetype": "text/x-python",
   "name": "python",
   "nbconvert_exporter": "python",
   "pygments_lexer": "ipython2",
   "version": "2.7.17"
  }
 },
 "nbformat": 4,
 "nbformat_minor": 2
}
