{
 "cells": [
  {
   "cell_type": "code",
   "execution_count": 1,
   "metadata": {},
   "outputs": [],
   "source": [
    "import json\n",
    "import itertools\n",
    "from fractions import Fraction\n",
    "import numpy as np\n",
    "import pandas\n",
    "import seaborn as sns\n",
    "\n",
    "from textwrap import wrap\n",
    "\n",
    "import ipykernel\n",
    "import matplotlib\n",
    "    \n",
    "import matplotlib.pyplot as plt\n",
    "\n",
    "#GUI elements\n",
    "import ipywidgets as widgets\n",
    "from IPython.display import display, clear_output, HTML"
   ]
  },
  {
   "cell_type": "code",
   "execution_count": 2,
   "metadata": {},
   "outputs": [
    {
     "name": "stderr",
     "output_type": "stream",
     "text": [
      "\n",
      "----------------------------------------------------------------------\n",
      "Ran 0 tests in 0.000s\n",
      "\n",
      "OK\n"
     ]
    }
   ],
   "source": [
    "%run logic.ipynb\n",
    "%run participant.ipynb"
   ]
  },
  {
   "cell_type": "code",
   "execution_count": 3,
   "metadata": {},
   "outputs": [
    {
     "data": {
      "application/javascript": [
       "IPython.OutputArea.auto_scroll_threshold = 9999;"
      ],
      "text/plain": [
       "<IPython.core.display.Javascript object>"
      ]
     },
     "metadata": {},
     "output_type": "display_data"
    }
   ],
   "source": [
    "%%javascript\n",
    "IPython.OutputArea.auto_scroll_threshold = 9999;"
   ]
  },
  {
   "cell_type": "code",
   "execution_count": 4,
   "metadata": {},
   "outputs": [],
   "source": [
    "#Example JSON\n",
    "root_question = {'qid':0,\n",
    "'question': 'Q1',\n",
    "'answers': ['A','B','C'],\n",
    "'probability': ['1/3','1/3','1/3']}\n",
    "\n",
    "follow_up_1 = {'qid':1,\n",
    "'question': 'Follow-up...',\n",
    "'answers': ['1','2','3','4','5'],\n",
    "'probability': ['1/5','1/5','1/5','1/5','1/5']}\n",
    "\n",
    "paths = [[0,'C',1]]\n",
    "\n",
    "json_poll = {\n",
    "    'roots': [root_question],\n",
    "    'children': [follow_up_1],\n",
    "    'paths':paths,\n",
    "    'truth':['1/4']\n",
    "}"
   ]
  },
  {
   "cell_type": "code",
   "execution_count": 5,
   "metadata": {},
   "outputs": [],
   "source": [
    "answer_dist = {}\n",
    "poll_name = ''"
   ]
  },
  {
   "cell_type": "code",
   "execution_count": 6,
   "metadata": {},
   "outputs": [],
   "source": [
    "def loadJSON(change):\n",
    "    global json_poll\n",
    "    global poll_name\n",
    "    poll_name = file_selection.value \n",
    "    json_poll = getJSON(poll_name)\n",
    "\n",
    "def getJSON(name):\n",
    "    # Read JSON from files\n",
    "    json_file = open(name, 'r')\n",
    "    json_content = json_file.read()\n",
    "    return json.loads(json_content)"
   ]
  },
  {
   "cell_type": "code",
   "execution_count": 7,
   "metadata": {},
   "outputs": [],
   "source": [
    "def update_dist(change):\n",
    "    \n",
    "    current_accordion = dist_accordion.children[dist_accordion.selected_index]\n",
    "    dropdown = current_accordion.children[1]\n",
    "    active_sliders = current_accordion.children[2].children\n",
    "    \n",
    "    if dropdown.value != 'Custom':\n",
    "        shape_slider = current_accordion.children[3]\n",
    "\n",
    "        # Draw values from dist\n",
    "        values = distMap[dropdown.value](len(active_sliders),shape_slider.value)\n",
    "\n",
    "        for slider in active_sliders:\n",
    "\n",
    "            index = active_sliders.index(slider)\n",
    "            slider.value = np.round(values[index], decimals=sliders_precision)\n",
    "            \n",
    "     \n",
    "    #Save values\n",
    "    for slider in active_sliders:\n",
    "        index = active_sliders.index(slider)\n",
    "        answer_dist[dist_accordion.selected_index][index][dropdown.value] = slider.value\n",
    "\n",
    "        "
   ]
  },
  {
   "cell_type": "code",
   "execution_count": 8,
   "metadata": {},
   "outputs": [],
   "source": [
    "def dropdown_action(change):\n",
    "    current_accordion = dist_accordion.children[dist_accordion.selected_index]\n",
    "    dropdown = current_accordion.children[1]\n",
    "    shape_slider = current_accordion.children[3]\n",
    "    shape_slider.hold_trait_notifications()\n",
    "\n",
    "    # Update the shape slider according to the chosen distribution\n",
    "    if(dropdown.value is 'Uniform' or dropdown.value is 'Custom'):\n",
    "        shape_slider.disabled=True\n",
    "        shape_slider.layout.visibility='hidden'\n",
    "    else:\n",
    "\n",
    "        if(dropdown.value is 'Geom'):\n",
    "            shape_slider.step = 0.01\n",
    "            shape_slider.min = 0. + shape_slider.step\n",
    "            shape_slider.max = 1.\n",
    "            shape_slider.value = 0.5\n",
    "        elif(dropdown.value is 'Logser'):\n",
    "            shape_slider.step = 0.01\n",
    "            shape_slider.min = 0. + shape_slider.step\n",
    "            shape_slider.max = 1. - shape_slider.step\n",
    "            shape_slider.value = 0.6\n",
    "        elif(dropdown.value is 'Planck'):\n",
    "            shape_slider.step = 0.01\n",
    "            shape_slider.min = 0. + shape_slider.step\n",
    "            shape_slider.max = 1.\n",
    "            shape_slider.value = 0.51\n",
    "        elif(dropdown.value is 'Zipf'):\n",
    "            shape_slider.max = 10.\n",
    "            shape_slider.step = 0.01\n",
    "            shape_slider.min = 1. + shape_slider.step\n",
    "            shape_slider.value = 1.5\n",
    "\n",
    "        shape_slider.disabled=False\n",
    "        shape_slider.layout.visibility='visible'\n",
    "        \n",
    "    #Reset values\n",
    "    active_sliders = current_accordion.children[2].children   \n",
    "     \n",
    "    for slider in active_sliders:\n",
    "        index = active_sliders.index(slider)\n",
    "        \n",
    "        val = dropdown.value\n",
    "        if val not in answer_dist[dist_accordion.selected_index][index].keys():\n",
    "            update_dist(None)\n",
    "        slider.value = answer_dist[dist_accordion.selected_index][index][val]"
   ]
  },
  {
   "cell_type": "code",
   "execution_count": 9,
   "metadata": {},
   "outputs": [
    {
     "data": {
      "application/javascript": [
       "IPython.OutputArea.auto_scroll_threshold = 9999;"
      ],
      "text/plain": [
       "<IPython.core.display.Javascript object>"
      ]
     },
     "metadata": {},
     "output_type": "display_data"
    },
    {
     "data": {
      "text/html": [
       "<style>\n",
       ".jupyter-widgets.widget-tab > .p-TabBar .p-TabBar-tab {\n",
       "    flex: 0 1 180px\n",
       "}\n",
       "</style>"
      ],
      "text/plain": [
       "<IPython.core.display.HTML object>"
      ]
     },
     "metadata": {},
     "output_type": "display_data"
    }
   ],
   "source": [
    "%run gui_components.ipynb"
   ]
  },
  {
   "cell_type": "code",
   "execution_count": 10,
   "metadata": {},
   "outputs": [
    {
     "data": {
      "application/vnd.jupyter.widget-view+json": {
       "model_id": "f96dc2da561541b29072bad3c5b8a6e9",
       "version_major": 2,
       "version_minor": 0
      },
      "text/plain": [
       "HTML(value=u'<center><h1> Choose Parameters')"
      ]
     },
     "metadata": {},
     "output_type": "display_data"
    },
    {
     "data": {
      "application/vnd.jupyter.widget-view+json": {
       "model_id": "155ec59e57584ee2b4f52a08b6d7612a",
       "version_major": 2,
       "version_minor": 0
      },
      "text/plain": [
       "VGFiKGNoaWxkcmVuPShIQm94KGNoaWxkcmVuPShWQm94KGNoaWxkcmVuPShMYWJlbCh2YWx1ZT11J0lucHV0IEpTT046JyksIFNlbGVjdChvcHRpb25zPSgnYmxvb2QuanNvbicsKSwgdmFsdWXigKY=\n"
      ]
     },
     "metadata": {},
     "output_type": "display_data"
    }
   ],
   "source": [
    "display(widgets.HTML('<center><h1> Choose Parameters'))\n",
    "load_button.on_click(loadJSON)\n",
    "display(start_tab)"
   ]
  },
  {
   "cell_type": "code",
   "execution_count": 11,
   "metadata": {},
   "outputs": [],
   "source": [
    "load_button.click()"
   ]
  },
  {
   "cell_type": "code",
   "execution_count": 12,
   "metadata": {},
   "outputs": [],
   "source": [
    "# Distribution sliders per question (non-flattened)\n",
    "children = []\n",
    "\n",
    "subtrees = pollToSubtrees(json_poll)\n",
    "for question in subtrees:\n",
    "    for subquestion in subtrees[question]:\n",
    "        dist_accordion.set_title(subquestion['qid'], 'Question: '+subquestion['question'])\n",
    "        html = widgets.HTML('<h3>Choose weight distribution...</h3>')\n",
    "        to_add = []\n",
    "        answer_dist[subquestion['qid']] = {}\n",
    "        \n",
    "        count = 0\n",
    "        for answer in subquestion['answers']:\n",
    "            probability = subquestion['probability'][count]\n",
    "            to_add.append(widgets.FloatSlider(\n",
    "                value=probability,\n",
    "                min=0,\n",
    "                max=1.0,\n",
    "                step=0.01,\n",
    "                description=answer,\n",
    "                disabled=False,\n",
    "                continuous_update=False,\n",
    "                orientation='vertical',\n",
    "                readout=True,\n",
    "                readout_format='.1f',\n",
    "            ))\n",
    "            answer_dist[subquestion['qid']][count] = {'Custom': probability}\n",
    "            count +=1\n",
    "        \n",
    "        #Components\n",
    "        _shape_slider = widgets.FloatSlider(min=0., max=5., step=0.1, value=0., continuous_update=False, description='Shape', disabled=True) \n",
    "        _dropdown = widgets.Dropdown(options=dists, value='Custom', description='Distribution:', disabled=False)\n",
    "        _button = widgets.Button(description='Update weights', icon='fa-bar-chart', button_style='success')\n",
    "        \n",
    "        #Actions\n",
    "        _button.on_click(update_dist)\n",
    "        _dropdown.observe(dropdown_action)\n",
    "        \n",
    "        contents =[html, _dropdown, widgets.HBox(to_add),_shape_slider, _button]\n",
    "        children.append( widgets.VBox(contents))\n",
    "        \n",
    "dist_accordion.children = children\n",
    "dist_box = widgets.VBox([dist_accordion])"
   ]
  },
  {
   "cell_type": "code",
   "execution_count": 13,
   "metadata": {},
   "outputs": [
    {
     "data": {
      "application/vnd.jupyter.widget-view+json": {
       "model_id": "68cef226c0094f609a22ab375404734e",
       "version_major": 2,
       "version_minor": 0
      },
      "text/plain": [
       "HTML(value=u'<center><h1> Set <i>True</i> Answer Distribution</h1></center>')"
      ]
     },
     "metadata": {},
     "output_type": "display_data"
    },
    {
     "data": {
      "application/vnd.jupyter.widget-view+json": {
       "model_id": "bdced718d61344fdbe4b7f3ccfbf6603",
       "version_major": 2,
       "version_minor": 0
      },
      "text/plain": [
       "QWNjb3JkaW9uKGNoaWxkcmVuPShWQm94KGNoaWxkcmVuPShIVE1MKHZhbHVlPXUnPGgzPkNob29zZSB3ZWlnaHQgZGlzdHJpYnV0aW9uLi4uPC9oMz4nKSwgRHJvcGRvd24oZGVzY3JpcHRpb27igKY=\n"
      ]
     },
     "metadata": {},
     "output_type": "display_data"
    }
   ],
   "source": [
    "display(widgets.HTML('<center><h1> Set <i>True</i> Answer Distribution</h1></center>'))\n",
    "display(dist_accordion)\n",
    "dropdown_action(None)"
   ]
  },
  {
   "cell_type": "code",
   "execution_count": 14,
   "metadata": {},
   "outputs": [],
   "source": [
    "matrices = pollToMatrix(json_poll)\n",
    "epsilons = pollToEpsilon(json_poll)\n",
    "ps = pollToPaths(json_poll)"
   ]
  },
  {
   "cell_type": "code",
   "execution_count": 15,
   "metadata": {},
   "outputs": [],
   "source": [
    "selected = {}\n",
    "for question in subtrees:\n",
    "    selected[question] = {}\n",
    "    for subquestion in subtrees[question]:\n",
    "        selected[question][subquestion['qid']] = []\n",
    "        current_box = dist_accordion.children[subquestion['qid']].children\n",
    "        current_dropdown = current_box[1]\n",
    "        current_sliders = current_box[2].children\n",
    "  \n",
    "        #NORMALIZE SLIDER VALUES BEFORE MOVING ON\n",
    "        normalize_by = 0\n",
    "        for slider in current_sliders:\n",
    "            index = current_sliders.index(slider)\n",
    "            normalize_by+= answer_dist[subquestion['qid']][index][current_dropdown.value]\n",
    "\n",
    "        for slider in current_sliders:\n",
    "            index = current_sliders.index(slider)\n",
    "            value = answer_dist[subquestion['qid']][index][current_dropdown.value]/normalize_by\n",
    "            selected[question][subquestion['qid']].append(value)\n",
    "            \n",
    "\n",
    "\n",
    "# Find matching path\n",
    "# {qid: (Path, Fraction)}"
   ]
  },
  {
   "cell_type": "code",
   "execution_count": 16,
   "metadata": {},
   "outputs": [],
   "source": [
    "# Turn slides to JSON, then parse to find path-weight pairs\n",
    "\n",
    "#FIXME: Don't overwrite actual json_poll, do deep copy!\n",
    " \n",
    "dist_poll = getJSON(poll_name)\n",
    "\n",
    "for question in subtrees:\n",
    "    root = filter(lambda x: x['qid']==question, dist_poll['roots'])[0]\n",
    "    root['probability'] = selected[question][question]\n",
    "    \n",
    "    for subquestion in subtrees[question]:\n",
    "        # Roots have already been added, will also return empty list so ignore\n",
    "        question_struct = filter(lambda x: x['qid']==subquestion['qid'], dist_poll['children'])\n",
    "        if len(question_struct) > 0:\n",
    "            question_struct[0]['probability'] = selected[question][subquestion['qid']]\n",
    "            \n",
    "            \n",
    "weights = pollToPathWeights(dist_poll)"
   ]
  },
  {
   "cell_type": "code",
   "execution_count": 17,
   "metadata": {},
   "outputs": [],
   "source": [
    "ans_dist_zip = {}\n",
    "for question in ps.keys():\n",
    "    paths = ps[question]\n",
    "    weight = weights[question]\n",
    "    zipped = []\n",
    "    for path in paths:\n",
    "        zipped.append((path, weights[question][pathToKey(path)]))\n",
    "\n",
    "    ans_dist_zip[question] = zipped"
   ]
  },
  {
   "cell_type": "code",
   "execution_count": 18,
   "metadata": {},
   "outputs": [],
   "source": [
    "# Add widget"
   ]
  },
  {
   "cell_type": "code",
   "execution_count": 19,
   "metadata": {},
   "outputs": [],
   "source": [
    "participants = []\n",
    "n = 10000\n",
    "participant_budget = 40\n",
    "runs = 10\n",
    "data = {}\n",
    "\n",
    "#Populate data structure\n",
    "for question in subtrees.keys():\n",
    "    data[question]={'error_relative': {}, 'error_absolute':{}}\n",
    "\n",
    "    for alternative in ps[question]:\n",
    "        data[question]['error_relative'][pathToKey(alternative)] = []\n",
    "        data[question]['error_absolute'][pathToKey(alternative)] = []\n",
    "\n",
    "#TODO: Loop x times for confidence\n",
    "for run in range(0, runs):\n",
    "    raw_responses = []\n",
    "    real_answers = []\n",
    "\n",
    "    #Initialize partitipants and run RR\n",
    "    for i in range(0, n):\n",
    "        new_participant = Participant(participant_budget, json_poll)\n",
    "        new_participant.setMatrices(matrices)\n",
    "        new_participant.setEpsilons(epsilons)\n",
    "        new_participant.createAnswer(ans_dist_zip)\n",
    "\n",
    "        real_answers.append(dict(new_participant.getAnswer())) #Beware: deep copy required!\n",
    "        raw_responses.append(new_participant.randomizedResponse())\n",
    "\n",
    "        participants.append(new_participant)\n",
    "\n",
    "    # Parse responses\n",
    "    lists_responses = {}\n",
    "    lists_answer = {}\n",
    "    for question in subtrees.keys():\n",
    "        lists_responses[question] = map(lambda x: pathToKey(x[question]), raw_responses)\n",
    "        lists_answer[question] = map(lambda x: pathToKey(x[question]), real_answers)\n",
    "\n",
    "    response_frame = pd.DataFrame(lists_responses)\n",
    "    response_frequency = {}\n",
    "    answer_frame = pd.DataFrame(lists_answer)\n",
    "    answer_frequency = {}\n",
    "\n",
    "    #Count occurences\n",
    "    for question in subtrees.keys():\n",
    "        response_frequency[question] = {}\n",
    "        answer_frequency[question] = {}\n",
    "\n",
    "        to_match = pd.unique(response_frame[question])\n",
    "        for match in to_match:\n",
    "            response_frequency[question][match] = len(response_frame[response_frame[question]==match])\n",
    "            answer_frequency[question][match] = len(answer_frame[answer_frame[question]==match])\n",
    "\n",
    "    \n",
    "            \n",
    "    #Filter with Bayes' theorem\n",
    "    for question in response_frequency.keys():\n",
    "        #P(True)\n",
    "        p_true = Fraction(json_poll['truth'][question])\n",
    "\n",
    "        #Bayes' theorem: p(A|True) = p(True|A)*p(A) / p(True)\n",
    "        for alternative in response_frequency[question].keys():\n",
    "            transition = (alternative, alternative)\n",
    "            #p(True|A), Probability of not changing answer\n",
    "            p_true_given_a = matrices[question][transition]\n",
    "            #p(A), Actual responses\n",
    "            p_a = float(response_frequency[question][alternative])/len(participants) #Convert to %\n",
    "\n",
    "            #p(A|True) = p(True|A)*p(A) / p(True)\n",
    "            p_a_given_true = (p_true_given_a*p_a)/p_true\n",
    "            \n",
    "            real_percentage = float(answer_frequency[question][alternative])/len(participants)\n",
    "\n",
    "            abs_diff = abs(p_a_given_true-real_percentage)\n",
    "            rel_diff = 100\n",
    "            if real_percentage != 0:\n",
    "                rel_diff = abs_diff/real_percentage\n",
    "            \n",
    "            data[question]['error_relative'][alternative].append(rel_diff)\n",
    "            data[question]['error_absolute'][alternative].append(abs_diff)"
   ]
  },
  {
   "cell_type": "code",
   "execution_count": 20,
   "metadata": {
    "scrolled": true
   },
   "outputs": [
    {
     "data": {
      "text/html": [
       "<div>\n",
       "<style scoped>\n",
       "    .dataframe tbody tr th:only-of-type {\n",
       "        vertical-align: middle;\n",
       "    }\n",
       "\n",
       "    .dataframe tbody tr th {\n",
       "        vertical-align: top;\n",
       "    }\n",
       "\n",
       "    .dataframe thead th {\n",
       "        text-align: right;\n",
       "    }\n",
       "</style>\n",
       "<table border=\"1\" class=\"dataframe\">\n",
       "  <thead>\n",
       "    <tr style=\"text-align: right;\">\n",
       "      <th></th>\n",
       "      <th>error_absolute</th>\n",
       "      <th>error_relative</th>\n",
       "    </tr>\n",
       "  </thead>\n",
       "  <tbody>\n",
       "    <tr>\n",
       "      <th>A+</th>\n",
       "      <td>[0.1076, 0.0558666666667, 0.0389555555556, 0.0...</td>\n",
       "      <td>[0.321770334928, 0.335334133653, 0.35264534298...</td>\n",
       "    </tr>\n",
       "    <tr>\n",
       "      <th>O+</th>\n",
       "      <td>[0.108333333333, 0.0507166666667, 0.0384333333...</td>\n",
       "      <td>[0.317693059629, 0.301974794086, 0.34244134244...</td>\n",
       "    </tr>\n",
       "    <tr>\n",
       "      <th>OtherA-</th>\n",
       "      <td>[0.00883333333333, 0.00305666666667, 0.0006088...</td>\n",
       "      <td>[0.138670852957, 0.092486132123, 0.02587346553...</td>\n",
       "    </tr>\n",
       "    <tr>\n",
       "      <th>OtherAB+</th>\n",
       "      <td>[0.00411333333333, 0.00197333333333, 0.0011266...</td>\n",
       "      <td>[0.0666666666667, 0.060162601626, 0.0519201228...</td>\n",
       "    </tr>\n",
       "    <tr>\n",
       "      <th>OtherB+</th>\n",
       "      <td>[0.00156666666667, 0.00131333333333, 0.0006866...</td>\n",
       "      <td>[0.0234882558721, 0.0404102564103, 0.031937984...</td>\n",
       "    </tr>\n",
       "    <tr>\n",
       "      <th>OtherO-</th>\n",
       "      <td>[0.00724666666667, 0.00554333333333, 0.0008622...</td>\n",
       "      <td>[0.110636132316, 0.169262086514, 0.03919191919...</td>\n",
       "    </tr>\n",
       "    <tr>\n",
       "      <th>OtherOtherAB-</th>\n",
       "      <td>[0.00254666666667, 0.00131, 0.000668888888889,...</td>\n",
       "      <td>[0.0771717171717, 0.0744318181818, 0.062125902...</td>\n",
       "    </tr>\n",
       "    <tr>\n",
       "      <th>OtherOtherB-</th>\n",
       "      <td>[0.00237333333333, 0.00061, 0.000164444444444,...</td>\n",
       "      <td>[0.0698039215686, 0.0364179104478, 0.014770459...</td>\n",
       "    </tr>\n",
       "  </tbody>\n",
       "</table>\n",
       "</div>"
      ],
      "text/plain": [
       "                                                  error_absolute  \\\n",
       "A+             [0.1076, 0.0558666666667, 0.0389555555556, 0.0...   \n",
       "O+             [0.108333333333, 0.0507166666667, 0.0384333333...   \n",
       "OtherA-        [0.00883333333333, 0.00305666666667, 0.0006088...   \n",
       "OtherAB+       [0.00411333333333, 0.00197333333333, 0.0011266...   \n",
       "OtherB+        [0.00156666666667, 0.00131333333333, 0.0006866...   \n",
       "OtherO-        [0.00724666666667, 0.00554333333333, 0.0008622...   \n",
       "OtherOtherAB-  [0.00254666666667, 0.00131, 0.000668888888889,...   \n",
       "OtherOtherB-   [0.00237333333333, 0.00061, 0.000164444444444,...   \n",
       "\n",
       "                                                  error_relative  \n",
       "A+             [0.321770334928, 0.335334133653, 0.35264534298...  \n",
       "O+             [0.317693059629, 0.301974794086, 0.34244134244...  \n",
       "OtherA-        [0.138670852957, 0.092486132123, 0.02587346553...  \n",
       "OtherAB+       [0.0666666666667, 0.060162601626, 0.0519201228...  \n",
       "OtherB+        [0.0234882558721, 0.0404102564103, 0.031937984...  \n",
       "OtherO-        [0.110636132316, 0.169262086514, 0.03919191919...  \n",
       "OtherOtherAB-  [0.0771717171717, 0.0744318181818, 0.062125902...  \n",
       "OtherOtherB-   [0.0698039215686, 0.0364179104478, 0.014770459...  "
      ]
     },
     "execution_count": 20,
     "metadata": {},
     "output_type": "execute_result"
    }
   ],
   "source": [
    "pd.DataFrame(data[0])"
   ]
  },
  {
   "cell_type": "code",
   "execution_count": 21,
   "metadata": {},
   "outputs": [],
   "source": [
    "#TODO: parse back from paths to alternatives!\n",
    "#TODO: display graphs"
   ]
  },
  {
   "cell_type": "code",
   "execution_count": 43,
   "metadata": {},
   "outputs": [
    {
     "data": {
      "application/vnd.jupyter.widget-view+json": {
       "model_id": "0c124a740ed3444e8069f3ba1b39855f",
       "version_major": 2,
       "version_minor": 0
      },
      "text/plain": [
       "HTML(value=u'<h1><b><u> Results')"
      ]
     },
     "metadata": {},
     "output_type": "display_data"
    }
   ],
   "source": [
    "display(widgets.HTML('<h1><b><u> Results'))"
   ]
  },
  {
   "cell_type": "code",
   "execution_count": 44,
   "metadata": {
    "scrolled": false
   },
   "outputs": [
    {
     "data": {
      "application/vnd.jupyter.widget-view+json": {
       "model_id": "48c0ae1947694d26bac2c8aea9722908",
       "version_major": 2,
       "version_minor": 0
      },
      "text/plain": [
       "HTML(value=u'<h2> Boxplots for question: Blood type?')"
      ]
     },
     "metadata": {},
     "output_type": "display_data"
    },
    {
     "data": {
      "application/vnd.jupyter.widget-view+json": {
       "model_id": "287e8423c4f44f8388ad34e8f089fc2d",
       "version_major": 2,
       "version_minor": 0
      },
      "text/plain": [
       "HTML(value=u'<h3><i> Relative error')"
      ]
     },
     "metadata": {},
     "output_type": "display_data"
    },
    {
     "data": {
      "image/png": "[encoded data removed]",
      "text/plain": [
       "<Figure size 432x288 with 1 Axes>"
      ]
     },
     "metadata": {},
     "output_type": "display_data"
    },
    {
     "data": {
      "application/vnd.jupyter.widget-view+json": {
       "model_id": "b3bdd97380c84f29b39fc612c8d1c20c",
       "version_major": 2,
       "version_minor": 0
      },
      "text/plain": [
       "HTML(value=u'<h3><i> Absolute error')"
      ]
     },
     "metadata": {},
     "output_type": "display_data"
    },
    {
     "data": {
      "image/png": "[encoded data removed]",
      "text/plain": [
       "<Figure size 432x288 with 1 Axes>"
      ]
     },
     "metadata": {},
     "output_type": "display_data"
    },
    {
     "data": {
      "application/vnd.jupyter.widget-view+json": {
       "model_id": "0a41063b71bd4bd4b549421c868c72bd",
       "version_major": 2,
       "version_minor": 0
      },
      "text/plain": [
       "HTML(value=u'<h2> Boxplots for question: Specify...')"
      ]
     },
     "metadata": {},
     "output_type": "display_data"
    },
    {
     "data": {
      "application/vnd.jupyter.widget-view+json": {
       "model_id": "f700a194bb0d4cc4a25b9eb66256e92e",
       "version_major": 2,
       "version_minor": 0
      },
      "text/plain": [
       "HTML(value=u'<h3><i> Relative error')"
      ]
     },
     "metadata": {},
     "output_type": "display_data"
    },
    {
     "data": {
      "image/png": "[encoded data removed]",
      "text/plain": [
       "<Figure size 432x288 with 1 Axes>"
      ]
     },
     "metadata": {},
     "output_type": "display_data"
    },
    {
     "data": {
      "application/vnd.jupyter.widget-view+json": {
       "model_id": "7ed973b1775b429491ee78cf4268d297",
       "version_major": 2,
       "version_minor": 0
      },
      "text/plain": [
       "HTML(value=u'<h3><i> Absolute error')"
      ]
     },
     "metadata": {},
     "output_type": "display_data"
    },
    {
     "data": {
      "image/png": "[encoded data removed]",
      "text/plain": [
       "<Figure size 432x288 with 1 Axes>"
      ]
     },
     "metadata": {},
     "output_type": "display_data"
    },
    {
     "data": {
      "application/vnd.jupyter.widget-view+json": {
       "model_id": "be1e809b971945e59b47a0166d2eecc8",
       "version_major": 2,
       "version_minor": 0
      },
      "text/plain": [
       "HTML(value=u'<h2> Boxplots for question: Specify further...')"
      ]
     },
     "metadata": {},
     "output_type": "display_data"
    },
    {
     "data": {
      "application/vnd.jupyter.widget-view+json": {
       "model_id": "3a53798840544440833e988b55d0b254",
       "version_major": 2,
       "version_minor": 0
      },
      "text/plain": [
       "HTML(value=u'<h3><i> Relative error')"
      ]
     },
     "metadata": {},
     "output_type": "display_data"
    },
    {
     "data": {
      "image/png": "[encoded data removed]",
      "text/plain": [
       "<Figure size 432x288 with 1 Axes>"
      ]
     },
     "metadata": {},
     "output_type": "display_data"
    },
    {
     "data": {
      "application/vnd.jupyter.widget-view+json": {
       "model_id": "873bcbccf819478a95c921d9220695fc",
       "version_major": 2,
       "version_minor": 0
      },
      "text/plain": [
       "HTML(value=u'<h3><i> Absolute error')"
      ]
     },
     "metadata": {},
     "output_type": "display_data"
    },
    {
     "data": {
      "image/png": "[encoded data removed]",
      "text/plain": [
       "<Figure size 432x288 with 1 Axes>"
      ]
     },
     "metadata": {},
     "output_type": "display_data"
    },
    {
     "data": {
      "application/vnd.jupyter.widget-view+json": {
       "model_id": "f07d0776be914861b924a402ae3c4eb4",
       "version_major": 2,
       "version_minor": 0
      },
      "text/plain": [
       "HTML(value=u'<h2><b> SUMMARY')"
      ]
     },
     "metadata": {},
     "output_type": "display_data"
    },
    {
     "data": {
      "application/vnd.jupyter.widget-view+json": {
       "model_id": "a1173cf4010941da93736eb60d7f1dea",
       "version_major": 2,
       "version_minor": 0
      },
      "text/plain": [
       "HTML(value=u'<h3> Error: error_absolute')"
      ]
     },
     "metadata": {},
     "output_type": "display_data"
    },
    {
     "data": {
      "text/html": [
       "<div>\n",
       "<style scoped>\n",
       "    .dataframe tbody tr th:only-of-type {\n",
       "        vertical-align: middle;\n",
       "    }\n",
       "\n",
       "    .dataframe tbody tr th {\n",
       "        vertical-align: top;\n",
       "    }\n",
       "\n",
       "    .dataframe thead th {\n",
       "        text-align: right;\n",
       "    }\n",
       "</style>\n",
       "<table border=\"1\" class=\"dataframe\">\n",
       "  <thead>\n",
       "    <tr style=\"text-align: right;\">\n",
       "      <th></th>\n",
       "      <th>A+</th>\n",
       "      <th>O+</th>\n",
       "      <th>OtherA-</th>\n",
       "      <th>OtherAB+</th>\n",
       "      <th>OtherB+</th>\n",
       "      <th>OtherO-</th>\n",
       "      <th>OtherOtherAB-</th>\n",
       "      <th>OtherOtherB-</th>\n",
       "    </tr>\n",
       "  </thead>\n",
       "  <tbody>\n",
       "    <tr>\n",
       "      <th>count</th>\n",
       "      <td>10.000000</td>\n",
       "      <td>10.000000</td>\n",
       "      <td>10.000000</td>\n",
       "      <td>10.000000</td>\n",
       "      <td>10.000000</td>\n",
       "      <td>10.000000</td>\n",
       "      <td>10.000000</td>\n",
       "      <td>10.000000</td>\n",
       "    </tr>\n",
       "    <tr>\n",
       "      <th>mean</th>\n",
       "      <td>0.032355</td>\n",
       "      <td>0.032296</td>\n",
       "      <td>0.001733</td>\n",
       "      <td>0.001047</td>\n",
       "      <td>0.000723</td>\n",
       "      <td>0.001758</td>\n",
       "      <td>0.000597</td>\n",
       "      <td>0.000584</td>\n",
       "    </tr>\n",
       "    <tr>\n",
       "      <th>std</th>\n",
       "      <td>0.029892</td>\n",
       "      <td>0.029561</td>\n",
       "      <td>0.002620</td>\n",
       "      <td>0.001194</td>\n",
       "      <td>0.000463</td>\n",
       "      <td>0.002512</td>\n",
       "      <td>0.000780</td>\n",
       "      <td>0.000698</td>\n",
       "    </tr>\n",
       "    <tr>\n",
       "      <th>min</th>\n",
       "      <td>0.010990</td>\n",
       "      <td>0.011200</td>\n",
       "      <td>0.000287</td>\n",
       "      <td>0.000280</td>\n",
       "      <td>0.000123</td>\n",
       "      <td>0.000096</td>\n",
       "      <td>0.000088</td>\n",
       "      <td>0.000102</td>\n",
       "    </tr>\n",
       "    <tr>\n",
       "      <th>25%</th>\n",
       "      <td>0.014047</td>\n",
       "      <td>0.015345</td>\n",
       "      <td>0.000444</td>\n",
       "      <td>0.000339</td>\n",
       "      <td>0.000413</td>\n",
       "      <td>0.000239</td>\n",
       "      <td>0.000145</td>\n",
       "      <td>0.000178</td>\n",
       "    </tr>\n",
       "    <tr>\n",
       "      <th>50%</th>\n",
       "      <td>0.020857</td>\n",
       "      <td>0.020241</td>\n",
       "      <td>0.000879</td>\n",
       "      <td>0.000633</td>\n",
       "      <td>0.000718</td>\n",
       "      <td>0.000756</td>\n",
       "      <td>0.000265</td>\n",
       "      <td>0.000283</td>\n",
       "    </tr>\n",
       "    <tr>\n",
       "      <th>75%</th>\n",
       "      <td>0.035921</td>\n",
       "      <td>0.036435</td>\n",
       "      <td>0.001081</td>\n",
       "      <td>0.001020</td>\n",
       "      <td>0.000917</td>\n",
       "      <td>0.001243</td>\n",
       "      <td>0.000609</td>\n",
       "      <td>0.000597</td>\n",
       "    </tr>\n",
       "    <tr>\n",
       "      <th>max</th>\n",
       "      <td>0.107600</td>\n",
       "      <td>0.108333</td>\n",
       "      <td>0.008833</td>\n",
       "      <td>0.004113</td>\n",
       "      <td>0.001567</td>\n",
       "      <td>0.007247</td>\n",
       "      <td>0.002547</td>\n",
       "      <td>0.002373</td>\n",
       "    </tr>\n",
       "  </tbody>\n",
       "</table>\n",
       "</div>"
      ],
      "text/plain": [
       "              A+         O+    OtherA-   OtherAB+    OtherB+    OtherO-  \\\n",
       "count  10.000000  10.000000  10.000000  10.000000  10.000000  10.000000   \n",
       "mean    0.032355   0.032296   0.001733   0.001047   0.000723   0.001758   \n",
       "std     0.029892   0.029561   0.002620   0.001194   0.000463   0.002512   \n",
       "min     0.010990   0.011200   0.000287   0.000280   0.000123   0.000096   \n",
       "25%     0.014047   0.015345   0.000444   0.000339   0.000413   0.000239   \n",
       "50%     0.020857   0.020241   0.000879   0.000633   0.000718   0.000756   \n",
       "75%     0.035921   0.036435   0.001081   0.001020   0.000917   0.001243   \n",
       "max     0.107600   0.108333   0.008833   0.004113   0.001567   0.007247   \n",
       "\n",
       "       OtherOtherAB-  OtherOtherB-  \n",
       "count      10.000000     10.000000  \n",
       "mean        0.000597      0.000584  \n",
       "std         0.000780      0.000698  \n",
       "min         0.000088      0.000102  \n",
       "25%         0.000145      0.000178  \n",
       "50%         0.000265      0.000283  \n",
       "75%         0.000609      0.000597  \n",
       "max         0.002547      0.002373  "
      ]
     },
     "metadata": {},
     "output_type": "display_data"
    },
    {
     "data": {
      "application/vnd.jupyter.widget-view+json": {
       "model_id": "1148533062a84cf9ae1fc5a9d30b1730",
       "version_major": 2,
       "version_minor": 0
      },
      "text/plain": [
       "HTML(value=u'<h3> Error: error_relative')"
      ]
     },
     "metadata": {},
     "output_type": "display_data"
    },
    {
     "data": {
      "text/html": [
       "<div>\n",
       "<style scoped>\n",
       "    .dataframe tbody tr th:only-of-type {\n",
       "        vertical-align: middle;\n",
       "    }\n",
       "\n",
       "    .dataframe tbody tr th {\n",
       "        vertical-align: top;\n",
       "    }\n",
       "\n",
       "    .dataframe thead th {\n",
       "        text-align: right;\n",
       "    }\n",
       "</style>\n",
       "<table border=\"1\" class=\"dataframe\">\n",
       "  <thead>\n",
       "    <tr style=\"text-align: right;\">\n",
       "      <th></th>\n",
       "      <th>A+</th>\n",
       "      <th>O+</th>\n",
       "      <th>OtherA-</th>\n",
       "      <th>OtherAB+</th>\n",
       "      <th>OtherB+</th>\n",
       "      <th>OtherO-</th>\n",
       "      <th>OtherOtherAB-</th>\n",
       "      <th>OtherOtherB-</th>\n",
       "    </tr>\n",
       "  </thead>\n",
       "  <tbody>\n",
       "    <tr>\n",
       "      <th>count</th>\n",
       "      <td>10.000000</td>\n",
       "      <td>10.000000</td>\n",
       "      <td>10.000000</td>\n",
       "      <td>10.000000</td>\n",
       "      <td>10.000000</td>\n",
       "      <td>10.000000</td>\n",
       "      <td>10.000000</td>\n",
       "      <td>10.000000</td>\n",
       "    </tr>\n",
       "    <tr>\n",
       "      <th>mean</th>\n",
       "      <td>0.331682</td>\n",
       "      <td>0.337533</td>\n",
       "      <td>0.073986</td>\n",
       "      <td>0.052847</td>\n",
       "      <td>0.048538</td>\n",
       "      <td>0.064195</td>\n",
       "      <td>0.050265</td>\n",
       "      <td>0.061184</td>\n",
       "    </tr>\n",
       "    <tr>\n",
       "      <th>std</th>\n",
       "      <td>0.012636</td>\n",
       "      <td>0.021674</td>\n",
       "      <td>0.042695</td>\n",
       "      <td>0.023190</td>\n",
       "      <td>0.031958</td>\n",
       "      <td>0.049842</td>\n",
       "      <td>0.024314</td>\n",
       "      <td>0.038884</td>\n",
       "    </tr>\n",
       "    <tr>\n",
       "      <th>min</th>\n",
       "      <td>0.313829</td>\n",
       "      <td>0.301975</td>\n",
       "      <td>0.025873</td>\n",
       "      <td>0.018708</td>\n",
       "      <td>0.011845</td>\n",
       "      <td>0.011494</td>\n",
       "      <td>0.020958</td>\n",
       "      <td>0.014770</td>\n",
       "    </tr>\n",
       "    <tr>\n",
       "      <th>25%</th>\n",
       "      <td>0.323550</td>\n",
       "      <td>0.324924</td>\n",
       "      <td>0.037054</td>\n",
       "      <td>0.037531</td>\n",
       "      <td>0.025601</td>\n",
       "      <td>0.025730</td>\n",
       "      <td>0.024153</td>\n",
       "      <td>0.029364</td>\n",
       "    </tr>\n",
       "    <tr>\n",
       "      <th>50%</th>\n",
       "      <td>0.330565</td>\n",
       "      <td>0.337007</td>\n",
       "      <td>0.064606</td>\n",
       "      <td>0.047733</td>\n",
       "      <td>0.037330</td>\n",
       "      <td>0.053559</td>\n",
       "      <td>0.061416</td>\n",
       "      <td>0.055635</td>\n",
       "    </tr>\n",
       "    <tr>\n",
       "      <th>75%</th>\n",
       "      <td>0.334431</td>\n",
       "      <td>0.345355</td>\n",
       "      <td>0.103891</td>\n",
       "      <td>0.065041</td>\n",
       "      <td>0.067354</td>\n",
       "      <td>0.090141</td>\n",
       "      <td>0.070876</td>\n",
       "      <td>0.088039</td>\n",
       "    </tr>\n",
       "    <tr>\n",
       "      <th>max</th>\n",
       "      <td>0.352645</td>\n",
       "      <td>0.371127</td>\n",
       "      <td>0.138671</td>\n",
       "      <td>0.098272</td>\n",
       "      <td>0.101849</td>\n",
       "      <td>0.169262</td>\n",
       "      <td>0.077172</td>\n",
       "      <td>0.132633</td>\n",
       "    </tr>\n",
       "  </tbody>\n",
       "</table>\n",
       "</div>"
      ],
      "text/plain": [
       "              A+         O+    OtherA-   OtherAB+    OtherB+    OtherO-  \\\n",
       "count  10.000000  10.000000  10.000000  10.000000  10.000000  10.000000   \n",
       "mean    0.331682   0.337533   0.073986   0.052847   0.048538   0.064195   \n",
       "std     0.012636   0.021674   0.042695   0.023190   0.031958   0.049842   \n",
       "min     0.313829   0.301975   0.025873   0.018708   0.011845   0.011494   \n",
       "25%     0.323550   0.324924   0.037054   0.037531   0.025601   0.025730   \n",
       "50%     0.330565   0.337007   0.064606   0.047733   0.037330   0.053559   \n",
       "75%     0.334431   0.345355   0.103891   0.065041   0.067354   0.090141   \n",
       "max     0.352645   0.371127   0.138671   0.098272   0.101849   0.169262   \n",
       "\n",
       "       OtherOtherAB-  OtherOtherB-  \n",
       "count      10.000000     10.000000  \n",
       "mean        0.050265      0.061184  \n",
       "std         0.024314      0.038884  \n",
       "min         0.020958      0.014770  \n",
       "25%         0.024153      0.029364  \n",
       "50%         0.061416      0.055635  \n",
       "75%         0.070876      0.088039  \n",
       "max         0.077172      0.132633  "
      ]
     },
     "metadata": {},
     "output_type": "display_data"
    },
    {
     "data": {
      "text/plain": [
       "<Figure size 432x288 with 0 Axes>"
      ]
     },
     "metadata": {},
     "output_type": "display_data"
    }
   ],
   "source": [
    "fig = plt.figure()\n",
    "for question in subtrees:\n",
    "    for subquestion in subtrees[question]:\n",
    "        display(widgets.HTML('<h2> Boxplots for question: '+subquestion['question']))\n",
    "        fig.clear()\n",
    "        plt.xticks(fontsize = label_font_size, ha='center', rotation=xlabel_rotation)\n",
    "        plt.ylim(ylimit)\n",
    "        plt.tight_layout()\n",
    "        \n",
    "        display(widgets.HTML('<h3><i> Relative error'))\n",
    "        ax1 = fig.add_subplot(1, 1, 1)\n",
    "        ax1.set_title('\\n'.join(wrap('Question: '+subquestion['question'], 50)))\n",
    "        ax1.set_xlabel('Answer alternative')\n",
    "        ax1.set_ylabel('% error')\n",
    "        ax1.set_ylim(ylimit)\n",
    "        \n",
    "        sns.boxplot(ax=ax1,data=pd.DataFrame(data[question]['error_relative']),palette='pastel')\n",
    "        display(fig)\n",
    "        fig.clear()\n",
    "\n",
    "        display(widgets.HTML('<h3><i> Absolute error'))\n",
    "        \n",
    "        plt.xticks(fontsize = label_font_size, ha='center', rotation=xlabel_rotation)\n",
    "        plt.ylim(ylimit)\n",
    "        plt.tight_layout()\n",
    "        \n",
    "        ax2 = fig.add_subplot(1, 1, 1)\n",
    "        ax2.set_title('\\n'.join(wrap('Question: '+subquestion['question'], 50)))\n",
    "        ax2.set_xlabel('Answer alternative')\n",
    "        ax2.set_ylabel('Absolute error')\n",
    "        ax2.set_ylim(ylimit)\n",
    "        sns.boxplot(ax=ax2,data=pd.DataFrame(data[question]['error_absolute']),palette='pastel')\n",
    "\n",
    "        display(fig)\n",
    "        fig.clear()\n",
    "        \n",
    "\n",
    "    display(widgets.HTML('<h2><b> SUMMARY'))\n",
    "    for error in data[question].keys():\n",
    "        \n",
    "        display(widgets.HTML('<h3> Error: '+error)) \n",
    "\n",
    "        display(pd.DataFrame(data[question][error]).describe())\n",
    "\n",
    "    "
   ]
  },
  {
   "cell_type": "code",
   "execution_count": null,
   "metadata": {},
   "outputs": [],
   "source": []
  }
 ],
 "metadata": {
  "kernelspec": {
   "display_name": "Python 2",
   "language": "python",
   "name": "python2"
  },
  "language_info": {
   "codemirror_mode": {
    "name": "ipython",
    "version": 2
   },
   "file_extension": ".py",
   "mimetype": "text/x-python",
   "name": "python",
   "nbconvert_exporter": "python",
   "pygments_lexer": "ipython2",
   "version": "2.7.17"
  }
 },
 "nbformat": 4,
 "nbformat_minor": 2
}
