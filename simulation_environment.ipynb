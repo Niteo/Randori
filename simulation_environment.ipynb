{
 "cells": [
  {
   "cell_type": "code",
   "execution_count": 1,
   "metadata": {},
   "outputs": [],
   "source": [
    "import json\n",
    "import itertools\n",
    "from fractions import Fraction\n",
    "import numpy as np\n",
    "import pandas\n",
    "\n",
    "#GUI elements\n",
    "import ipywidgets as widgets\n",
    "from IPython.display import display, clear_output, HTML"
   ]
  },
  {
   "cell_type": "code",
   "execution_count": 2,
   "metadata": {},
   "outputs": [
    {
     "name": "stderr",
     "output_type": "stream",
     "text": [
      "\n",
      "----------------------------------------------------------------------\n",
      "Ran 0 tests in 0.000s\n",
      "\n",
      "OK\n"
     ]
    }
   ],
   "source": [
    "%run logic.ipynb\n",
    "%run participant.ipynb"
   ]
  },
  {
   "cell_type": "code",
   "execution_count": 3,
   "metadata": {},
   "outputs": [],
   "source": [
    "#Example JSON\n",
    "root_question = {'qid':0,\n",
    "'question': 'Q1',\n",
    "'answers': ['A','B','C'],\n",
    "'probability': ['1/3','1/3','1/3']}\n",
    "\n",
    "follow_up_1 = {'qid':1,\n",
    "'question': 'Follow-up...',\n",
    "'answers': ['1','2','3','4','5'],\n",
    "'probability': ['1/5','1/5','1/5','1/5','1/5']}\n",
    "\n",
    "paths = [[0,'C',1]]\n",
    "\n",
    "json_poll = {\n",
    "    'roots': [root_question],\n",
    "    'children': [follow_up_1],\n",
    "    'paths':paths,\n",
    "    'truth':['1/4']\n",
    "}"
   ]
  },
  {
   "cell_type": "code",
   "execution_count": 4,
   "metadata": {},
   "outputs": [],
   "source": [
    "answer_dist = {}\n",
    "poll_name = ''"
   ]
  },
  {
   "cell_type": "code",
   "execution_count": 5,
   "metadata": {},
   "outputs": [],
   "source": [
    "def loadJSON(change):\n",
    "    global json_poll\n",
    "    global poll_name\n",
    "    poll_name = file_selection.value \n",
    "    json_poll = getJSON(poll_name)\n",
    "\n",
    "def getJSON(name):\n",
    "    # Read JSON from files\n",
    "    json_file = open(name, 'r')\n",
    "    json_content = json_file.read()\n",
    "    return json.loads(json_content)"
   ]
  },
  {
   "cell_type": "code",
   "execution_count": 6,
   "metadata": {},
   "outputs": [],
   "source": [
    "def update_dist(change):\n",
    "    \n",
    "    current_accordion = dist_accordion.children[dist_accordion.selected_index]\n",
    "    dropdown = current_accordion.children[1]\n",
    "    active_sliders = current_accordion.children[2].children\n",
    "    \n",
    "    if dropdown.value != 'Custom':\n",
    "        shape_slider = current_accordion.children[3]\n",
    "\n",
    "        # Draw values from dist\n",
    "        values = distMap[dropdown.value](len(active_sliders),shape_slider.value)\n",
    "\n",
    "        for slider in active_sliders:\n",
    "\n",
    "            index = active_sliders.index(slider)\n",
    "            slider.value = np.round(values[index], decimals=sliders_precision)\n",
    "            \n",
    "     \n",
    "    #Save values\n",
    "    for slider in active_sliders:\n",
    "        index = active_sliders.index(slider)\n",
    "        answer_dist[dist_accordion.selected_index][index][dropdown.value] = slider.value\n",
    "\n",
    "        "
   ]
  },
  {
   "cell_type": "code",
   "execution_count": 7,
   "metadata": {},
   "outputs": [],
   "source": [
    "def dropdown_action(change):\n",
    "    current_accordion = dist_accordion.children[dist_accordion.selected_index]\n",
    "    dropdown = current_accordion.children[1]\n",
    "    shape_slider = current_accordion.children[3]\n",
    "    shape_slider.hold_trait_notifications()\n",
    "\n",
    "    # Update the shape slider according to the chosen distribution\n",
    "    if(dropdown.value is 'Uniform' or dropdown.value is 'Custom'):\n",
    "        shape_slider.disabled=True\n",
    "        shape_slider.layout.visibility='hidden'\n",
    "    else:\n",
    "\n",
    "        if(dropdown.value is 'Geom'):\n",
    "            shape_slider.step = 0.01\n",
    "            shape_slider.min = 0. + shape_slider.step\n",
    "            shape_slider.max = 1.\n",
    "            shape_slider.value = 0.5\n",
    "        elif(dropdown.value is 'Logser'):\n",
    "            shape_slider.step = 0.01\n",
    "            shape_slider.min = 0. + shape_slider.step\n",
    "            shape_slider.max = 1. - shape_slider.step\n",
    "            shape_slider.value = 0.6\n",
    "        elif(dropdown.value is 'Planck'):\n",
    "            shape_slider.step = 0.01\n",
    "            shape_slider.min = 0. + shape_slider.step\n",
    "            shape_slider.max = 1.\n",
    "            shape_slider.value = 0.51\n",
    "        elif(dropdown.value is 'Zipf'):\n",
    "            shape_slider.max = 10.\n",
    "            shape_slider.step = 0.01\n",
    "            shape_slider.min = 1. + shape_slider.step\n",
    "            shape_slider.value = 1.5\n",
    "\n",
    "        shape_slider.disabled=False\n",
    "        shape_slider.layout.visibility='visible'\n",
    "        \n",
    "    #Reset values\n",
    "    active_sliders = current_accordion.children[2].children   \n",
    "     \n",
    "    for slider in active_sliders:\n",
    "        index = active_sliders.index(slider)\n",
    "        \n",
    "        val = dropdown.value\n",
    "        if val not in answer_dist[dist_accordion.selected_index][index].keys():\n",
    "            update_dist(None)\n",
    "        slider.value = answer_dist[dist_accordion.selected_index][index][val]"
   ]
  },
  {
   "cell_type": "code",
   "execution_count": 8,
   "metadata": {},
   "outputs": [
    {
     "data": {
      "application/javascript": [
       "IPython.OutputArea.auto_scroll_threshold = 9999;"
      ],
      "text/plain": [
       "<IPython.core.display.Javascript object>"
      ]
     },
     "metadata": {},
     "output_type": "display_data"
    },
    {
     "data": {
      "text/html": [
       "<style>\n",
       ".jupyter-widgets.widget-tab > .p-TabBar .p-TabBar-tab {\n",
       "    flex: 0 1 180px\n",
       "}\n",
       "</style>"
      ],
      "text/plain": [
       "<IPython.core.display.HTML object>"
      ]
     },
     "metadata": {},
     "output_type": "display_data"
    }
   ],
   "source": [
    "%run gui_components.ipynb"
   ]
  },
  {
   "cell_type": "code",
   "execution_count": 9,
   "metadata": {},
   "outputs": [
    {
     "data": {
      "application/vnd.jupyter.widget-view+json": {
       "model_id": "9092c2e2eb874ae8b13ead2d60b61008",
       "version_major": 2,
       "version_minor": 0
      },
      "text/plain": [
       "HTML(value=u'<center><h1> Choose Parameters')"
      ]
     },
     "metadata": {},
     "output_type": "display_data"
    },
    {
     "data": {
      "application/vnd.jupyter.widget-view+json": {
       "model_id": "a11932fe00404f3b9255183400255311",
       "version_major": 2,
       "version_minor": 0
      },
      "text/plain": [
       "VGFiKGNoaWxkcmVuPShIQm94KGNoaWxkcmVuPShWQm94KGNoaWxkcmVuPShMYWJlbCh2YWx1ZT11J0lucHV0IEpTT046JyksIFNlbGVjdChvcHRpb25zPSgnYmxvb2QuanNvbicsKSwgdmFsdWXigKY=\n"
      ]
     },
     "metadata": {},
     "output_type": "display_data"
    }
   ],
   "source": [
    "display(widgets.HTML('<center><h1> Choose Parameters'))\n",
    "load_button.on_click(loadJSON)\n",
    "display(start_tab)"
   ]
  },
  {
   "cell_type": "code",
   "execution_count": 15,
   "metadata": {},
   "outputs": [],
   "source": [
    "# Distribution sliders per question (non-flattened)\n",
    "children = []\n",
    "\n",
    "subtrees = pollToSubtrees(json_poll)\n",
    "for question in subtrees:\n",
    "    for subquestion in subtrees[question]:\n",
    "        dist_accordion.set_title(subquestion['qid'], 'Question: '+subquestion['question'])\n",
    "        html = widgets.HTML('<h3>Choose weight distribution...</h3>')\n",
    "        to_add = []\n",
    "        answer_dist[subquestion['qid']] = {}\n",
    "        \n",
    "        count = 0\n",
    "        for answer in subquestion['answers']:\n",
    "            probability = subquestion['probability'][count]\n",
    "            to_add.append(widgets.FloatSlider(\n",
    "                value=probability,\n",
    "                min=0,\n",
    "                max=1.0,\n",
    "                step=0.01,\n",
    "                description=answer,\n",
    "                disabled=False,\n",
    "                continuous_update=False,\n",
    "                orientation='vertical',\n",
    "                readout=True,\n",
    "                readout_format='.1f',\n",
    "            ))\n",
    "            answer_dist[subquestion['qid']][count] = {'Custom': probability}\n",
    "            count +=1\n",
    "        \n",
    "        #Components\n",
    "        _shape_slider = widgets.FloatSlider(min=0., max=5., step=0.1, value=0., continuous_update=False, description='Shape', disabled=True) \n",
    "        _dropdown = widgets.Dropdown(options=dists, value='Custom', description='Distribution:', disabled=False)\n",
    "        _button = widgets.Button(description='Update weights', icon='fa-bar-chart', button_style='success')\n",
    "        \n",
    "        #Actions\n",
    "        _button.on_click(update_dist)\n",
    "        _dropdown.observe(dropdown_action)\n",
    "        \n",
    "        contents =[html, _dropdown, widgets.HBox(to_add),_shape_slider, _button]\n",
    "        children.append( widgets.VBox(contents))\n",
    "        \n",
    "dist_accordion.children = children\n",
    "dist_box = widgets.VBox([dist_accordion])"
   ]
  },
  {
   "cell_type": "code",
   "execution_count": 16,
   "metadata": {},
   "outputs": [
    {
     "data": {
      "application/vnd.jupyter.widget-view+json": {
       "model_id": "ed5b7079b4544255916528545726e8fa",
       "version_major": 2,
       "version_minor": 0
      },
      "text/plain": [
       "HTML(value=u'<center><h1> Set <i>True</i> Answer Distribution</h1></center>')"
      ]
     },
     "metadata": {},
     "output_type": "display_data"
    },
    {
     "data": {
      "application/vnd.jupyter.widget-view+json": {
       "model_id": "81b3c3ed8f3243d8abb1af451b0ebdae",
       "version_major": 2,
       "version_minor": 0
      },
      "text/plain": [
       "QWNjb3JkaW9uKGNoaWxkcmVuPShWQm94KGNoaWxkcmVuPShIVE1MKHZhbHVlPXUnPGgzPkNob29zZSB3ZWlnaHQgZGlzdHJpYnV0aW9uLi4uPC9oMz4nKSwgRHJvcGRvd24oZGVzY3JpcHRpb27igKY=\n"
      ]
     },
     "metadata": {},
     "output_type": "display_data"
    }
   ],
   "source": [
    "display(widgets.HTML('<center><h1> Set <i>True</i> Answer Distribution</h1></center>'))\n",
    "display(dist_accordion)\n",
    "dropdown_action(None)"
   ]
  },
  {
   "cell_type": "code",
   "execution_count": 17,
   "metadata": {},
   "outputs": [],
   "source": [
    "matrices = pollToMatrix(json_poll)\n",
    "epsilons = pollToEpsilon(json_poll)\n",
    "ps = pollToPaths(json_poll)"
   ]
  },
  {
   "cell_type": "code",
   "execution_count": 18,
   "metadata": {},
   "outputs": [],
   "source": [
    "selected = {}\n",
    "for question in subtrees:\n",
    "    selected[question] = {}\n",
    "    for subquestion in subtrees[question]:\n",
    "        selected[question][subquestion['qid']] = []\n",
    "        current_box = dist_accordion.children[subquestion['qid']].children\n",
    "        current_dropdown = current_box[1]\n",
    "        current_sliders = current_box[2].children\n",
    "  \n",
    "        #NORMALIZE SLIDER VALUES BEFORE MOVING ON\n",
    "        normalize_by = 0\n",
    "        for slider in current_sliders:\n",
    "            index = current_sliders.index(slider)\n",
    "            normalize_by+= answer_dist[subquestion['qid']][index][current_dropdown.value]\n",
    "\n",
    "        for slider in current_sliders:\n",
    "            index = current_sliders.index(slider)\n",
    "            value = answer_dist[subquestion['qid']][index][current_dropdown.value]/normalize_by\n",
    "            selected[question][subquestion['qid']].append(value)\n",
    "            \n",
    "\n",
    "\n",
    "# Find matching path\n",
    "# {qid: (Path, Fraction)}"
   ]
  },
  {
   "cell_type": "code",
   "execution_count": 19,
   "metadata": {},
   "outputs": [],
   "source": [
    "# Turn slides to JSON, then parse to find path-weight pairs\n",
    "\n",
    "#FIXME: Don't overwrite actual json_poll, do deep copy!\n",
    " \n",
    "dist_poll = getJSON(poll_name)\n",
    "\n",
    "for question in subtrees:\n",
    "    root = filter(lambda x: x['qid']==question, dist_poll['roots'])[0]\n",
    "    root['probability'] = selected[question][question]\n",
    "    \n",
    "    for subquestion in subtrees[question]:\n",
    "        # Roots have already been added, will also return empty list so ignore\n",
    "        question_struct = filter(lambda x: x['qid']==subquestion['qid'], dist_poll['children'])\n",
    "        if len(question_struct) > 0:\n",
    "            question_struct[0]['probability'] = selected[question][subquestion['qid']]\n",
    "            \n",
    "            \n",
    "weights = pollToPathWeights(dist_poll)"
   ]
  },
  {
   "cell_type": "code",
   "execution_count": 26,
   "metadata": {},
   "outputs": [],
   "source": [
    "ans_dist_zip = {}\n",
    "for question in ps.keys():\n",
    "    paths = ps[question]\n",
    "    weight = weights[question]\n",
    "    zipped = []\n",
    "    for path in paths:\n",
    "        zipped.append((path, weights[question][pathToKey(path)]))\n",
    "\n",
    "    ans_dist_zip[question] = zipped"
   ]
  },
  {
   "cell_type": "code",
   "execution_count": 27,
   "metadata": {},
   "outputs": [],
   "source": [
    "# Add widget"
   ]
  },
  {
   "cell_type": "code",
   "execution_count": 111,
   "metadata": {},
   "outputs": [],
   "source": [
    "participants = []\n",
    "n = 10000\n",
    "participant_budget = 40\n",
    "runs = 10\n",
    "relative_error = {}\n",
    "absolute_error = {}\n",
    "\n",
    "#TODO: Loop x times for confidence\n",
    "for run in range(0, runs):\n",
    "    raw_responses = []\n",
    "    real_answers = []\n",
    "\n",
    "    #Initialize partitipants and run RR\n",
    "    for i in range(0, n):\n",
    "        new_participant = Participant(participant_budget, json_poll)\n",
    "        new_participant.setMatrices(matrices)\n",
    "        new_participant.setEpsilons(epsilons)\n",
    "        new_participant.createAnswer(ans_dist_zip)\n",
    "\n",
    "        real_answers.append(dict(new_participant.getAnswer())) #Beware: deep copy required!\n",
    "        raw_responses.append(new_participant.randomizedResponse())\n",
    "\n",
    "        participants.append(new_participant)\n",
    "\n",
    "    # Parse responses\n",
    "    lists_responses = {}\n",
    "    lists_answer = {}\n",
    "    for question in subtrees.keys():\n",
    "        lists_responses[question] = map(lambda x: pathToKey(x[question]), raw_responses)\n",
    "        lists_answer[question] = map(lambda x: pathToKey(x[question]), real_answers)\n",
    "\n",
    "    response_frame = pd.DataFrame(lists_responses)\n",
    "    response_frequency = {}\n",
    "    answer_frame = pd.DataFrame(lists_answer)\n",
    "    answer_frequency = {}\n",
    "\n",
    "    #Count occurences\n",
    "    for question in subtrees.keys():\n",
    "        response_frequency[question] = {}\n",
    "        answer_frequency[question] = {}\n",
    "\n",
    "        to_match = pd.unique(response_frame[question])\n",
    "        for match in to_match:\n",
    "            response_frequency[question][match] = len(response_frame[response_frame[question]==match])\n",
    "            answer_frequency[question][match] = len(answer_frame[answer_frame[question]==match])\n",
    "\n",
    "    #Filter with Bayes' theorem\n",
    "    for question in response_frequency.keys():\n",
    "        absolute_error[question] = {}\n",
    "        relative_error[question] = {}\n",
    "        #P(True)\n",
    "        p_true = Fraction(json_poll['truth'][question])\n",
    "\n",
    "        #Bayes' theorem: p(A|True) = p(True|A)*p(A) / p(True)\n",
    "        for alternative in response_frequency[question].keys():\n",
    "            transition = (alternative, alternative)\n",
    "            #p(True|A), Probability of not changing answer\n",
    "            p_true_given_a = matrices[question][transition]\n",
    "            #p(A), Actual responses\n",
    "            p_a = float(response_frequency[question][alternative])/len(participants) #Convert to %\n",
    "\n",
    "            #p(A|True) = p(True|A)*p(A) / p(True)\n",
    "            p_a_given_true = (p_true_given_a*p_a)/p_true\n",
    "            \n",
    "            real_percentage = float(answer_frequency[question][alternative])/len(participants)\n",
    "\n",
    "            abs_diff = abs(p_a_given_true-real_percentage)\n",
    "            rel_diff = 100\n",
    "            if real_percentage != 0:\n",
    "                rel_diff = abs_diff/real_percentage\n",
    "            \n",
    "            absolute_error[question][alternative] = abs_diff\n",
    "            relative_error[question][alternative] = rel_diff\n"
   ]
  },
  {
   "cell_type": "code",
   "execution_count": 113,
   "metadata": {},
   "outputs": [
    {
     "data": {
      "text/html": [
       "<div>\n",
       "<style scoped>\n",
       "    .dataframe tbody tr th:only-of-type {\n",
       "        vertical-align: middle;\n",
       "    }\n",
       "\n",
       "    .dataframe tbody tr th {\n",
       "        vertical-align: top;\n",
       "    }\n",
       "\n",
       "    .dataframe thead th {\n",
       "        text-align: right;\n",
       "    }\n",
       "</style>\n",
       "<table border=\"1\" class=\"dataframe\">\n",
       "  <thead>\n",
       "    <tr style=\"text-align: right;\">\n",
       "      <th></th>\n",
       "      <th>0</th>\n",
       "    </tr>\n",
       "  </thead>\n",
       "  <tbody>\n",
       "    <tr>\n",
       "      <th>A+</th>\n",
       "      <td>0.011280</td>\n",
       "    </tr>\n",
       "    <tr>\n",
       "      <th>O+</th>\n",
       "      <td>0.010857</td>\n",
       "    </tr>\n",
       "    <tr>\n",
       "      <th>OtherA-</th>\n",
       "      <td>0.000016</td>\n",
       "    </tr>\n",
       "    <tr>\n",
       "      <th>OtherAB+</th>\n",
       "      <td>0.000831</td>\n",
       "    </tr>\n",
       "    <tr>\n",
       "      <th>OtherB+</th>\n",
       "      <td>0.000515</td>\n",
       "    </tr>\n",
       "    <tr>\n",
       "      <th>OtherO-</th>\n",
       "      <td>0.000688</td>\n",
       "    </tr>\n",
       "    <tr>\n",
       "      <th>OtherOtherAB-</th>\n",
       "      <td>0.000021</td>\n",
       "    </tr>\n",
       "    <tr>\n",
       "      <th>OtherOtherB-</th>\n",
       "      <td>0.000115</td>\n",
       "    </tr>\n",
       "  </tbody>\n",
       "</table>\n",
       "</div>"
      ],
      "text/plain": [
       "                      0\n",
       "A+             0.011280\n",
       "O+             0.010857\n",
       "OtherA-        0.000016\n",
       "OtherAB+       0.000831\n",
       "OtherB+        0.000515\n",
       "OtherO-        0.000688\n",
       "OtherOtherAB-  0.000021\n",
       "OtherOtherB-   0.000115"
      ]
     },
     "execution_count": 113,
     "metadata": {},
     "output_type": "execute_result"
    }
   ],
   "source": [
    "pd.DataFrame(absolute_error)"
   ]
  },
  {
   "cell_type": "code",
   "execution_count": 112,
   "metadata": {},
   "outputs": [
    {
     "data": {
      "text/html": [
       "<div>\n",
       "<style scoped>\n",
       "    .dataframe tbody tr th:only-of-type {\n",
       "        vertical-align: middle;\n",
       "    }\n",
       "\n",
       "    .dataframe tbody tr th {\n",
       "        vertical-align: top;\n",
       "    }\n",
       "\n",
       "    .dataframe thead th {\n",
       "        text-align: right;\n",
       "    }\n",
       "</style>\n",
       "<table border=\"1\" class=\"dataframe\">\n",
       "  <thead>\n",
       "    <tr style=\"text-align: right;\">\n",
       "      <th></th>\n",
       "      <th>0</th>\n",
       "    </tr>\n",
       "  </thead>\n",
       "  <tbody>\n",
       "    <tr>\n",
       "      <th>A+</th>\n",
       "      <td>0.339350</td>\n",
       "    </tr>\n",
       "    <tr>\n",
       "      <th>O+</th>\n",
       "      <td>0.321108</td>\n",
       "    </tr>\n",
       "    <tr>\n",
       "      <th>OtherA-</th>\n",
       "      <td>0.002247</td>\n",
       "    </tr>\n",
       "    <tr>\n",
       "      <th>OtherAB+</th>\n",
       "      <td>0.133440</td>\n",
       "    </tr>\n",
       "    <tr>\n",
       "      <th>OtherB+</th>\n",
       "      <td>0.074374</td>\n",
       "    </tr>\n",
       "    <tr>\n",
       "      <th>OtherO-</th>\n",
       "      <td>0.117808</td>\n",
       "    </tr>\n",
       "    <tr>\n",
       "      <th>OtherOtherAB-</th>\n",
       "      <td>0.006176</td>\n",
       "    </tr>\n",
       "    <tr>\n",
       "      <th>OtherOtherB-</th>\n",
       "      <td>0.033333</td>\n",
       "    </tr>\n",
       "  </tbody>\n",
       "</table>\n",
       "</div>"
      ],
      "text/plain": [
       "                      0\n",
       "A+             0.339350\n",
       "O+             0.321108\n",
       "OtherA-        0.002247\n",
       "OtherAB+       0.133440\n",
       "OtherB+        0.074374\n",
       "OtherO-        0.117808\n",
       "OtherOtherAB-  0.006176\n",
       "OtherOtherB-   0.033333"
      ]
     },
     "execution_count": 112,
     "metadata": {},
     "output_type": "execute_result"
    }
   ],
   "source": [
    "pd.DataFrame(relative_error)"
   ]
  },
  {
   "cell_type": "code",
   "execution_count": 85,
   "metadata": {},
   "outputs": [],
   "source": [
    "\n",
    "#TODO: display graphs"
   ]
  },
  {
   "cell_type": "code",
   "execution_count": null,
   "metadata": {},
   "outputs": [],
   "source": []
  }
 ],
 "metadata": {
  "kernelspec": {
   "display_name": "Python 2",
   "language": "python",
   "name": "python2"
  },
  "language_info": {
   "codemirror_mode": {
    "name": "ipython",
    "version": 2
   },
   "file_extension": ".py",
   "mimetype": "text/x-python",
   "name": "python",
   "nbconvert_exporter": "python",
   "pygments_lexer": "ipython2",
   "version": "2.7.17"
  }
 },
 "nbformat": 4,
 "nbformat_minor": 2
}
