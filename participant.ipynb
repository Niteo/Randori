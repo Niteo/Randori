{
 "cells": [
  {
   "cell_type": "code",
   "execution_count": 1,
   "metadata": {},
   "outputs": [],
   "source": [
    "import numpy\n",
    "import numpy.random as rnd\n",
    "import json\n",
    "import pandas as pd\n",
    "import itertools"
   ]
  },
  {
   "cell_type": "code",
   "execution_count": 2,
   "metadata": {},
   "outputs": [
    {
     "name": "stderr",
     "output_type": "stream",
     "text": [
      "\n",
      "----------------------------------------------------------------------\n",
      "Ran 0 tests in 0.000s\n",
      "\n",
      "OK\n"
     ]
    }
   ],
   "source": [
    "%run logic.ipynb"
   ]
  },
  {
   "cell_type": "code",
   "execution_count": 3,
   "metadata": {},
   "outputs": [],
   "source": [
    "class Participant:\n",
    "    poll = None\n",
    "    matrices = None\n",
    "    epsilons = None\n",
    "    budget = 0.\n",
    "    cost = 0\n",
    "    \n",
    "    real_answer = {}\n",
    "    \n",
    "    def __init__(self, budget, poll):\n",
    "        self.budget = budget # Initial privacy budget\n",
    "        self.poll = poll\n",
    "        \n",
    "    def setMatrices(self, matrices):\n",
    "        self.matrices = matrices\n",
    "        \n",
    "    def setEpsilons(self, epsilons):\n",
    "        self.epsilons = epsilons\n",
    "        self.cost = sum([self.epsilons[x] for x in self.epsilons.keys()])\n",
    "        \n",
    "    def createAnswers(self, ans_dist_dict): # ans_dist_dict = {qid:(Path, Fraction)}\n",
    "        \n",
    "        for question in ans_dist_dict.keys():\n",
    "            answer_space, dist = zip(*ans_dist_dict[question].items())\n",
    "            self.real_answer[question] = rnd.choice(answer_space, p=dist)\n",
    "            \n",
    "    def setAnswers(self, answers): # answers = {qid:path}\n",
    "        for question in answers.keys():\n",
    "            self.real_answer[question] = answers[question]\n",
    "            \n",
    "    def getAnswer(self):\n",
    "        return self.real_answer\n",
    "        \n",
    "    def randomizedResponse(self):\n",
    "        \n",
    "        # Only reply if we can afford it\n",
    "        responses = {}\n",
    "        \n",
    "        if (self.cost <= self.budget):\n",
    "            self.budget = self.budget - self.cost\n",
    "            \n",
    "            for question in self.matrices.keys():\n",
    "                rr_input = self.real_answer[question]\n",
    "                transitions = [(x, a) for (x, a) in matrices[question].keys() if x==rr_input]\n",
    "                probabilities = [matrices[question][t] for t in transitions]\n",
    "                response_space = [out for (x, out) in transitions]\n",
    "                \n",
    "                response = rnd.choice(response_space, p=probabilities)\n",
    "                responses[question] = response\n",
    "            \n",
    "            return responses\n",
    "        \n",
    "        # Budgets are public, so we can refuse to answer without leaking information\n",
    "        return None\n",
    "    \n",
    "    def getTrueAnswers(self):\n",
    "        return self.real_answer\n",
    "    \n",
    "    "
   ]
  },
  {
   "cell_type": "markdown",
   "metadata": {},
   "source": [
    "# Answer according to dist\n",
    "matrices = pollToMatrix(_example_json_poll)\n",
    "epsilons = pollToEpsilon(_example_json_poll)\n",
    "\n",
    "participant = Participant(120, _example_json_poll)\n",
    "participant.setMatrices(matrices)\n",
    "participant.setEpsilons(epsilons)\n",
    "\n",
    "weights = pollToPathWeights(_example_json_poll)\n",
    "ps = pollToPaths(_example_json_poll)\n",
    "\n",
    "ans_dist_zip = {}\n",
    "for question in ps.keys():\n",
    "    paths = ps[question]\n",
    "    weight = weights[question]\n",
    "    zipped = []\n",
    "    for path in paths:\n",
    "         zipped.append((path, weight[pathToKey(path)]))\n",
    "    ans_dist_zip[question] = zipped\n",
    "\n",
    "participant.createAnswer(ans_dist_zip)\n",
    "print participant.real_answer\n",
    "\n",
    "participant.randomizedResponse()"
   ]
  },
  {
   "cell_type": "markdown",
   "metadata": {},
   "source": [
    "# Given answer\n",
    "matrices = pollToMatrix(_example_json_poll)\n",
    "epsilons = pollToEpsilon(_example_json_poll)\n",
    "\n",
    "participant = Participant(120, _example_json_poll)\n",
    "participant.setMatrices(matrices)\n",
    "participant.setEpsilons(epsilons)\n",
    "\n",
    "paths = pollToPaths(_example_json_poll)\n",
    "\n",
    "answers = {}\n",
    "for question in paths:\n",
    "    answers[question] = rnd.choice(paths[question])\n",
    "\n",
    "participant.setAnswers(answers)\n",
    "print participant.real_answer\n",
    "participant.randomizedResponse()"
   ]
  }
 ],
 "metadata": {
  "kernelspec": {
   "display_name": "Python 2",
   "language": "python",
   "name": "python2"
  },
  "language_info": {
   "codemirror_mode": {
    "name": "ipython",
    "version": 2
   },
   "file_extension": ".py",
   "mimetype": "text/x-python",
   "name": "python",
   "nbconvert_exporter": "python",
   "pygments_lexer": "ipython2",
   "version": "2.7.17"
  }
 },
 "nbformat": 4,
 "nbformat_minor": 1
}
