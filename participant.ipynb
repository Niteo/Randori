{
 "cells": [
  {
   "cell_type": "code",
   "execution_count": 1,
   "metadata": {},
   "outputs": [],
   "source": [
    "import numpy\n",
    "import numpy.random as rnd\n",
    "import json\n",
    "import pandas as pd\n",
    "import itertools"
   ]
  },
  {
   "cell_type": "code",
   "execution_count": 2,
   "metadata": {},
   "outputs": [
    {
     "name": "stderr",
     "output_type": "stream",
     "text": [
      "\n",
      "----------------------------------------------------------------------\n",
      "Ran 0 tests in 0.000s\n",
      "\n",
      "OK\n"
     ]
    }
   ],
   "source": [
    "%run logic.ipynb"
   ]
  },
  {
   "cell_type": "markdown",
   "metadata": {},
   "source": [
    "matrices = pollToMatrix(example_json_poll)\n",
    "weights = pollToPathWeights(example_json_poll)\n",
    "answer = None\n",
    "for question in matrices:\n",
    "    space = answer_space[question]\n",
    "    temp = weights[question]\n",
    "    p = []\n",
    "    \n",
    "    for elem in space:\n",
    "        path = None\n",
    "        \n",
    "        # Find concatenated version\n",
    "        key = pathToKey(elem)\n",
    "        p.append(temp[key])\n",
    "  \n",
    "     answer = rnd.choice(space, p=p)"
   ]
  },
  {
   "cell_type": "code",
   "execution_count": 3,
   "metadata": {},
   "outputs": [],
   "source": [
    "class Participant:\n",
    "    poll = None\n",
    "    matrices = None\n",
    "    epsilons = None\n",
    "    budget = 0.\n",
    "    cost = 0\n",
    "    \n",
    "    real_answer = None\n",
    "    \n",
    "    def __init__(self, budget, poll):\n",
    "        self.budget = budget # Initial privacy budget\n",
    "        self.poll = poll\n",
    "        \n",
    "        self.matrices = pollToMatrix(poll)\n",
    "        self.epsilons = pollToEpsilon(poll)\n",
    "        \n",
    "        self.cost = sum([self.epsilons[x] for x in self.epsilons.keys()])\n",
    "        \n",
    "    def createAnswer(self):\n",
    "        matrices = pollToMatrix(self.poll)\n",
    "        answer_space = pollToPaths(self.poll)\n",
    "        weights = pollToPathWeights(self.poll)\n",
    "        answer = None\n",
    "        for question in matrices:\n",
    "            space = answer_space[question]\n",
    "            temp = weights[question]\n",
    "            p = []\n",
    "\n",
    "            for elem in space:\n",
    "                path = None\n",
    "\n",
    "                # Find concatenated version\n",
    "                key = pathToKey(elem)\n",
    "                p.append(temp[key])\n",
    "\n",
    "            self.real_answer = rnd.choice(space, p=p)\n",
    "        \n",
    "    def reply(self):\n",
    "        \n",
    "        # Only reply if we can afford it\n",
    "        if (self.cost <= self.budget):\n",
    "            self.budget = self.budget - self.cost\n",
    "\n",
    "            \n",
    "            #return replies\n",
    "        \n",
    "        # Budgets are public, so we can refuse to answer without leaking information\n",
    "        return None\n",
    "    \n",
    "    def getTrueAnswers(self):\n",
    "        tempFrame = pd.DataFrame(self.realAnswers, index=[0])\n",
    "        return tempFrame.to_json(orient='records')\n",
    "    \n",
    "    "
   ]
  },
  {
   "cell_type": "code",
   "execution_count": 4,
   "metadata": {},
   "outputs": [
    {
     "data": {
      "text/plain": [
       "['Other', 'AB+']"
      ]
     },
     "execution_count": 4,
     "metadata": {},
     "output_type": "execute_result"
    }
   ],
   "source": [
    "participant = Participant(40, example_json_poll)\n",
    "participant.createAnswer()\n",
    "participant.real_answer"
   ]
  }
 ],
 "metadata": {
  "kernelspec": {
   "display_name": "Python 2",
   "language": "python",
   "name": "python2"
  },
  "language_info": {
   "codemirror_mode": {
    "name": "ipython",
    "version": 2
   },
   "file_extension": ".py",
   "mimetype": "text/x-python",
   "name": "python",
   "nbconvert_exporter": "python",
   "pygments_lexer": "ipython2",
   "version": "2.7.17"
  }
 },
 "nbformat": 4,
 "nbformat_minor": 1
}
