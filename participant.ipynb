{
 "cells": [
  {
   "cell_type": "code",
   "execution_count": 1,
   "metadata": {},
   "outputs": [],
   "source": [
    "import numpy\n",
    "import numpy.random as rnd\n",
    "import json\n",
    "import pandas as pd\n",
    "import itertools"
   ]
  },
  {
   "cell_type": "code",
   "execution_count": 2,
   "metadata": {},
   "outputs": [
    {
     "name": "stderr",
     "output_type": "stream",
     "text": [
      "\n",
      "----------------------------------------------------------------------\n",
      "Ran 0 tests in 0.000s\n",
      "\n",
      "OK\n"
     ]
    }
   ],
   "source": [
    "%run logic.ipynb"
   ]
  },
  {
   "cell_type": "code",
   "execution_count": null,
   "metadata": {},
   "outputs": [],
   "source": [
    "class Participant:\n",
    "    poll = None\n",
    "    matrices = None\n",
    "    epsilons = None\n",
    "    budget = 0.\n",
    "    cost = 0\n",
    "    \n",
    "    real_answer = {}\n",
    "    \n",
    "    def __init__(self, budget, poll):\n",
    "        self.budget = budget # Initial privacy budget\n",
    "        self.poll = poll\n",
    "        \n",
    "        self.matrices = pollToMatrix(poll)\n",
    "        self.epsilons = pollToEpsilon(poll)\n",
    "        \n",
    "        self.cost = sum([self.epsilons[x] for x in self.epsilons.keys()])\n",
    "        \n",
    "    def createAnswer(self):\n",
    "        matrices = pollToMatrix(self.poll)\n",
    "        answer_space = pollToPaths(self.poll)\n",
    "        weights = pollToPathWeights(self.poll)\n",
    "        answer = None\n",
    "        for question in matrices:\n",
    "            space = answer_space[question]\n",
    "            temp = weights[question]\n",
    "            p = []\n",
    "\n",
    "            for elem in space:\n",
    "                path = None\n",
    "\n",
    "                # Find concatenated version\n",
    "                key = pathToKey(elem)\n",
    "                p.append(temp[key])\n",
    "\n",
    "            self.real_answer[question] = rnd.choice(space, p=p)\n",
    "        \n",
    "    def randomizedResponse(self):\n",
    "        \n",
    "        # Only reply if we can afford it\n",
    "        responses = {}\n",
    "        answer_space = pollToPaths(self.poll)\n",
    "        \n",
    "        if (self.cost <= self.budget):\n",
    "            self.budget = self.budget - self.cost\n",
    "            \n",
    "            for question in self.matrices.keys():\n",
    "                transitions = self.matrices[question]\n",
    "                match = pathToKey(self.real_answer[question])\n",
    "\n",
    "                row = {}\n",
    "                for (_input, _output) in transitions.keys():\n",
    "                    if match == _input:\n",
    "                        row[_output] = transitions[(_input, _output)]\n",
    "\n",
    "                p=[]        \n",
    "                for ans in answer_space[question]:\n",
    "                    # Match tuples, should be zip:able\n",
    "                    # zip(answer_space[0], p)\n",
    "                    p.append(row[pathToKey(ans)])\n",
    "                response = rnd.choice(answer_space[question], p=p)\n",
    "                responses[question] = response\n",
    "                \n",
    "            return responses\n",
    "        \n",
    "        # Budgets are public, so we can refuse to answer without leaking information\n",
    "        return None\n",
    "    \n",
    "    def getTrueAnswers(self):\n",
    "        return self.real_answer\n",
    "    \n",
    "    "
   ]
  },
  {
   "cell_type": "markdown",
   "metadata": {},
   "source": [
    "participant = Participant(120, example_json_poll)\n",
    "participant.createAnswer()\n",
    "print participant.real_answer\n",
    "\n",
    "participant.randomizedResponse()"
   ]
  }
 ],
 "metadata": {
  "kernelspec": {
   "display_name": "Python 2",
   "language": "python",
   "name": "python2"
  },
  "language_info": {
   "codemirror_mode": {
    "name": "ipython",
    "version": 2
   },
   "file_extension": ".py",
   "mimetype": "text/x-python",
   "name": "python",
   "nbconvert_exporter": "python",
   "pygments_lexer": "ipython2",
   "version": "2.7.17"
  }
 },
 "nbformat": 4,
 "nbformat_minor": 1
}
